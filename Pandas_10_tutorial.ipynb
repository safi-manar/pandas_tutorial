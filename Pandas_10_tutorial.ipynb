{
 "cells": [
  {
   "cell_type": "markdown",
   "metadata": {},
   "source": [
    "Code runthrough for Pandas tutorial, located at: http://pandas.pydata.org/pandas-docs/stable/10min.html#min"
   ]
  },
  {
   "cell_type": "code",
   "execution_count": 82,
   "metadata": {
    "collapsed": true
   },
   "outputs": [],
   "source": [
    "# Imports\n",
    "\n",
    "import pandas as pd\n",
    "import numpy as np\n",
    "import matplotlib.pyplot as plt"
   ]
  },
  {
   "cell_type": "markdown",
   "metadata": {},
   "source": [
    "# Object Creation"
   ]
  },
  {
   "cell_type": "code",
   "execution_count": 83,
   "metadata": {
    "collapsed": false
   },
   "outputs": [
    {
     "data": {
      "text/plain": [
       "0    1.0\n",
       "1    3.0\n",
       "2    5.0\n",
       "3    NaN\n",
       "4    6.0\n",
       "5    8.0\n",
       "dtype: float64"
      ]
     },
     "execution_count": 83,
     "metadata": {},
     "output_type": "execute_result"
    }
   ],
   "source": [
    "s = pd.Series([1,3,5,np.nan,6,8])\n",
    "s"
   ]
  },
  {
   "cell_type": "code",
   "execution_count": 84,
   "metadata": {
    "collapsed": false
   },
   "outputs": [
    {
     "data": {
      "text/plain": [
       "DatetimeIndex(['2017-02-01', '2017-02-02', '2017-02-03', '2017-02-04',\n",
       "               '2017-02-05', '2017-02-06'],\n",
       "              dtype='datetime64[ns]', freq='D')"
      ]
     },
     "execution_count": 84,
     "metadata": {},
     "output_type": "execute_result"
    }
   ],
   "source": [
    "dates = pd.date_range('20170201', periods=6)\n",
    "dates"
   ]
  },
  {
   "cell_type": "code",
   "execution_count": 85,
   "metadata": {
    "collapsed": false
   },
   "outputs": [
    {
     "name": "stdout",
     "output_type": "stream",
     "text": [
      "(6, 4)\n",
      "[[-1.34130606  0.2665654   1.01002909 -1.38103827]\n",
      " [ 1.94226742 -0.84570111 -1.33637849 -2.39635259]\n",
      " [-0.13152253  0.36573026  1.60004749 -0.26460072]\n",
      " [-1.24501416 -0.27770086 -0.72339034  0.04047325]\n",
      " [-0.6356498   0.44070299  0.81384905  0.87282321]\n",
      " [-0.22679599 -0.55509746 -0.19777864 -1.0107963 ]]\n"
     ]
    },
    {
     "data": {
      "text/html": [
       "<div>\n",
       "<table border=\"1\" class=\"dataframe\">\n",
       "  <thead>\n",
       "    <tr style=\"text-align: right;\">\n",
       "      <th></th>\n",
       "      <th>A</th>\n",
       "      <th>B</th>\n",
       "      <th>C</th>\n",
       "      <th>D</th>\n",
       "    </tr>\n",
       "  </thead>\n",
       "  <tbody>\n",
       "    <tr>\n",
       "      <th>2017-02-01</th>\n",
       "      <td>-1.341306</td>\n",
       "      <td>0.266565</td>\n",
       "      <td>1.010029</td>\n",
       "      <td>-1.381038</td>\n",
       "    </tr>\n",
       "    <tr>\n",
       "      <th>2017-02-02</th>\n",
       "      <td>1.942267</td>\n",
       "      <td>-0.845701</td>\n",
       "      <td>-1.336378</td>\n",
       "      <td>-2.396353</td>\n",
       "    </tr>\n",
       "    <tr>\n",
       "      <th>2017-02-03</th>\n",
       "      <td>-0.131523</td>\n",
       "      <td>0.365730</td>\n",
       "      <td>1.600047</td>\n",
       "      <td>-0.264601</td>\n",
       "    </tr>\n",
       "    <tr>\n",
       "      <th>2017-02-04</th>\n",
       "      <td>-1.245014</td>\n",
       "      <td>-0.277701</td>\n",
       "      <td>-0.723390</td>\n",
       "      <td>0.040473</td>\n",
       "    </tr>\n",
       "    <tr>\n",
       "      <th>2017-02-05</th>\n",
       "      <td>-0.635650</td>\n",
       "      <td>0.440703</td>\n",
       "      <td>0.813849</td>\n",
       "      <td>0.872823</td>\n",
       "    </tr>\n",
       "    <tr>\n",
       "      <th>2017-02-06</th>\n",
       "      <td>-0.226796</td>\n",
       "      <td>-0.555097</td>\n",
       "      <td>-0.197779</td>\n",
       "      <td>-1.010796</td>\n",
       "    </tr>\n",
       "  </tbody>\n",
       "</table>\n",
       "</div>"
      ],
      "text/plain": [
       "                   A         B         C         D\n",
       "2017-02-01 -1.341306  0.266565  1.010029 -1.381038\n",
       "2017-02-02  1.942267 -0.845701 -1.336378 -2.396353\n",
       "2017-02-03 -0.131523  0.365730  1.600047 -0.264601\n",
       "2017-02-04 -1.245014 -0.277701 -0.723390  0.040473\n",
       "2017-02-05 -0.635650  0.440703  0.813849  0.872823\n",
       "2017-02-06 -0.226796 -0.555097 -0.197779 -1.010796"
      ]
     },
     "execution_count": 85,
     "metadata": {},
     "output_type": "execute_result"
    }
   ],
   "source": [
    "x = np.random.randn(6,4)\n",
    "print(x.shape)\n",
    "print(x)\n",
    "df = pd.DataFrame(x, index=dates, columns=list('ABCD') )\n",
    "df"
   ]
  },
  {
   "cell_type": "code",
   "execution_count": 86,
   "metadata": {
    "collapsed": false
   },
   "outputs": [
    {
     "data": {
      "text/html": [
       "<div>\n",
       "<table border=\"1\" class=\"dataframe\">\n",
       "  <thead>\n",
       "    <tr style=\"text-align: right;\">\n",
       "      <th></th>\n",
       "      <th>A</th>\n",
       "      <th>B</th>\n",
       "      <th>C</th>\n",
       "      <th>D</th>\n",
       "      <th>E</th>\n",
       "      <th>F</th>\n",
       "    </tr>\n",
       "  </thead>\n",
       "  <tbody>\n",
       "    <tr>\n",
       "      <th>0</th>\n",
       "      <td>1.0</td>\n",
       "      <td>2017-02-01</td>\n",
       "      <td>1.0</td>\n",
       "      <td>3</td>\n",
       "      <td>test</td>\n",
       "      <td>foo</td>\n",
       "    </tr>\n",
       "    <tr>\n",
       "      <th>1</th>\n",
       "      <td>1.0</td>\n",
       "      <td>2017-02-01</td>\n",
       "      <td>1.0</td>\n",
       "      <td>3</td>\n",
       "      <td>train</td>\n",
       "      <td>foo</td>\n",
       "    </tr>\n",
       "    <tr>\n",
       "      <th>2</th>\n",
       "      <td>1.0</td>\n",
       "      <td>2017-02-01</td>\n",
       "      <td>1.0</td>\n",
       "      <td>3</td>\n",
       "      <td>test</td>\n",
       "      <td>foo</td>\n",
       "    </tr>\n",
       "    <tr>\n",
       "      <th>3</th>\n",
       "      <td>1.0</td>\n",
       "      <td>2017-02-01</td>\n",
       "      <td>1.0</td>\n",
       "      <td>3</td>\n",
       "      <td>train</td>\n",
       "      <td>foo</td>\n",
       "    </tr>\n",
       "  </tbody>\n",
       "</table>\n",
       "</div>"
      ],
      "text/plain": [
       "     A          B    C  D      E    F\n",
       "0  1.0 2017-02-01  1.0  3   test  foo\n",
       "1  1.0 2017-02-01  1.0  3  train  foo\n",
       "2  1.0 2017-02-01  1.0  3   test  foo\n",
       "3  1.0 2017-02-01  1.0  3  train  foo"
      ]
     },
     "execution_count": 86,
     "metadata": {},
     "output_type": "execute_result"
    }
   ],
   "source": [
    "# Objects that can be converted to \"series-like\"\n",
    "df2 = pd.DataFrame({'A' : 1.,\n",
    "       'B' : pd.Timestamp('20170201'),\n",
    "       'C' : pd.Series(1,index=list(range(4)),dtype='float32'),\n",
    "       'D' : np.array([3] * 4, dtype='int32'),\n",
    "       'E' : pd.Categorical([\"test\", \"train\", \"test\", \"train\"]),\n",
    "       'F' : 'foo' })\n",
    "\n",
    "df2"
   ]
  },
  {
   "cell_type": "code",
   "execution_count": 87,
   "metadata": {
    "collapsed": false
   },
   "outputs": [
    {
     "data": {
      "text/plain": [
       "A           float64\n",
       "B    datetime64[ns]\n",
       "C           float32\n",
       "D             int32\n",
       "E          category\n",
       "F            object\n",
       "dtype: object"
      ]
     },
     "execution_count": 87,
     "metadata": {},
     "output_type": "execute_result"
    }
   ],
   "source": [
    "# Print out the types in df2.\n",
    "df2.dtypes"
   ]
  },
  {
   "cell_type": "markdown",
   "metadata": {},
   "source": [
    "# Viewing Data"
   ]
  },
  {
   "cell_type": "code",
   "execution_count": 88,
   "metadata": {
    "collapsed": false
   },
   "outputs": [
    {
     "data": {
      "text/html": [
       "<div>\n",
       "<table border=\"1\" class=\"dataframe\">\n",
       "  <thead>\n",
       "    <tr style=\"text-align: right;\">\n",
       "      <th></th>\n",
       "      <th>A</th>\n",
       "      <th>B</th>\n",
       "      <th>C</th>\n",
       "      <th>D</th>\n",
       "    </tr>\n",
       "  </thead>\n",
       "  <tbody>\n",
       "    <tr>\n",
       "      <th>2017-02-01</th>\n",
       "      <td>-1.341306</td>\n",
       "      <td>0.266565</td>\n",
       "      <td>1.010029</td>\n",
       "      <td>-1.381038</td>\n",
       "    </tr>\n",
       "    <tr>\n",
       "      <th>2017-02-02</th>\n",
       "      <td>1.942267</td>\n",
       "      <td>-0.845701</td>\n",
       "      <td>-1.336378</td>\n",
       "      <td>-2.396353</td>\n",
       "    </tr>\n",
       "    <tr>\n",
       "      <th>2017-02-03</th>\n",
       "      <td>-0.131523</td>\n",
       "      <td>0.365730</td>\n",
       "      <td>1.600047</td>\n",
       "      <td>-0.264601</td>\n",
       "    </tr>\n",
       "    <tr>\n",
       "      <th>2017-02-04</th>\n",
       "      <td>-1.245014</td>\n",
       "      <td>-0.277701</td>\n",
       "      <td>-0.723390</td>\n",
       "      <td>0.040473</td>\n",
       "    </tr>\n",
       "    <tr>\n",
       "      <th>2017-02-05</th>\n",
       "      <td>-0.635650</td>\n",
       "      <td>0.440703</td>\n",
       "      <td>0.813849</td>\n",
       "      <td>0.872823</td>\n",
       "    </tr>\n",
       "  </tbody>\n",
       "</table>\n",
       "</div>"
      ],
      "text/plain": [
       "                   A         B         C         D\n",
       "2017-02-01 -1.341306  0.266565  1.010029 -1.381038\n",
       "2017-02-02  1.942267 -0.845701 -1.336378 -2.396353\n",
       "2017-02-03 -0.131523  0.365730  1.600047 -0.264601\n",
       "2017-02-04 -1.245014 -0.277701 -0.723390  0.040473\n",
       "2017-02-05 -0.635650  0.440703  0.813849  0.872823"
      ]
     },
     "execution_count": 88,
     "metadata": {},
     "output_type": "execute_result"
    }
   ],
   "source": [
    "df.head()"
   ]
  },
  {
   "cell_type": "code",
   "execution_count": 89,
   "metadata": {
    "collapsed": false
   },
   "outputs": [
    {
     "data": {
      "text/html": [
       "<div>\n",
       "<table border=\"1\" class=\"dataframe\">\n",
       "  <thead>\n",
       "    <tr style=\"text-align: right;\">\n",
       "      <th></th>\n",
       "      <th>A</th>\n",
       "      <th>B</th>\n",
       "      <th>C</th>\n",
       "      <th>D</th>\n",
       "    </tr>\n",
       "  </thead>\n",
       "  <tbody>\n",
       "    <tr>\n",
       "      <th>2017-02-02</th>\n",
       "      <td>1.942267</td>\n",
       "      <td>-0.845701</td>\n",
       "      <td>-1.336378</td>\n",
       "      <td>-2.396353</td>\n",
       "    </tr>\n",
       "    <tr>\n",
       "      <th>2017-02-03</th>\n",
       "      <td>-0.131523</td>\n",
       "      <td>0.365730</td>\n",
       "      <td>1.600047</td>\n",
       "      <td>-0.264601</td>\n",
       "    </tr>\n",
       "    <tr>\n",
       "      <th>2017-02-04</th>\n",
       "      <td>-1.245014</td>\n",
       "      <td>-0.277701</td>\n",
       "      <td>-0.723390</td>\n",
       "      <td>0.040473</td>\n",
       "    </tr>\n",
       "    <tr>\n",
       "      <th>2017-02-05</th>\n",
       "      <td>-0.635650</td>\n",
       "      <td>0.440703</td>\n",
       "      <td>0.813849</td>\n",
       "      <td>0.872823</td>\n",
       "    </tr>\n",
       "    <tr>\n",
       "      <th>2017-02-06</th>\n",
       "      <td>-0.226796</td>\n",
       "      <td>-0.555097</td>\n",
       "      <td>-0.197779</td>\n",
       "      <td>-1.010796</td>\n",
       "    </tr>\n",
       "  </tbody>\n",
       "</table>\n",
       "</div>"
      ],
      "text/plain": [
       "                   A         B         C         D\n",
       "2017-02-02  1.942267 -0.845701 -1.336378 -2.396353\n",
       "2017-02-03 -0.131523  0.365730  1.600047 -0.264601\n",
       "2017-02-04 -1.245014 -0.277701 -0.723390  0.040473\n",
       "2017-02-05 -0.635650  0.440703  0.813849  0.872823\n",
       "2017-02-06 -0.226796 -0.555097 -0.197779 -1.010796"
      ]
     },
     "execution_count": 89,
     "metadata": {},
     "output_type": "execute_result"
    }
   ],
   "source": [
    "df.tail()"
   ]
  },
  {
   "cell_type": "code",
   "execution_count": 90,
   "metadata": {
    "collapsed": false
   },
   "outputs": [
    {
     "data": {
      "text/html": [
       "<div>\n",
       "<table border=\"1\" class=\"dataframe\">\n",
       "  <thead>\n",
       "    <tr style=\"text-align: right;\">\n",
       "      <th></th>\n",
       "      <th>A</th>\n",
       "      <th>B</th>\n",
       "      <th>C</th>\n",
       "      <th>D</th>\n",
       "    </tr>\n",
       "  </thead>\n",
       "  <tbody>\n",
       "    <tr>\n",
       "      <th>2017-02-06</th>\n",
       "      <td>-0.226796</td>\n",
       "      <td>-0.555097</td>\n",
       "      <td>-0.197779</td>\n",
       "      <td>-1.010796</td>\n",
       "    </tr>\n",
       "  </tbody>\n",
       "</table>\n",
       "</div>"
      ],
      "text/plain": [
       "                   A         B         C         D\n",
       "2017-02-06 -0.226796 -0.555097 -0.197779 -1.010796"
      ]
     },
     "execution_count": 90,
     "metadata": {},
     "output_type": "execute_result"
    }
   ],
   "source": [
    "df.tail(1)"
   ]
  },
  {
   "cell_type": "code",
   "execution_count": 91,
   "metadata": {
    "collapsed": false
   },
   "outputs": [
    {
     "data": {
      "text/html": [
       "<div>\n",
       "<table border=\"1\" class=\"dataframe\">\n",
       "  <thead>\n",
       "    <tr style=\"text-align: right;\">\n",
       "      <th></th>\n",
       "      <th>A</th>\n",
       "      <th>B</th>\n",
       "      <th>C</th>\n",
       "      <th>D</th>\n",
       "    </tr>\n",
       "  </thead>\n",
       "  <tbody>\n",
       "    <tr>\n",
       "      <th>2017-02-01</th>\n",
       "      <td>-1.341306</td>\n",
       "      <td>0.266565</td>\n",
       "      <td>1.010029</td>\n",
       "      <td>-1.381038</td>\n",
       "    </tr>\n",
       "  </tbody>\n",
       "</table>\n",
       "</div>"
      ],
      "text/plain": [
       "                   A         B         C         D\n",
       "2017-02-01 -1.341306  0.266565  1.010029 -1.381038"
      ]
     },
     "execution_count": 91,
     "metadata": {},
     "output_type": "execute_result"
    }
   ],
   "source": [
    "df.head(1)"
   ]
  },
  {
   "cell_type": "code",
   "execution_count": 92,
   "metadata": {
    "collapsed": false
   },
   "outputs": [
    {
     "data": {
      "text/plain": [
       "DatetimeIndex(['2017-02-01', '2017-02-02', '2017-02-03', '2017-02-04',\n",
       "               '2017-02-05', '2017-02-06'],\n",
       "              dtype='datetime64[ns]', freq='D')"
      ]
     },
     "execution_count": 92,
     "metadata": {},
     "output_type": "execute_result"
    }
   ],
   "source": [
    "df.index"
   ]
  },
  {
   "cell_type": "code",
   "execution_count": 93,
   "metadata": {
    "collapsed": false
   },
   "outputs": [
    {
     "data": {
      "text/plain": [
       "Index(['A', 'B', 'C', 'D'], dtype='object')"
      ]
     },
     "execution_count": 93,
     "metadata": {},
     "output_type": "execute_result"
    }
   ],
   "source": [
    "df.columns"
   ]
  },
  {
   "cell_type": "code",
   "execution_count": 94,
   "metadata": {
    "collapsed": false
   },
   "outputs": [
    {
     "data": {
      "text/plain": [
       "array([[-1.34130606,  0.2665654 ,  1.01002909, -1.38103827],\n",
       "       [ 1.94226742, -0.84570111, -1.33637849, -2.39635259],\n",
       "       [-0.13152253,  0.36573026,  1.60004749, -0.26460072],\n",
       "       [-1.24501416, -0.27770086, -0.72339034,  0.04047325],\n",
       "       [-0.6356498 ,  0.44070299,  0.81384905,  0.87282321],\n",
       "       [-0.22679599, -0.55509746, -0.19777864, -1.0107963 ]])"
      ]
     },
     "execution_count": 94,
     "metadata": {},
     "output_type": "execute_result"
    }
   ],
   "source": [
    "df.values"
   ]
  },
  {
   "cell_type": "code",
   "execution_count": 95,
   "metadata": {
    "collapsed": false
   },
   "outputs": [
    {
     "data": {
      "text/html": [
       "<div>\n",
       "<table border=\"1\" class=\"dataframe\">\n",
       "  <thead>\n",
       "    <tr style=\"text-align: right;\">\n",
       "      <th></th>\n",
       "      <th>A</th>\n",
       "      <th>B</th>\n",
       "      <th>C</th>\n",
       "      <th>D</th>\n",
       "    </tr>\n",
       "  </thead>\n",
       "  <tbody>\n",
       "    <tr>\n",
       "      <th>count</th>\n",
       "      <td>6.000000</td>\n",
       "      <td>6.000000</td>\n",
       "      <td>6.000000</td>\n",
       "      <td>6.000000</td>\n",
       "    </tr>\n",
       "    <tr>\n",
       "      <th>mean</th>\n",
       "      <td>-0.273004</td>\n",
       "      <td>-0.100917</td>\n",
       "      <td>0.194396</td>\n",
       "      <td>-0.689915</td>\n",
       "    </tr>\n",
       "    <tr>\n",
       "      <th>std</th>\n",
       "      <td>1.195589</td>\n",
       "      <td>0.536356</td>\n",
       "      <td>1.128206</td>\n",
       "      <td>1.153174</td>\n",
       "    </tr>\n",
       "    <tr>\n",
       "      <th>min</th>\n",
       "      <td>-1.341306</td>\n",
       "      <td>-0.845701</td>\n",
       "      <td>-1.336378</td>\n",
       "      <td>-2.396353</td>\n",
       "    </tr>\n",
       "    <tr>\n",
       "      <th>25%</th>\n",
       "      <td>-1.092673</td>\n",
       "      <td>-0.485748</td>\n",
       "      <td>-0.591987</td>\n",
       "      <td>-1.288478</td>\n",
       "    </tr>\n",
       "    <tr>\n",
       "      <th>50%</th>\n",
       "      <td>-0.431223</td>\n",
       "      <td>-0.005568</td>\n",
       "      <td>0.308035</td>\n",
       "      <td>-0.637699</td>\n",
       "    </tr>\n",
       "    <tr>\n",
       "      <th>75%</th>\n",
       "      <td>-0.155341</td>\n",
       "      <td>0.340939</td>\n",
       "      <td>0.960984</td>\n",
       "      <td>-0.035795</td>\n",
       "    </tr>\n",
       "    <tr>\n",
       "      <th>max</th>\n",
       "      <td>1.942267</td>\n",
       "      <td>0.440703</td>\n",
       "      <td>1.600047</td>\n",
       "      <td>0.872823</td>\n",
       "    </tr>\n",
       "  </tbody>\n",
       "</table>\n",
       "</div>"
      ],
      "text/plain": [
       "              A         B         C         D\n",
       "count  6.000000  6.000000  6.000000  6.000000\n",
       "mean  -0.273004 -0.100917  0.194396 -0.689915\n",
       "std    1.195589  0.536356  1.128206  1.153174\n",
       "min   -1.341306 -0.845701 -1.336378 -2.396353\n",
       "25%   -1.092673 -0.485748 -0.591987 -1.288478\n",
       "50%   -0.431223 -0.005568  0.308035 -0.637699\n",
       "75%   -0.155341  0.340939  0.960984 -0.035795\n",
       "max    1.942267  0.440703  1.600047  0.872823"
      ]
     },
     "execution_count": 95,
     "metadata": {},
     "output_type": "execute_result"
    }
   ],
   "source": [
    "# Get quick statistics. -- Useful!\n",
    "df.describe()"
   ]
  },
  {
   "cell_type": "code",
   "execution_count": 96,
   "metadata": {
    "collapsed": false
   },
   "outputs": [
    {
     "data": {
      "text/html": [
       "<div>\n",
       "<table border=\"1\" class=\"dataframe\">\n",
       "  <thead>\n",
       "    <tr style=\"text-align: right;\">\n",
       "      <th></th>\n",
       "      <th>2017-02-01 00:00:00</th>\n",
       "      <th>2017-02-02 00:00:00</th>\n",
       "      <th>2017-02-03 00:00:00</th>\n",
       "      <th>2017-02-04 00:00:00</th>\n",
       "      <th>2017-02-05 00:00:00</th>\n",
       "      <th>2017-02-06 00:00:00</th>\n",
       "    </tr>\n",
       "  </thead>\n",
       "  <tbody>\n",
       "    <tr>\n",
       "      <th>A</th>\n",
       "      <td>-1.341306</td>\n",
       "      <td>1.942267</td>\n",
       "      <td>-0.131523</td>\n",
       "      <td>-1.245014</td>\n",
       "      <td>-0.635650</td>\n",
       "      <td>-0.226796</td>\n",
       "    </tr>\n",
       "    <tr>\n",
       "      <th>B</th>\n",
       "      <td>0.266565</td>\n",
       "      <td>-0.845701</td>\n",
       "      <td>0.365730</td>\n",
       "      <td>-0.277701</td>\n",
       "      <td>0.440703</td>\n",
       "      <td>-0.555097</td>\n",
       "    </tr>\n",
       "    <tr>\n",
       "      <th>C</th>\n",
       "      <td>1.010029</td>\n",
       "      <td>-1.336378</td>\n",
       "      <td>1.600047</td>\n",
       "      <td>-0.723390</td>\n",
       "      <td>0.813849</td>\n",
       "      <td>-0.197779</td>\n",
       "    </tr>\n",
       "    <tr>\n",
       "      <th>D</th>\n",
       "      <td>-1.381038</td>\n",
       "      <td>-2.396353</td>\n",
       "      <td>-0.264601</td>\n",
       "      <td>0.040473</td>\n",
       "      <td>0.872823</td>\n",
       "      <td>-1.010796</td>\n",
       "    </tr>\n",
       "  </tbody>\n",
       "</table>\n",
       "</div>"
      ],
      "text/plain": [
       "   2017-02-01  2017-02-02  2017-02-03  2017-02-04  2017-02-05  2017-02-06\n",
       "A   -1.341306    1.942267   -0.131523   -1.245014   -0.635650   -0.226796\n",
       "B    0.266565   -0.845701    0.365730   -0.277701    0.440703   -0.555097\n",
       "C    1.010029   -1.336378    1.600047   -0.723390    0.813849   -0.197779\n",
       "D   -1.381038   -2.396353   -0.264601    0.040473    0.872823   -1.010796"
      ]
     },
     "execution_count": 96,
     "metadata": {},
     "output_type": "execute_result"
    }
   ],
   "source": [
    "df.T # Transpose."
   ]
  },
  {
   "cell_type": "code",
   "execution_count": 97,
   "metadata": {
    "collapsed": false
   },
   "outputs": [
    {
     "data": {
      "text/html": [
       "<div>\n",
       "<table border=\"1\" class=\"dataframe\">\n",
       "  <thead>\n",
       "    <tr style=\"text-align: right;\">\n",
       "      <th></th>\n",
       "      <th>D</th>\n",
       "      <th>C</th>\n",
       "      <th>B</th>\n",
       "      <th>A</th>\n",
       "    </tr>\n",
       "  </thead>\n",
       "  <tbody>\n",
       "    <tr>\n",
       "      <th>2017-02-01</th>\n",
       "      <td>-1.381038</td>\n",
       "      <td>1.010029</td>\n",
       "      <td>0.266565</td>\n",
       "      <td>-1.341306</td>\n",
       "    </tr>\n",
       "    <tr>\n",
       "      <th>2017-02-02</th>\n",
       "      <td>-2.396353</td>\n",
       "      <td>-1.336378</td>\n",
       "      <td>-0.845701</td>\n",
       "      <td>1.942267</td>\n",
       "    </tr>\n",
       "    <tr>\n",
       "      <th>2017-02-03</th>\n",
       "      <td>-0.264601</td>\n",
       "      <td>1.600047</td>\n",
       "      <td>0.365730</td>\n",
       "      <td>-0.131523</td>\n",
       "    </tr>\n",
       "    <tr>\n",
       "      <th>2017-02-04</th>\n",
       "      <td>0.040473</td>\n",
       "      <td>-0.723390</td>\n",
       "      <td>-0.277701</td>\n",
       "      <td>-1.245014</td>\n",
       "    </tr>\n",
       "    <tr>\n",
       "      <th>2017-02-05</th>\n",
       "      <td>0.872823</td>\n",
       "      <td>0.813849</td>\n",
       "      <td>0.440703</td>\n",
       "      <td>-0.635650</td>\n",
       "    </tr>\n",
       "    <tr>\n",
       "      <th>2017-02-06</th>\n",
       "      <td>-1.010796</td>\n",
       "      <td>-0.197779</td>\n",
       "      <td>-0.555097</td>\n",
       "      <td>-0.226796</td>\n",
       "    </tr>\n",
       "  </tbody>\n",
       "</table>\n",
       "</div>"
      ],
      "text/plain": [
       "                   D         C         B         A\n",
       "2017-02-01 -1.381038  1.010029  0.266565 -1.341306\n",
       "2017-02-02 -2.396353 -1.336378 -0.845701  1.942267\n",
       "2017-02-03 -0.264601  1.600047  0.365730 -0.131523\n",
       "2017-02-04  0.040473 -0.723390 -0.277701 -1.245014\n",
       "2017-02-05  0.872823  0.813849  0.440703 -0.635650\n",
       "2017-02-06 -1.010796 -0.197779 -0.555097 -0.226796"
      ]
     },
     "execution_count": 97,
     "metadata": {},
     "output_type": "execute_result"
    }
   ],
   "source": [
    "df.sort_index(axis=1, ascending=False) # Sort by the 1th axis (starts at 0) -- the dates."
   ]
  },
  {
   "cell_type": "code",
   "execution_count": 98,
   "metadata": {
    "collapsed": false
   },
   "outputs": [
    {
     "data": {
      "text/html": [
       "<div>\n",
       "<table border=\"1\" class=\"dataframe\">\n",
       "  <thead>\n",
       "    <tr style=\"text-align: right;\">\n",
       "      <th></th>\n",
       "      <th>A</th>\n",
       "      <th>B</th>\n",
       "      <th>C</th>\n",
       "      <th>D</th>\n",
       "    </tr>\n",
       "  </thead>\n",
       "  <tbody>\n",
       "    <tr>\n",
       "      <th>2017-02-02</th>\n",
       "      <td>1.942267</td>\n",
       "      <td>-0.845701</td>\n",
       "      <td>-1.336378</td>\n",
       "      <td>-2.396353</td>\n",
       "    </tr>\n",
       "    <tr>\n",
       "      <th>2017-02-04</th>\n",
       "      <td>-1.245014</td>\n",
       "      <td>-0.277701</td>\n",
       "      <td>-0.723390</td>\n",
       "      <td>0.040473</td>\n",
       "    </tr>\n",
       "    <tr>\n",
       "      <th>2017-02-06</th>\n",
       "      <td>-0.226796</td>\n",
       "      <td>-0.555097</td>\n",
       "      <td>-0.197779</td>\n",
       "      <td>-1.010796</td>\n",
       "    </tr>\n",
       "    <tr>\n",
       "      <th>2017-02-05</th>\n",
       "      <td>-0.635650</td>\n",
       "      <td>0.440703</td>\n",
       "      <td>0.813849</td>\n",
       "      <td>0.872823</td>\n",
       "    </tr>\n",
       "    <tr>\n",
       "      <th>2017-02-01</th>\n",
       "      <td>-1.341306</td>\n",
       "      <td>0.266565</td>\n",
       "      <td>1.010029</td>\n",
       "      <td>-1.381038</td>\n",
       "    </tr>\n",
       "    <tr>\n",
       "      <th>2017-02-03</th>\n",
       "      <td>-0.131523</td>\n",
       "      <td>0.365730</td>\n",
       "      <td>1.600047</td>\n",
       "      <td>-0.264601</td>\n",
       "    </tr>\n",
       "  </tbody>\n",
       "</table>\n",
       "</div>"
      ],
      "text/plain": [
       "                   A         B         C         D\n",
       "2017-02-02  1.942267 -0.845701 -1.336378 -2.396353\n",
       "2017-02-04 -1.245014 -0.277701 -0.723390  0.040473\n",
       "2017-02-06 -0.226796 -0.555097 -0.197779 -1.010796\n",
       "2017-02-05 -0.635650  0.440703  0.813849  0.872823\n",
       "2017-02-01 -1.341306  0.266565  1.010029 -1.381038\n",
       "2017-02-03 -0.131523  0.365730  1.600047 -0.264601"
      ]
     },
     "execution_count": 98,
     "metadata": {},
     "output_type": "execute_result"
    }
   ],
   "source": [
    "df.sort_values(by='C') # Sort by C."
   ]
  },
  {
   "cell_type": "markdown",
   "metadata": {},
   "source": [
    "# Selection"
   ]
  },
  {
   "cell_type": "markdown",
   "metadata": {},
   "source": [
    "### Getting"
   ]
  },
  {
   "cell_type": "code",
   "execution_count": 99,
   "metadata": {
    "collapsed": false
   },
   "outputs": [
    {
     "data": {
      "text/html": [
       "<div>\n",
       "<table border=\"1\" class=\"dataframe\">\n",
       "  <thead>\n",
       "    <tr style=\"text-align: right;\">\n",
       "      <th></th>\n",
       "      <th>A</th>\n",
       "      <th>B</th>\n",
       "      <th>C</th>\n",
       "      <th>D</th>\n",
       "    </tr>\n",
       "  </thead>\n",
       "  <tbody>\n",
       "    <tr>\n",
       "      <th>2017-02-01</th>\n",
       "      <td>-1.341306</td>\n",
       "      <td>0.266565</td>\n",
       "      <td>1.010029</td>\n",
       "      <td>-1.381038</td>\n",
       "    </tr>\n",
       "    <tr>\n",
       "      <th>2017-02-02</th>\n",
       "      <td>1.942267</td>\n",
       "      <td>-0.845701</td>\n",
       "      <td>-1.336378</td>\n",
       "      <td>-2.396353</td>\n",
       "    </tr>\n",
       "    <tr>\n",
       "      <th>2017-02-03</th>\n",
       "      <td>-0.131523</td>\n",
       "      <td>0.365730</td>\n",
       "      <td>1.600047</td>\n",
       "      <td>-0.264601</td>\n",
       "    </tr>\n",
       "  </tbody>\n",
       "</table>\n",
       "</div>"
      ],
      "text/plain": [
       "                   A         B         C         D\n",
       "2017-02-01 -1.341306  0.266565  1.010029 -1.381038\n",
       "2017-02-02  1.942267 -0.845701 -1.336378 -2.396353\n",
       "2017-02-03 -0.131523  0.365730  1.600047 -0.264601"
      ]
     },
     "execution_count": 99,
     "metadata": {},
     "output_type": "execute_result"
    }
   ],
   "source": [
    "df['A'] # To select column \"A\"\n",
    "df[0:3] # Rows 0 to 3."
   ]
  },
  {
   "cell_type": "code",
   "execution_count": 100,
   "metadata": {
    "collapsed": false
   },
   "outputs": [
    {
     "data": {
      "text/html": [
       "<div>\n",
       "<table border=\"1\" class=\"dataframe\">\n",
       "  <thead>\n",
       "    <tr style=\"text-align: right;\">\n",
       "      <th></th>\n",
       "      <th>A</th>\n",
       "      <th>B</th>\n",
       "      <th>C</th>\n",
       "      <th>D</th>\n",
       "    </tr>\n",
       "  </thead>\n",
       "  <tbody>\n",
       "    <tr>\n",
       "      <th>2017-02-01</th>\n",
       "      <td>-1.341306</td>\n",
       "      <td>0.266565</td>\n",
       "      <td>1.010029</td>\n",
       "      <td>-1.381038</td>\n",
       "    </tr>\n",
       "    <tr>\n",
       "      <th>2017-02-02</th>\n",
       "      <td>1.942267</td>\n",
       "      <td>-0.845701</td>\n",
       "      <td>-1.336378</td>\n",
       "      <td>-2.396353</td>\n",
       "    </tr>\n",
       "  </tbody>\n",
       "</table>\n",
       "</div>"
      ],
      "text/plain": [
       "                   A         B         C         D\n",
       "2017-02-01 -1.341306  0.266565  1.010029 -1.381038\n",
       "2017-02-02  1.942267 -0.845701 -1.336378 -2.396353"
      ]
     },
     "execution_count": 100,
     "metadata": {},
     "output_type": "execute_result"
    }
   ],
   "source": [
    "df['20170201':'20170202'] # Select the rows from Feb1-Feb2."
   ]
  },
  {
   "cell_type": "markdown",
   "metadata": {},
   "source": [
    "### Selection by Label"
   ]
  },
  {
   "cell_type": "code",
   "execution_count": 101,
   "metadata": {
    "collapsed": false
   },
   "outputs": [
    {
     "data": {
      "text/plain": [
       "A   -1.341306\n",
       "B    0.266565\n",
       "C    1.010029\n",
       "D   -1.381038\n",
       "Name: 2017-02-01 00:00:00, dtype: float64"
      ]
     },
     "execution_count": 101,
     "metadata": {},
     "output_type": "execute_result"
    }
   ],
   "source": [
    "df.loc[dates[0]]"
   ]
  },
  {
   "cell_type": "code",
   "execution_count": 102,
   "metadata": {
    "collapsed": false
   },
   "outputs": [
    {
     "data": {
      "text/html": [
       "<div>\n",
       "<table border=\"1\" class=\"dataframe\">\n",
       "  <thead>\n",
       "    <tr style=\"text-align: right;\">\n",
       "      <th></th>\n",
       "      <th>A</th>\n",
       "      <th>B</th>\n",
       "    </tr>\n",
       "  </thead>\n",
       "  <tbody>\n",
       "    <tr>\n",
       "      <th>2017-02-01</th>\n",
       "      <td>-1.341306</td>\n",
       "      <td>0.266565</td>\n",
       "    </tr>\n",
       "    <tr>\n",
       "      <th>2017-02-02</th>\n",
       "      <td>1.942267</td>\n",
       "      <td>-0.845701</td>\n",
       "    </tr>\n",
       "    <tr>\n",
       "      <th>2017-02-03</th>\n",
       "      <td>-0.131523</td>\n",
       "      <td>0.365730</td>\n",
       "    </tr>\n",
       "    <tr>\n",
       "      <th>2017-02-04</th>\n",
       "      <td>-1.245014</td>\n",
       "      <td>-0.277701</td>\n",
       "    </tr>\n",
       "    <tr>\n",
       "      <th>2017-02-05</th>\n",
       "      <td>-0.635650</td>\n",
       "      <td>0.440703</td>\n",
       "    </tr>\n",
       "    <tr>\n",
       "      <th>2017-02-06</th>\n",
       "      <td>-0.226796</td>\n",
       "      <td>-0.555097</td>\n",
       "    </tr>\n",
       "  </tbody>\n",
       "</table>\n",
       "</div>"
      ],
      "text/plain": [
       "                   A         B\n",
       "2017-02-01 -1.341306  0.266565\n",
       "2017-02-02  1.942267 -0.845701\n",
       "2017-02-03 -0.131523  0.365730\n",
       "2017-02-04 -1.245014 -0.277701\n",
       "2017-02-05 -0.635650  0.440703\n",
       "2017-02-06 -0.226796 -0.555097"
      ]
     },
     "execution_count": 102,
     "metadata": {},
     "output_type": "execute_result"
    }
   ],
   "source": [
    "df.loc[:,['A','B']] # Select all rows, for columns A and B."
   ]
  },
  {
   "cell_type": "code",
   "execution_count": 103,
   "metadata": {
    "collapsed": false
   },
   "outputs": [
    {
     "data": {
      "text/html": [
       "<div>\n",
       "<table border=\"1\" class=\"dataframe\">\n",
       "  <thead>\n",
       "    <tr style=\"text-align: right;\">\n",
       "      <th></th>\n",
       "      <th>A</th>\n",
       "      <th>B</th>\n",
       "    </tr>\n",
       "  </thead>\n",
       "  <tbody>\n",
       "    <tr>\n",
       "      <th>2017-02-01</th>\n",
       "      <td>-1.341306</td>\n",
       "      <td>0.266565</td>\n",
       "    </tr>\n",
       "    <tr>\n",
       "      <th>2017-02-02</th>\n",
       "      <td>1.942267</td>\n",
       "      <td>-0.845701</td>\n",
       "    </tr>\n",
       "    <tr>\n",
       "      <th>2017-02-03</th>\n",
       "      <td>-0.131523</td>\n",
       "      <td>0.365730</td>\n",
       "    </tr>\n",
       "  </tbody>\n",
       "</table>\n",
       "</div>"
      ],
      "text/plain": [
       "                   A         B\n",
       "2017-02-01 -1.341306  0.266565\n",
       "2017-02-02  1.942267 -0.845701\n",
       "2017-02-03 -0.131523  0.365730"
      ]
     },
     "execution_count": 103,
     "metadata": {},
     "output_type": "execute_result"
    }
   ],
   "source": [
    "df.loc['20170201' : '20170203', ['A', 'B']] # Note that slicing here is inclusive."
   ]
  },
  {
   "cell_type": "code",
   "execution_count": 104,
   "metadata": {
    "collapsed": false
   },
   "outputs": [
    {
     "data": {
      "text/plain": [
       "A   -1.341306\n",
       "B    0.266565\n",
       "Name: 2017-02-01 00:00:00, dtype: float64"
      ]
     },
     "execution_count": 104,
     "metadata": {},
     "output_type": "execute_result"
    }
   ],
   "source": [
    "df.loc['20170201', ['A', 'B']]"
   ]
  },
  {
   "cell_type": "code",
   "execution_count": 105,
   "metadata": {
    "collapsed": false
   },
   "outputs": [
    {
     "name": "stdout",
     "output_type": "stream",
     "text": [
      "(2,)\n"
     ]
    }
   ],
   "source": [
    "print(df.loc['20170201', ['A', 'B']].shape) # Dimensions have changed."
   ]
  },
  {
   "cell_type": "code",
   "execution_count": 106,
   "metadata": {
    "collapsed": false
   },
   "outputs": [
    {
     "data": {
      "text/plain": [
       "-1.3413060573067372"
      ]
     },
     "execution_count": 106,
     "metadata": {},
     "output_type": "execute_result"
    }
   ],
   "source": [
    "df.loc['20170201', 'A']"
   ]
  },
  {
   "cell_type": "code",
   "execution_count": 107,
   "metadata": {
    "collapsed": false
   },
   "outputs": [
    {
     "name": "stdout",
     "output_type": "stream",
     "text": [
      "2017-02-01 00:00:00\n"
     ]
    },
    {
     "data": {
      "text/plain": [
       "-1.3413060573067372"
      ]
     },
     "execution_count": 107,
     "metadata": {},
     "output_type": "execute_result"
    }
   ],
   "source": [
    "print(dates[0])\n",
    "df.at[dates[0], 'A']"
   ]
  },
  {
   "cell_type": "markdown",
   "metadata": {},
   "source": [
    "### Selection by Position"
   ]
  },
  {
   "cell_type": "code",
   "execution_count": 108,
   "metadata": {
    "collapsed": false
   },
   "outputs": [
    {
     "data": {
      "text/plain": [
       "A   -1.245014\n",
       "B   -0.277701\n",
       "C   -0.723390\n",
       "D    0.040473\n",
       "Name: 2017-02-04 00:00:00, dtype: float64"
      ]
     },
     "execution_count": 108,
     "metadata": {},
     "output_type": "execute_result"
    }
   ],
   "source": [
    "df.iloc[3] # Gets  2017-02-04  located at index = 3."
   ]
  },
  {
   "cell_type": "code",
   "execution_count": 109,
   "metadata": {
    "collapsed": false
   },
   "outputs": [
    {
     "data": {
      "text/plain": [
       "A   -1.245014\n",
       "B   -0.277701\n",
       "Name: 2017-02-04 00:00:00, dtype: float64"
      ]
     },
     "execution_count": 109,
     "metadata": {},
     "output_type": "execute_result"
    }
   ],
   "source": [
    "df.iloc[3, 0:2]"
   ]
  },
  {
   "cell_type": "code",
   "execution_count": 110,
   "metadata": {
    "collapsed": false
   },
   "outputs": [
    {
     "data": {
      "text/html": [
       "<div>\n",
       "<table border=\"1\" class=\"dataframe\">\n",
       "  <thead>\n",
       "    <tr style=\"text-align: right;\">\n",
       "      <th></th>\n",
       "      <th>A</th>\n",
       "      <th>B</th>\n",
       "    </tr>\n",
       "  </thead>\n",
       "  <tbody>\n",
       "    <tr>\n",
       "      <th>2017-02-04</th>\n",
       "      <td>-1.245014</td>\n",
       "      <td>-0.277701</td>\n",
       "    </tr>\n",
       "    <tr>\n",
       "      <th>2017-02-05</th>\n",
       "      <td>-0.635650</td>\n",
       "      <td>0.440703</td>\n",
       "    </tr>\n",
       "  </tbody>\n",
       "</table>\n",
       "</div>"
      ],
      "text/plain": [
       "                   A         B\n",
       "2017-02-04 -1.245014 -0.277701\n",
       "2017-02-05 -0.635650  0.440703"
      ]
     },
     "execution_count": 110,
     "metadata": {},
     "output_type": "execute_result"
    }
   ],
   "source": [
    "df.iloc[3:5,0:2] # Not inclusive..."
   ]
  },
  {
   "cell_type": "code",
   "execution_count": 111,
   "metadata": {
    "collapsed": false
   },
   "outputs": [
    {
     "data": {
      "text/html": [
       "<div>\n",
       "<table border=\"1\" class=\"dataframe\">\n",
       "  <thead>\n",
       "    <tr style=\"text-align: right;\">\n",
       "      <th></th>\n",
       "      <th>A</th>\n",
       "      <th>C</th>\n",
       "    </tr>\n",
       "  </thead>\n",
       "  <tbody>\n",
       "    <tr>\n",
       "      <th>2017-02-02</th>\n",
       "      <td>1.942267</td>\n",
       "      <td>-1.336378</td>\n",
       "    </tr>\n",
       "    <tr>\n",
       "      <th>2017-02-03</th>\n",
       "      <td>-0.131523</td>\n",
       "      <td>1.600047</td>\n",
       "    </tr>\n",
       "    <tr>\n",
       "      <th>2017-02-05</th>\n",
       "      <td>-0.635650</td>\n",
       "      <td>0.813849</td>\n",
       "    </tr>\n",
       "  </tbody>\n",
       "</table>\n",
       "</div>"
      ],
      "text/plain": [
       "                   A         C\n",
       "2017-02-02  1.942267 -1.336378\n",
       "2017-02-03 -0.131523  1.600047\n",
       "2017-02-05 -0.635650  0.813849"
      ]
     },
     "execution_count": 111,
     "metadata": {},
     "output_type": "execute_result"
    }
   ],
   "source": [
    "df.iloc[[1,2,4],[0,2]]"
   ]
  },
  {
   "cell_type": "code",
   "execution_count": 112,
   "metadata": {
    "collapsed": false
   },
   "outputs": [
    {
     "data": {
      "text/html": [
       "<div>\n",
       "<table border=\"1\" class=\"dataframe\">\n",
       "  <thead>\n",
       "    <tr style=\"text-align: right;\">\n",
       "      <th></th>\n",
       "      <th>A</th>\n",
       "      <th>B</th>\n",
       "      <th>C</th>\n",
       "      <th>D</th>\n",
       "    </tr>\n",
       "  </thead>\n",
       "  <tbody>\n",
       "    <tr>\n",
       "      <th>2017-02-02</th>\n",
       "      <td>1.942267</td>\n",
       "      <td>-0.845701</td>\n",
       "      <td>-1.336378</td>\n",
       "      <td>-2.396353</td>\n",
       "    </tr>\n",
       "    <tr>\n",
       "      <th>2017-02-03</th>\n",
       "      <td>-0.131523</td>\n",
       "      <td>0.365730</td>\n",
       "      <td>1.600047</td>\n",
       "      <td>-0.264601</td>\n",
       "    </tr>\n",
       "  </tbody>\n",
       "</table>\n",
       "</div>"
      ],
      "text/plain": [
       "                   A         B         C         D\n",
       "2017-02-02  1.942267 -0.845701 -1.336378 -2.396353\n",
       "2017-02-03 -0.131523  0.365730  1.600047 -0.264601"
      ]
     },
     "execution_count": 112,
     "metadata": {},
     "output_type": "execute_result"
    }
   ],
   "source": [
    "df.iloc[1:3,:]"
   ]
  },
  {
   "cell_type": "code",
   "execution_count": 113,
   "metadata": {
    "collapsed": false
   },
   "outputs": [
    {
     "data": {
      "text/html": [
       "<div>\n",
       "<table border=\"1\" class=\"dataframe\">\n",
       "  <thead>\n",
       "    <tr style=\"text-align: right;\">\n",
       "      <th></th>\n",
       "      <th>A</th>\n",
       "      <th>B</th>\n",
       "      <th>C</th>\n",
       "      <th>D</th>\n",
       "    </tr>\n",
       "  </thead>\n",
       "  <tbody>\n",
       "    <tr>\n",
       "      <th>2017-02-02</th>\n",
       "      <td>1.942267</td>\n",
       "      <td>-0.845701</td>\n",
       "      <td>-1.336378</td>\n",
       "      <td>-2.396353</td>\n",
       "    </tr>\n",
       "    <tr>\n",
       "      <th>2017-02-03</th>\n",
       "      <td>-0.131523</td>\n",
       "      <td>0.365730</td>\n",
       "      <td>1.600047</td>\n",
       "      <td>-0.264601</td>\n",
       "    </tr>\n",
       "  </tbody>\n",
       "</table>\n",
       "</div>"
      ],
      "text/plain": [
       "                   A         B         C         D\n",
       "2017-02-02  1.942267 -0.845701 -1.336378 -2.396353\n",
       "2017-02-03 -0.131523  0.365730  1.600047 -0.264601"
      ]
     },
     "execution_count": 113,
     "metadata": {},
     "output_type": "execute_result"
    }
   ],
   "source": [
    "df.iloc[1:3]"
   ]
  },
  {
   "cell_type": "code",
   "execution_count": 114,
   "metadata": {
    "collapsed": false
   },
   "outputs": [
    {
     "data": {
      "text/html": [
       "<div>\n",
       "<table border=\"1\" class=\"dataframe\">\n",
       "  <thead>\n",
       "    <tr style=\"text-align: right;\">\n",
       "      <th></th>\n",
       "      <th>D</th>\n",
       "    </tr>\n",
       "  </thead>\n",
       "  <tbody>\n",
       "    <tr>\n",
       "      <th>2017-02-01</th>\n",
       "      <td>-1.381038</td>\n",
       "    </tr>\n",
       "    <tr>\n",
       "      <th>2017-02-02</th>\n",
       "      <td>-2.396353</td>\n",
       "    </tr>\n",
       "    <tr>\n",
       "      <th>2017-02-03</th>\n",
       "      <td>-0.264601</td>\n",
       "    </tr>\n",
       "    <tr>\n",
       "      <th>2017-02-04</th>\n",
       "      <td>0.040473</td>\n",
       "    </tr>\n",
       "    <tr>\n",
       "      <th>2017-02-05</th>\n",
       "      <td>0.872823</td>\n",
       "    </tr>\n",
       "    <tr>\n",
       "      <th>2017-02-06</th>\n",
       "      <td>-1.010796</td>\n",
       "    </tr>\n",
       "  </tbody>\n",
       "</table>\n",
       "</div>"
      ],
      "text/plain": [
       "                   D\n",
       "2017-02-01 -1.381038\n",
       "2017-02-02 -2.396353\n",
       "2017-02-03 -0.264601\n",
       "2017-02-04  0.040473\n",
       "2017-02-05  0.872823\n",
       "2017-02-06 -1.010796"
      ]
     },
     "execution_count": 114,
     "metadata": {},
     "output_type": "execute_result"
    }
   ],
   "source": [
    "df.iloc[:,3:4]"
   ]
  },
  {
   "cell_type": "code",
   "execution_count": 115,
   "metadata": {
    "collapsed": false
   },
   "outputs": [
    {
     "data": {
      "text/plain": [
       "-0.26460072424740827"
      ]
     },
     "execution_count": 115,
     "metadata": {},
     "output_type": "execute_result"
    }
   ],
   "source": [
    "df.iloc[2,3]"
   ]
  },
  {
   "cell_type": "code",
   "execution_count": 116,
   "metadata": {
    "collapsed": false
   },
   "outputs": [
    {
     "data": {
      "text/plain": [
       "-0.26460072424740827"
      ]
     },
     "execution_count": 116,
     "metadata": {},
     "output_type": "execute_result"
    }
   ],
   "source": [
    "df.iat[2,3]"
   ]
  },
  {
   "cell_type": "markdown",
   "metadata": {},
   "source": [
    "### Boolean Indexing"
   ]
  },
  {
   "cell_type": "code",
   "execution_count": 117,
   "metadata": {
    "collapsed": false
   },
   "outputs": [
    {
     "data": {
      "text/html": [
       "<div>\n",
       "<table border=\"1\" class=\"dataframe\">\n",
       "  <thead>\n",
       "    <tr style=\"text-align: right;\">\n",
       "      <th></th>\n",
       "      <th>A</th>\n",
       "      <th>B</th>\n",
       "      <th>C</th>\n",
       "      <th>D</th>\n",
       "    </tr>\n",
       "  </thead>\n",
       "  <tbody>\n",
       "    <tr>\n",
       "      <th>2017-02-02</th>\n",
       "      <td>1.942267</td>\n",
       "      <td>-0.845701</td>\n",
       "      <td>-1.336378</td>\n",
       "      <td>-2.396353</td>\n",
       "    </tr>\n",
       "  </tbody>\n",
       "</table>\n",
       "</div>"
      ],
      "text/plain": [
       "                   A         B         C         D\n",
       "2017-02-02  1.942267 -0.845701 -1.336378 -2.396353"
      ]
     },
     "execution_count": 117,
     "metadata": {},
     "output_type": "execute_result"
    }
   ],
   "source": [
    "df[df.A > 0]"
   ]
  },
  {
   "cell_type": "code",
   "execution_count": 118,
   "metadata": {
    "collapsed": false
   },
   "outputs": [
    {
     "data": {
      "text/html": [
       "<div>\n",
       "<table border=\"1\" class=\"dataframe\">\n",
       "  <thead>\n",
       "    <tr style=\"text-align: right;\">\n",
       "      <th></th>\n",
       "      <th>A</th>\n",
       "      <th>B</th>\n",
       "      <th>C</th>\n",
       "      <th>D</th>\n",
       "    </tr>\n",
       "  </thead>\n",
       "  <tbody>\n",
       "    <tr>\n",
       "      <th>2017-02-01</th>\n",
       "      <td>NaN</td>\n",
       "      <td>0.266565</td>\n",
       "      <td>1.010029</td>\n",
       "      <td>NaN</td>\n",
       "    </tr>\n",
       "    <tr>\n",
       "      <th>2017-02-02</th>\n",
       "      <td>1.942267</td>\n",
       "      <td>NaN</td>\n",
       "      <td>NaN</td>\n",
       "      <td>NaN</td>\n",
       "    </tr>\n",
       "    <tr>\n",
       "      <th>2017-02-03</th>\n",
       "      <td>NaN</td>\n",
       "      <td>0.365730</td>\n",
       "      <td>1.600047</td>\n",
       "      <td>NaN</td>\n",
       "    </tr>\n",
       "    <tr>\n",
       "      <th>2017-02-04</th>\n",
       "      <td>NaN</td>\n",
       "      <td>NaN</td>\n",
       "      <td>NaN</td>\n",
       "      <td>0.040473</td>\n",
       "    </tr>\n",
       "    <tr>\n",
       "      <th>2017-02-05</th>\n",
       "      <td>NaN</td>\n",
       "      <td>0.440703</td>\n",
       "      <td>0.813849</td>\n",
       "      <td>0.872823</td>\n",
       "    </tr>\n",
       "    <tr>\n",
       "      <th>2017-02-06</th>\n",
       "      <td>NaN</td>\n",
       "      <td>NaN</td>\n",
       "      <td>NaN</td>\n",
       "      <td>NaN</td>\n",
       "    </tr>\n",
       "  </tbody>\n",
       "</table>\n",
       "</div>"
      ],
      "text/plain": [
       "                   A         B         C         D\n",
       "2017-02-01       NaN  0.266565  1.010029       NaN\n",
       "2017-02-02  1.942267       NaN       NaN       NaN\n",
       "2017-02-03       NaN  0.365730  1.600047       NaN\n",
       "2017-02-04       NaN       NaN       NaN  0.040473\n",
       "2017-02-05       NaN  0.440703  0.813849  0.872823\n",
       "2017-02-06       NaN       NaN       NaN       NaN"
      ]
     },
     "execution_count": 118,
     "metadata": {},
     "output_type": "execute_result"
    }
   ],
   "source": [
    "df[df>0]"
   ]
  },
  {
   "cell_type": "code",
   "execution_count": 119,
   "metadata": {
    "collapsed": false
   },
   "outputs": [
    {
     "data": {
      "text/html": [
       "<div>\n",
       "<table border=\"1\" class=\"dataframe\">\n",
       "  <thead>\n",
       "    <tr style=\"text-align: right;\">\n",
       "      <th></th>\n",
       "      <th>A</th>\n",
       "      <th>B</th>\n",
       "      <th>C</th>\n",
       "      <th>D</th>\n",
       "      <th>E</th>\n",
       "    </tr>\n",
       "  </thead>\n",
       "  <tbody>\n",
       "    <tr>\n",
       "      <th>2017-02-01</th>\n",
       "      <td>-1.341306</td>\n",
       "      <td>0.266565</td>\n",
       "      <td>1.010029</td>\n",
       "      <td>-1.381038</td>\n",
       "      <td>one</td>\n",
       "    </tr>\n",
       "    <tr>\n",
       "      <th>2017-02-02</th>\n",
       "      <td>1.942267</td>\n",
       "      <td>-0.845701</td>\n",
       "      <td>-1.336378</td>\n",
       "      <td>-2.396353</td>\n",
       "      <td>one</td>\n",
       "    </tr>\n",
       "    <tr>\n",
       "      <th>2017-02-03</th>\n",
       "      <td>-0.131523</td>\n",
       "      <td>0.365730</td>\n",
       "      <td>1.600047</td>\n",
       "      <td>-0.264601</td>\n",
       "      <td>two</td>\n",
       "    </tr>\n",
       "    <tr>\n",
       "      <th>2017-02-04</th>\n",
       "      <td>-1.245014</td>\n",
       "      <td>-0.277701</td>\n",
       "      <td>-0.723390</td>\n",
       "      <td>0.040473</td>\n",
       "      <td>three</td>\n",
       "    </tr>\n",
       "    <tr>\n",
       "      <th>2017-02-05</th>\n",
       "      <td>-0.635650</td>\n",
       "      <td>0.440703</td>\n",
       "      <td>0.813849</td>\n",
       "      <td>0.872823</td>\n",
       "      <td>four</td>\n",
       "    </tr>\n",
       "    <tr>\n",
       "      <th>2017-02-06</th>\n",
       "      <td>-0.226796</td>\n",
       "      <td>-0.555097</td>\n",
       "      <td>-0.197779</td>\n",
       "      <td>-1.010796</td>\n",
       "      <td>three</td>\n",
       "    </tr>\n",
       "  </tbody>\n",
       "</table>\n",
       "</div>"
      ],
      "text/plain": [
       "                   A         B         C         D      E\n",
       "2017-02-01 -1.341306  0.266565  1.010029 -1.381038    one\n",
       "2017-02-02  1.942267 -0.845701 -1.336378 -2.396353    one\n",
       "2017-02-03 -0.131523  0.365730  1.600047 -0.264601    two\n",
       "2017-02-04 -1.245014 -0.277701 -0.723390  0.040473  three\n",
       "2017-02-05 -0.635650  0.440703  0.813849  0.872823   four\n",
       "2017-02-06 -0.226796 -0.555097 -0.197779 -1.010796  three"
      ]
     },
     "execution_count": 119,
     "metadata": {},
     "output_type": "execute_result"
    }
   ],
   "source": [
    "df2 = df.copy()\n",
    "df2['E'] = ['one', 'one','two','three','four','three']\n",
    "df2"
   ]
  },
  {
   "cell_type": "code",
   "execution_count": 120,
   "metadata": {
    "collapsed": false
   },
   "outputs": [
    {
     "data": {
      "text/html": [
       "<div>\n",
       "<table border=\"1\" class=\"dataframe\">\n",
       "  <thead>\n",
       "    <tr style=\"text-align: right;\">\n",
       "      <th></th>\n",
       "      <th>A</th>\n",
       "      <th>B</th>\n",
       "      <th>C</th>\n",
       "      <th>D</th>\n",
       "      <th>E</th>\n",
       "    </tr>\n",
       "  </thead>\n",
       "  <tbody>\n",
       "    <tr>\n",
       "      <th>2017-02-03</th>\n",
       "      <td>-0.131523</td>\n",
       "      <td>0.365730</td>\n",
       "      <td>1.600047</td>\n",
       "      <td>-0.264601</td>\n",
       "      <td>two</td>\n",
       "    </tr>\n",
       "    <tr>\n",
       "      <th>2017-02-05</th>\n",
       "      <td>-0.635650</td>\n",
       "      <td>0.440703</td>\n",
       "      <td>0.813849</td>\n",
       "      <td>0.872823</td>\n",
       "      <td>four</td>\n",
       "    </tr>\n",
       "  </tbody>\n",
       "</table>\n",
       "</div>"
      ],
      "text/plain": [
       "                   A         B         C         D     E\n",
       "2017-02-03 -0.131523  0.365730  1.600047 -0.264601   two\n",
       "2017-02-05 -0.635650  0.440703  0.813849  0.872823  four"
      ]
     },
     "execution_count": 120,
     "metadata": {},
     "output_type": "execute_result"
    }
   ],
   "source": [
    "df2[df2['E'].isin(['two', 'four'])]"
   ]
  },
  {
   "cell_type": "markdown",
   "metadata": {},
   "source": [
    "### Setting"
   ]
  },
  {
   "cell_type": "code",
   "execution_count": 121,
   "metadata": {
    "collapsed": false
   },
   "outputs": [
    {
     "data": {
      "text/plain": [
       "2017-02-01    1\n",
       "2017-02-02    2\n",
       "2017-02-03    3\n",
       "2017-02-04    4\n",
       "2017-02-05    5\n",
       "2017-02-06    6\n",
       "Freq: D, dtype: int64"
      ]
     },
     "execution_count": 121,
     "metadata": {},
     "output_type": "execute_result"
    }
   ],
   "source": [
    "s1 = pd.Series([1,2,3,4,5,6], index=pd.date_range('20170201', periods=6))\n",
    "s1"
   ]
  },
  {
   "cell_type": "code",
   "execution_count": 122,
   "metadata": {
    "collapsed": false
   },
   "outputs": [
    {
     "data": {
      "text/html": [
       "<div>\n",
       "<table border=\"1\" class=\"dataframe\">\n",
       "  <thead>\n",
       "    <tr style=\"text-align: right;\">\n",
       "      <th></th>\n",
       "      <th>A</th>\n",
       "      <th>B</th>\n",
       "      <th>C</th>\n",
       "      <th>D</th>\n",
       "      <th>F</th>\n",
       "    </tr>\n",
       "  </thead>\n",
       "  <tbody>\n",
       "    <tr>\n",
       "      <th>2017-02-01</th>\n",
       "      <td>-1.341306</td>\n",
       "      <td>0.266565</td>\n",
       "      <td>1.010029</td>\n",
       "      <td>-1.381038</td>\n",
       "      <td>1</td>\n",
       "    </tr>\n",
       "    <tr>\n",
       "      <th>2017-02-02</th>\n",
       "      <td>1.942267</td>\n",
       "      <td>-0.845701</td>\n",
       "      <td>-1.336378</td>\n",
       "      <td>-2.396353</td>\n",
       "      <td>2</td>\n",
       "    </tr>\n",
       "    <tr>\n",
       "      <th>2017-02-03</th>\n",
       "      <td>-0.131523</td>\n",
       "      <td>0.365730</td>\n",
       "      <td>1.600047</td>\n",
       "      <td>-0.264601</td>\n",
       "      <td>3</td>\n",
       "    </tr>\n",
       "    <tr>\n",
       "      <th>2017-02-04</th>\n",
       "      <td>-1.245014</td>\n",
       "      <td>-0.277701</td>\n",
       "      <td>-0.723390</td>\n",
       "      <td>0.040473</td>\n",
       "      <td>4</td>\n",
       "    </tr>\n",
       "    <tr>\n",
       "      <th>2017-02-05</th>\n",
       "      <td>-0.635650</td>\n",
       "      <td>0.440703</td>\n",
       "      <td>0.813849</td>\n",
       "      <td>0.872823</td>\n",
       "      <td>5</td>\n",
       "    </tr>\n",
       "    <tr>\n",
       "      <th>2017-02-06</th>\n",
       "      <td>-0.226796</td>\n",
       "      <td>-0.555097</td>\n",
       "      <td>-0.197779</td>\n",
       "      <td>-1.010796</td>\n",
       "      <td>6</td>\n",
       "    </tr>\n",
       "  </tbody>\n",
       "</table>\n",
       "</div>"
      ],
      "text/plain": [
       "                   A         B         C         D  F\n",
       "2017-02-01 -1.341306  0.266565  1.010029 -1.381038  1\n",
       "2017-02-02  1.942267 -0.845701 -1.336378 -2.396353  2\n",
       "2017-02-03 -0.131523  0.365730  1.600047 -0.264601  3\n",
       "2017-02-04 -1.245014 -0.277701 -0.723390  0.040473  4\n",
       "2017-02-05 -0.635650  0.440703  0.813849  0.872823  5\n",
       "2017-02-06 -0.226796 -0.555097 -0.197779 -1.010796  6"
      ]
     },
     "execution_count": 122,
     "metadata": {},
     "output_type": "execute_result"
    }
   ],
   "source": [
    "df['F'] = s1\n",
    "df"
   ]
  },
  {
   "cell_type": "code",
   "execution_count": 123,
   "metadata": {
    "collapsed": false
   },
   "outputs": [
    {
     "data": {
      "text/html": [
       "<div>\n",
       "<table border=\"1\" class=\"dataframe\">\n",
       "  <thead>\n",
       "    <tr style=\"text-align: right;\">\n",
       "      <th></th>\n",
       "      <th>A</th>\n",
       "      <th>B</th>\n",
       "      <th>C</th>\n",
       "      <th>D</th>\n",
       "      <th>F</th>\n",
       "    </tr>\n",
       "  </thead>\n",
       "  <tbody>\n",
       "    <tr>\n",
       "      <th>2017-02-01</th>\n",
       "      <td>0.000000</td>\n",
       "      <td>0.266565</td>\n",
       "      <td>1.010029</td>\n",
       "      <td>-1.381038</td>\n",
       "      <td>1</td>\n",
       "    </tr>\n",
       "    <tr>\n",
       "      <th>2017-02-02</th>\n",
       "      <td>1.942267</td>\n",
       "      <td>-0.845701</td>\n",
       "      <td>-1.336378</td>\n",
       "      <td>-2.396353</td>\n",
       "      <td>2</td>\n",
       "    </tr>\n",
       "    <tr>\n",
       "      <th>2017-02-03</th>\n",
       "      <td>-0.131523</td>\n",
       "      <td>0.365730</td>\n",
       "      <td>1.600047</td>\n",
       "      <td>-0.264601</td>\n",
       "      <td>3</td>\n",
       "    </tr>\n",
       "    <tr>\n",
       "      <th>2017-02-04</th>\n",
       "      <td>-1.245014</td>\n",
       "      <td>-0.277701</td>\n",
       "      <td>-0.723390</td>\n",
       "      <td>0.040473</td>\n",
       "      <td>4</td>\n",
       "    </tr>\n",
       "    <tr>\n",
       "      <th>2017-02-05</th>\n",
       "      <td>-0.635650</td>\n",
       "      <td>0.440703</td>\n",
       "      <td>0.813849</td>\n",
       "      <td>0.872823</td>\n",
       "      <td>5</td>\n",
       "    </tr>\n",
       "    <tr>\n",
       "      <th>2017-02-06</th>\n",
       "      <td>-0.226796</td>\n",
       "      <td>-0.555097</td>\n",
       "      <td>-0.197779</td>\n",
       "      <td>-1.010796</td>\n",
       "      <td>6</td>\n",
       "    </tr>\n",
       "  </tbody>\n",
       "</table>\n",
       "</div>"
      ],
      "text/plain": [
       "                   A         B         C         D  F\n",
       "2017-02-01  0.000000  0.266565  1.010029 -1.381038  1\n",
       "2017-02-02  1.942267 -0.845701 -1.336378 -2.396353  2\n",
       "2017-02-03 -0.131523  0.365730  1.600047 -0.264601  3\n",
       "2017-02-04 -1.245014 -0.277701 -0.723390  0.040473  4\n",
       "2017-02-05 -0.635650  0.440703  0.813849  0.872823  5\n",
       "2017-02-06 -0.226796 -0.555097 -0.197779 -1.010796  6"
      ]
     },
     "execution_count": 123,
     "metadata": {},
     "output_type": "execute_result"
    }
   ],
   "source": [
    "df.at[dates[0],'A'] = 0\n",
    "df"
   ]
  },
  {
   "cell_type": "code",
   "execution_count": 124,
   "metadata": {
    "collapsed": false
   },
   "outputs": [
    {
     "data": {
      "text/html": [
       "<div>\n",
       "<table border=\"1\" class=\"dataframe\">\n",
       "  <thead>\n",
       "    <tr style=\"text-align: right;\">\n",
       "      <th></th>\n",
       "      <th>A</th>\n",
       "      <th>B</th>\n",
       "      <th>C</th>\n",
       "      <th>D</th>\n",
       "      <th>F</th>\n",
       "    </tr>\n",
       "  </thead>\n",
       "  <tbody>\n",
       "    <tr>\n",
       "      <th>2017-02-01</th>\n",
       "      <td>0.000000</td>\n",
       "      <td>0.266565</td>\n",
       "      <td>0.000000</td>\n",
       "      <td>-1.381038</td>\n",
       "      <td>1</td>\n",
       "    </tr>\n",
       "    <tr>\n",
       "      <th>2017-02-02</th>\n",
       "      <td>1.942267</td>\n",
       "      <td>-0.845701</td>\n",
       "      <td>-1.336378</td>\n",
       "      <td>-2.396353</td>\n",
       "      <td>2</td>\n",
       "    </tr>\n",
       "    <tr>\n",
       "      <th>2017-02-03</th>\n",
       "      <td>-0.131523</td>\n",
       "      <td>0.365730</td>\n",
       "      <td>1.600047</td>\n",
       "      <td>-0.264601</td>\n",
       "      <td>3</td>\n",
       "    </tr>\n",
       "    <tr>\n",
       "      <th>2017-02-04</th>\n",
       "      <td>-1.245014</td>\n",
       "      <td>-0.277701</td>\n",
       "      <td>-0.723390</td>\n",
       "      <td>0.040473</td>\n",
       "      <td>4</td>\n",
       "    </tr>\n",
       "    <tr>\n",
       "      <th>2017-02-05</th>\n",
       "      <td>-0.635650</td>\n",
       "      <td>0.440703</td>\n",
       "      <td>0.813849</td>\n",
       "      <td>0.872823</td>\n",
       "      <td>5</td>\n",
       "    </tr>\n",
       "    <tr>\n",
       "      <th>2017-02-06</th>\n",
       "      <td>-0.226796</td>\n",
       "      <td>-0.555097</td>\n",
       "      <td>-0.197779</td>\n",
       "      <td>-1.010796</td>\n",
       "      <td>6</td>\n",
       "    </tr>\n",
       "  </tbody>\n",
       "</table>\n",
       "</div>"
      ],
      "text/plain": [
       "                   A         B         C         D  F\n",
       "2017-02-01  0.000000  0.266565  0.000000 -1.381038  1\n",
       "2017-02-02  1.942267 -0.845701 -1.336378 -2.396353  2\n",
       "2017-02-03 -0.131523  0.365730  1.600047 -0.264601  3\n",
       "2017-02-04 -1.245014 -0.277701 -0.723390  0.040473  4\n",
       "2017-02-05 -0.635650  0.440703  0.813849  0.872823  5\n",
       "2017-02-06 -0.226796 -0.555097 -0.197779 -1.010796  6"
      ]
     },
     "execution_count": 124,
     "metadata": {},
     "output_type": "execute_result"
    }
   ],
   "source": [
    "df.iat[0,2] = 0\n",
    "df"
   ]
  },
  {
   "cell_type": "code",
   "execution_count": 125,
   "metadata": {
    "collapsed": false
   },
   "outputs": [
    {
     "data": {
      "text/plain": [
       "array([5, 5, 5, 5, 5, 5])"
      ]
     },
     "execution_count": 125,
     "metadata": {},
     "output_type": "execute_result"
    }
   ],
   "source": [
    "temp = np.array([5] * len(df))\n",
    "temp"
   ]
  },
  {
   "cell_type": "code",
   "execution_count": 126,
   "metadata": {
    "collapsed": false
   },
   "outputs": [
    {
     "data": {
      "text/html": [
       "<div>\n",
       "<table border=\"1\" class=\"dataframe\">\n",
       "  <thead>\n",
       "    <tr style=\"text-align: right;\">\n",
       "      <th></th>\n",
       "      <th>A</th>\n",
       "      <th>B</th>\n",
       "      <th>C</th>\n",
       "      <th>D</th>\n",
       "      <th>F</th>\n",
       "    </tr>\n",
       "  </thead>\n",
       "  <tbody>\n",
       "    <tr>\n",
       "      <th>2017-02-01</th>\n",
       "      <td>0.000000</td>\n",
       "      <td>0.266565</td>\n",
       "      <td>0.000000</td>\n",
       "      <td>5</td>\n",
       "      <td>1</td>\n",
       "    </tr>\n",
       "    <tr>\n",
       "      <th>2017-02-02</th>\n",
       "      <td>1.942267</td>\n",
       "      <td>-0.845701</td>\n",
       "      <td>-1.336378</td>\n",
       "      <td>5</td>\n",
       "      <td>2</td>\n",
       "    </tr>\n",
       "    <tr>\n",
       "      <th>2017-02-03</th>\n",
       "      <td>-0.131523</td>\n",
       "      <td>0.365730</td>\n",
       "      <td>1.600047</td>\n",
       "      <td>5</td>\n",
       "      <td>3</td>\n",
       "    </tr>\n",
       "    <tr>\n",
       "      <th>2017-02-04</th>\n",
       "      <td>-1.245014</td>\n",
       "      <td>-0.277701</td>\n",
       "      <td>-0.723390</td>\n",
       "      <td>5</td>\n",
       "      <td>4</td>\n",
       "    </tr>\n",
       "    <tr>\n",
       "      <th>2017-02-05</th>\n",
       "      <td>-0.635650</td>\n",
       "      <td>0.440703</td>\n",
       "      <td>0.813849</td>\n",
       "      <td>5</td>\n",
       "      <td>5</td>\n",
       "    </tr>\n",
       "    <tr>\n",
       "      <th>2017-02-06</th>\n",
       "      <td>-0.226796</td>\n",
       "      <td>-0.555097</td>\n",
       "      <td>-0.197779</td>\n",
       "      <td>5</td>\n",
       "      <td>6</td>\n",
       "    </tr>\n",
       "  </tbody>\n",
       "</table>\n",
       "</div>"
      ],
      "text/plain": [
       "                   A         B         C  D  F\n",
       "2017-02-01  0.000000  0.266565  0.000000  5  1\n",
       "2017-02-02  1.942267 -0.845701 -1.336378  5  2\n",
       "2017-02-03 -0.131523  0.365730  1.600047  5  3\n",
       "2017-02-04 -1.245014 -0.277701 -0.723390  5  4\n",
       "2017-02-05 -0.635650  0.440703  0.813849  5  5\n",
       "2017-02-06 -0.226796 -0.555097 -0.197779  5  6"
      ]
     },
     "execution_count": 126,
     "metadata": {},
     "output_type": "execute_result"
    }
   ],
   "source": [
    "df.loc[:,'D'] = np.array(temp)\n",
    "df"
   ]
  },
  {
   "cell_type": "code",
   "execution_count": 128,
   "metadata": {
    "collapsed": false
   },
   "outputs": [
    {
     "data": {
      "text/html": [
       "<div>\n",
       "<table border=\"1\" class=\"dataframe\">\n",
       "  <thead>\n",
       "    <tr style=\"text-align: right;\">\n",
       "      <th></th>\n",
       "      <th>A</th>\n",
       "      <th>B</th>\n",
       "      <th>C</th>\n",
       "      <th>D</th>\n",
       "      <th>F</th>\n",
       "    </tr>\n",
       "  </thead>\n",
       "  <tbody>\n",
       "    <tr>\n",
       "      <th>2017-02-01</th>\n",
       "      <td>0.000000</td>\n",
       "      <td>-0.266565</td>\n",
       "      <td>0.000000</td>\n",
       "      <td>-5</td>\n",
       "      <td>-1</td>\n",
       "    </tr>\n",
       "    <tr>\n",
       "      <th>2017-02-02</th>\n",
       "      <td>-1.942267</td>\n",
       "      <td>-0.845701</td>\n",
       "      <td>-1.336378</td>\n",
       "      <td>-5</td>\n",
       "      <td>-2</td>\n",
       "    </tr>\n",
       "    <tr>\n",
       "      <th>2017-02-03</th>\n",
       "      <td>-0.131523</td>\n",
       "      <td>-0.365730</td>\n",
       "      <td>-1.600047</td>\n",
       "      <td>-5</td>\n",
       "      <td>-3</td>\n",
       "    </tr>\n",
       "    <tr>\n",
       "      <th>2017-02-04</th>\n",
       "      <td>-1.245014</td>\n",
       "      <td>-0.277701</td>\n",
       "      <td>-0.723390</td>\n",
       "      <td>-5</td>\n",
       "      <td>-4</td>\n",
       "    </tr>\n",
       "    <tr>\n",
       "      <th>2017-02-05</th>\n",
       "      <td>-0.635650</td>\n",
       "      <td>-0.440703</td>\n",
       "      <td>-0.813849</td>\n",
       "      <td>-5</td>\n",
       "      <td>-5</td>\n",
       "    </tr>\n",
       "    <tr>\n",
       "      <th>2017-02-06</th>\n",
       "      <td>-0.226796</td>\n",
       "      <td>-0.555097</td>\n",
       "      <td>-0.197779</td>\n",
       "      <td>-5</td>\n",
       "      <td>-6</td>\n",
       "    </tr>\n",
       "  </tbody>\n",
       "</table>\n",
       "</div>"
      ],
      "text/plain": [
       "                   A         B         C  D  F\n",
       "2017-02-01  0.000000 -0.266565  0.000000 -5 -1\n",
       "2017-02-02 -1.942267 -0.845701 -1.336378 -5 -2\n",
       "2017-02-03 -0.131523 -0.365730 -1.600047 -5 -3\n",
       "2017-02-04 -1.245014 -0.277701 -0.723390 -5 -4\n",
       "2017-02-05 -0.635650 -0.440703 -0.813849 -5 -5\n",
       "2017-02-06 -0.226796 -0.555097 -0.197779 -5 -6"
      ]
     },
     "execution_count": 128,
     "metadata": {},
     "output_type": "execute_result"
    }
   ],
   "source": [
    "df2 = df.copy()\n",
    "df2[df2 > 0] = -df2\n",
    "df2"
   ]
  },
  {
   "cell_type": "markdown",
   "metadata": {},
   "source": [
    "# Missing Data"
   ]
  },
  {
   "cell_type": "code",
   "execution_count": 130,
   "metadata": {
    "collapsed": false
   },
   "outputs": [
    {
     "data": {
      "text/html": [
       "<div>\n",
       "<table border=\"1\" class=\"dataframe\">\n",
       "  <thead>\n",
       "    <tr style=\"text-align: right;\">\n",
       "      <th></th>\n",
       "      <th>A</th>\n",
       "      <th>B</th>\n",
       "      <th>C</th>\n",
       "      <th>D</th>\n",
       "      <th>F</th>\n",
       "    </tr>\n",
       "  </thead>\n",
       "  <tbody>\n",
       "    <tr>\n",
       "      <th>2017-02-01</th>\n",
       "      <td>0.000000</td>\n",
       "      <td>0.266565</td>\n",
       "      <td>0.000000</td>\n",
       "      <td>5</td>\n",
       "      <td>1</td>\n",
       "    </tr>\n",
       "    <tr>\n",
       "      <th>2017-02-02</th>\n",
       "      <td>1.942267</td>\n",
       "      <td>-0.845701</td>\n",
       "      <td>-1.336378</td>\n",
       "      <td>5</td>\n",
       "      <td>2</td>\n",
       "    </tr>\n",
       "    <tr>\n",
       "      <th>2017-02-03</th>\n",
       "      <td>-0.131523</td>\n",
       "      <td>0.365730</td>\n",
       "      <td>1.600047</td>\n",
       "      <td>5</td>\n",
       "      <td>3</td>\n",
       "    </tr>\n",
       "    <tr>\n",
       "      <th>2017-02-04</th>\n",
       "      <td>-1.245014</td>\n",
       "      <td>-0.277701</td>\n",
       "      <td>-0.723390</td>\n",
       "      <td>5</td>\n",
       "      <td>4</td>\n",
       "    </tr>\n",
       "    <tr>\n",
       "      <th>2017-02-05</th>\n",
       "      <td>-0.635650</td>\n",
       "      <td>0.440703</td>\n",
       "      <td>0.813849</td>\n",
       "      <td>5</td>\n",
       "      <td>5</td>\n",
       "    </tr>\n",
       "    <tr>\n",
       "      <th>2017-02-06</th>\n",
       "      <td>-0.226796</td>\n",
       "      <td>-0.555097</td>\n",
       "      <td>-0.197779</td>\n",
       "      <td>5</td>\n",
       "      <td>6</td>\n",
       "    </tr>\n",
       "  </tbody>\n",
       "</table>\n",
       "</div>"
      ],
      "text/plain": [
       "                   A         B         C  D  F\n",
       "2017-02-01  0.000000  0.266565  0.000000  5  1\n",
       "2017-02-02  1.942267 -0.845701 -1.336378  5  2\n",
       "2017-02-03 -0.131523  0.365730  1.600047  5  3\n",
       "2017-02-04 -1.245014 -0.277701 -0.723390  5  4\n",
       "2017-02-05 -0.635650  0.440703  0.813849  5  5\n",
       "2017-02-06 -0.226796 -0.555097 -0.197779  5  6"
      ]
     },
     "execution_count": 130,
     "metadata": {},
     "output_type": "execute_result"
    }
   ],
   "source": [
    "df"
   ]
  },
  {
   "cell_type": "code",
   "execution_count": 132,
   "metadata": {
    "collapsed": false
   },
   "outputs": [
    {
     "data": {
      "text/html": [
       "<div>\n",
       "<table border=\"1\" class=\"dataframe\">\n",
       "  <thead>\n",
       "    <tr style=\"text-align: right;\">\n",
       "      <th></th>\n",
       "      <th>A</th>\n",
       "      <th>B</th>\n",
       "      <th>C</th>\n",
       "      <th>D</th>\n",
       "      <th>F</th>\n",
       "      <th>E</th>\n",
       "    </tr>\n",
       "  </thead>\n",
       "  <tbody>\n",
       "    <tr>\n",
       "      <th>2017-02-01</th>\n",
       "      <td>0.000000</td>\n",
       "      <td>0.266565</td>\n",
       "      <td>0.000000</td>\n",
       "      <td>5</td>\n",
       "      <td>1</td>\n",
       "      <td>NaN</td>\n",
       "    </tr>\n",
       "    <tr>\n",
       "      <th>2017-02-02</th>\n",
       "      <td>1.942267</td>\n",
       "      <td>-0.845701</td>\n",
       "      <td>-1.336378</td>\n",
       "      <td>5</td>\n",
       "      <td>2</td>\n",
       "      <td>NaN</td>\n",
       "    </tr>\n",
       "    <tr>\n",
       "      <th>2017-02-03</th>\n",
       "      <td>-0.131523</td>\n",
       "      <td>0.365730</td>\n",
       "      <td>1.600047</td>\n",
       "      <td>5</td>\n",
       "      <td>3</td>\n",
       "      <td>NaN</td>\n",
       "    </tr>\n",
       "    <tr>\n",
       "      <th>2017-02-04</th>\n",
       "      <td>-1.245014</td>\n",
       "      <td>-0.277701</td>\n",
       "      <td>-0.723390</td>\n",
       "      <td>5</td>\n",
       "      <td>4</td>\n",
       "      <td>NaN</td>\n",
       "    </tr>\n",
       "  </tbody>\n",
       "</table>\n",
       "</div>"
      ],
      "text/plain": [
       "                   A         B         C  D  F   E\n",
       "2017-02-01  0.000000  0.266565  0.000000  5  1 NaN\n",
       "2017-02-02  1.942267 -0.845701 -1.336378  5  2 NaN\n",
       "2017-02-03 -0.131523  0.365730  1.600047  5  3 NaN\n",
       "2017-02-04 -1.245014 -0.277701 -0.723390  5  4 NaN"
      ]
     },
     "execution_count": 132,
     "metadata": {},
     "output_type": "execute_result"
    }
   ],
   "source": [
    "df1 = df.reindex(index=dates[0:4], columns=list(df.columns) + ['E'])\n",
    "df1"
   ]
  },
  {
   "cell_type": "code",
   "execution_count": 135,
   "metadata": {
    "collapsed": false
   },
   "outputs": [
    {
     "data": {
      "text/html": [
       "<div>\n",
       "<table border=\"1\" class=\"dataframe\">\n",
       "  <thead>\n",
       "    <tr style=\"text-align: right;\">\n",
       "      <th></th>\n",
       "      <th>A</th>\n",
       "      <th>B</th>\n",
       "      <th>C</th>\n",
       "      <th>D</th>\n",
       "      <th>F</th>\n",
       "      <th>E</th>\n",
       "    </tr>\n",
       "  </thead>\n",
       "  <tbody>\n",
       "    <tr>\n",
       "      <th>2017-02-01</th>\n",
       "      <td>0.000000</td>\n",
       "      <td>0.266565</td>\n",
       "      <td>0.000000</td>\n",
       "      <td>5</td>\n",
       "      <td>1</td>\n",
       "      <td>1.0</td>\n",
       "    </tr>\n",
       "    <tr>\n",
       "      <th>2017-02-02</th>\n",
       "      <td>1.942267</td>\n",
       "      <td>-0.845701</td>\n",
       "      <td>-1.336378</td>\n",
       "      <td>5</td>\n",
       "      <td>2</td>\n",
       "      <td>1.0</td>\n",
       "    </tr>\n",
       "    <tr>\n",
       "      <th>2017-02-03</th>\n",
       "      <td>-0.131523</td>\n",
       "      <td>0.365730</td>\n",
       "      <td>1.600047</td>\n",
       "      <td>5</td>\n",
       "      <td>3</td>\n",
       "      <td>NaN</td>\n",
       "    </tr>\n",
       "    <tr>\n",
       "      <th>2017-02-04</th>\n",
       "      <td>-1.245014</td>\n",
       "      <td>-0.277701</td>\n",
       "      <td>-0.723390</td>\n",
       "      <td>5</td>\n",
       "      <td>4</td>\n",
       "      <td>NaN</td>\n",
       "    </tr>\n",
       "  </tbody>\n",
       "</table>\n",
       "</div>"
      ],
      "text/plain": [
       "                   A         B         C  D  F    E\n",
       "2017-02-01  0.000000  0.266565  0.000000  5  1  1.0\n",
       "2017-02-02  1.942267 -0.845701 -1.336378  5  2  1.0\n",
       "2017-02-03 -0.131523  0.365730  1.600047  5  3  NaN\n",
       "2017-02-04 -1.245014 -0.277701 -0.723390  5  4  NaN"
      ]
     },
     "execution_count": 135,
     "metadata": {},
     "output_type": "execute_result"
    }
   ],
   "source": [
    "df1.loc[dates[0]:dates[1], 'E'] = 1\n",
    "df1"
   ]
  },
  {
   "cell_type": "code",
   "execution_count": 136,
   "metadata": {
    "collapsed": false
   },
   "outputs": [
    {
     "data": {
      "text/html": [
       "<div>\n",
       "<table border=\"1\" class=\"dataframe\">\n",
       "  <thead>\n",
       "    <tr style=\"text-align: right;\">\n",
       "      <th></th>\n",
       "      <th>A</th>\n",
       "      <th>B</th>\n",
       "      <th>C</th>\n",
       "      <th>D</th>\n",
       "      <th>F</th>\n",
       "      <th>E</th>\n",
       "    </tr>\n",
       "  </thead>\n",
       "  <tbody>\n",
       "    <tr>\n",
       "      <th>2017-02-01</th>\n",
       "      <td>0.000000</td>\n",
       "      <td>0.266565</td>\n",
       "      <td>0.000000</td>\n",
       "      <td>5</td>\n",
       "      <td>1</td>\n",
       "      <td>1.0</td>\n",
       "    </tr>\n",
       "    <tr>\n",
       "      <th>2017-02-02</th>\n",
       "      <td>1.942267</td>\n",
       "      <td>-0.845701</td>\n",
       "      <td>-1.336378</td>\n",
       "      <td>5</td>\n",
       "      <td>2</td>\n",
       "      <td>1.0</td>\n",
       "    </tr>\n",
       "  </tbody>\n",
       "</table>\n",
       "</div>"
      ],
      "text/plain": [
       "                   A         B         C  D  F    E\n",
       "2017-02-01  0.000000  0.266565  0.000000  5  1  1.0\n",
       "2017-02-02  1.942267 -0.845701 -1.336378  5  2  1.0"
      ]
     },
     "execution_count": 136,
     "metadata": {},
     "output_type": "execute_result"
    }
   ],
   "source": [
    "df1.dropna(how='any')"
   ]
  },
  {
   "cell_type": "code",
   "execution_count": 137,
   "metadata": {
    "collapsed": false
   },
   "outputs": [
    {
     "data": {
      "text/html": [
       "<div>\n",
       "<table border=\"1\" class=\"dataframe\">\n",
       "  <thead>\n",
       "    <tr style=\"text-align: right;\">\n",
       "      <th></th>\n",
       "      <th>A</th>\n",
       "      <th>B</th>\n",
       "      <th>C</th>\n",
       "      <th>D</th>\n",
       "      <th>F</th>\n",
       "      <th>E</th>\n",
       "    </tr>\n",
       "  </thead>\n",
       "  <tbody>\n",
       "    <tr>\n",
       "      <th>2017-02-01</th>\n",
       "      <td>0.000000</td>\n",
       "      <td>0.266565</td>\n",
       "      <td>0.000000</td>\n",
       "      <td>5</td>\n",
       "      <td>1</td>\n",
       "      <td>1.0</td>\n",
       "    </tr>\n",
       "    <tr>\n",
       "      <th>2017-02-02</th>\n",
       "      <td>1.942267</td>\n",
       "      <td>-0.845701</td>\n",
       "      <td>-1.336378</td>\n",
       "      <td>5</td>\n",
       "      <td>2</td>\n",
       "      <td>1.0</td>\n",
       "    </tr>\n",
       "    <tr>\n",
       "      <th>2017-02-03</th>\n",
       "      <td>-0.131523</td>\n",
       "      <td>0.365730</td>\n",
       "      <td>1.600047</td>\n",
       "      <td>5</td>\n",
       "      <td>3</td>\n",
       "      <td>5.0</td>\n",
       "    </tr>\n",
       "    <tr>\n",
       "      <th>2017-02-04</th>\n",
       "      <td>-1.245014</td>\n",
       "      <td>-0.277701</td>\n",
       "      <td>-0.723390</td>\n",
       "      <td>5</td>\n",
       "      <td>4</td>\n",
       "      <td>5.0</td>\n",
       "    </tr>\n",
       "  </tbody>\n",
       "</table>\n",
       "</div>"
      ],
      "text/plain": [
       "                   A         B         C  D  F    E\n",
       "2017-02-01  0.000000  0.266565  0.000000  5  1  1.0\n",
       "2017-02-02  1.942267 -0.845701 -1.336378  5  2  1.0\n",
       "2017-02-03 -0.131523  0.365730  1.600047  5  3  5.0\n",
       "2017-02-04 -1.245014 -0.277701 -0.723390  5  4  5.0"
      ]
     },
     "execution_count": 137,
     "metadata": {},
     "output_type": "execute_result"
    }
   ],
   "source": [
    "df1.fillna(value=5)"
   ]
  },
  {
   "cell_type": "code",
   "execution_count": 139,
   "metadata": {
    "collapsed": false
   },
   "outputs": [
    {
     "data": {
      "text/html": [
       "<div>\n",
       "<table border=\"1\" class=\"dataframe\">\n",
       "  <thead>\n",
       "    <tr style=\"text-align: right;\">\n",
       "      <th></th>\n",
       "      <th>A</th>\n",
       "      <th>B</th>\n",
       "      <th>C</th>\n",
       "      <th>D</th>\n",
       "      <th>F</th>\n",
       "      <th>E</th>\n",
       "    </tr>\n",
       "  </thead>\n",
       "  <tbody>\n",
       "    <tr>\n",
       "      <th>2017-02-01</th>\n",
       "      <td>False</td>\n",
       "      <td>False</td>\n",
       "      <td>False</td>\n",
       "      <td>False</td>\n",
       "      <td>False</td>\n",
       "      <td>False</td>\n",
       "    </tr>\n",
       "    <tr>\n",
       "      <th>2017-02-02</th>\n",
       "      <td>False</td>\n",
       "      <td>False</td>\n",
       "      <td>False</td>\n",
       "      <td>False</td>\n",
       "      <td>False</td>\n",
       "      <td>False</td>\n",
       "    </tr>\n",
       "    <tr>\n",
       "      <th>2017-02-03</th>\n",
       "      <td>False</td>\n",
       "      <td>False</td>\n",
       "      <td>False</td>\n",
       "      <td>False</td>\n",
       "      <td>False</td>\n",
       "      <td>True</td>\n",
       "    </tr>\n",
       "    <tr>\n",
       "      <th>2017-02-04</th>\n",
       "      <td>False</td>\n",
       "      <td>False</td>\n",
       "      <td>False</td>\n",
       "      <td>False</td>\n",
       "      <td>False</td>\n",
       "      <td>True</td>\n",
       "    </tr>\n",
       "  </tbody>\n",
       "</table>\n",
       "</div>"
      ],
      "text/plain": [
       "                A      B      C      D      F      E\n",
       "2017-02-01  False  False  False  False  False  False\n",
       "2017-02-02  False  False  False  False  False  False\n",
       "2017-02-03  False  False  False  False  False   True\n",
       "2017-02-04  False  False  False  False  False   True"
      ]
     },
     "execution_count": 139,
     "metadata": {},
     "output_type": "execute_result"
    }
   ],
   "source": [
    "pd.isnull(df1) # Boolean mask to see where NAN."
   ]
  },
  {
   "cell_type": "markdown",
   "metadata": {},
   "source": [
    "# Operations"
   ]
  },
  {
   "cell_type": "markdown",
   "metadata": {},
   "source": [
    "### Stats"
   ]
  },
  {
   "cell_type": "code",
   "execution_count": 140,
   "metadata": {
    "collapsed": false
   },
   "outputs": [
    {
     "data": {
      "text/plain": [
       "A   -0.049453\n",
       "B   -0.100917\n",
       "C    0.026058\n",
       "D    5.000000\n",
       "F    3.500000\n",
       "dtype: float64"
      ]
     },
     "execution_count": 140,
     "metadata": {},
     "output_type": "execute_result"
    }
   ],
   "source": [
    "df.mean()"
   ]
  },
  {
   "cell_type": "code",
   "execution_count": 141,
   "metadata": {
    "collapsed": false
   },
   "outputs": [
    {
     "data": {
      "text/plain": [
       "2017-02-01    1.253313\n",
       "2017-02-02    1.352038\n",
       "2017-02-03    1.966851\n",
       "2017-02-04    1.350779\n",
       "2017-02-05    2.123780\n",
       "2017-02-06    2.004066\n",
       "Freq: D, dtype: float64"
      ]
     },
     "execution_count": 141,
     "metadata": {},
     "output_type": "execute_result"
    }
   ],
   "source": [
    "df.mean(1) # Mean of axis 1."
   ]
  },
  {
   "cell_type": "code",
   "execution_count": 144,
   "metadata": {
    "collapsed": false
   },
   "outputs": [
    {
     "data": {
      "text/plain": [
       "2017-02-01    1.0\n",
       "2017-02-02    3.0\n",
       "2017-02-03    5.0\n",
       "2017-02-04    NaN\n",
       "2017-02-05    6.0\n",
       "2017-02-06    8.0\n",
       "Freq: D, dtype: float64"
      ]
     },
     "execution_count": 144,
     "metadata": {},
     "output_type": "execute_result"
    }
   ],
   "source": [
    "s = pd.Series([1,3,5,np.nan,6,8], index=dates)\n",
    "s"
   ]
  },
  {
   "cell_type": "code",
   "execution_count": 146,
   "metadata": {
    "collapsed": false
   },
   "outputs": [
    {
     "data": {
      "text/plain": [
       "2017-02-01    NaN\n",
       "2017-02-02    NaN\n",
       "2017-02-03    1.0\n",
       "2017-02-04    3.0\n",
       "2017-02-05    5.0\n",
       "2017-02-06    NaN\n",
       "Freq: D, dtype: float64"
      ]
     },
     "execution_count": 146,
     "metadata": {},
     "output_type": "execute_result"
    }
   ],
   "source": [
    "s = s.shift(2)\n",
    "s"
   ]
  },
  {
   "cell_type": "code",
   "execution_count": 147,
   "metadata": {
    "collapsed": false
   },
   "outputs": [
    {
     "data": {
      "text/html": [
       "<div>\n",
       "<table border=\"1\" class=\"dataframe\">\n",
       "  <thead>\n",
       "    <tr style=\"text-align: right;\">\n",
       "      <th></th>\n",
       "      <th>A</th>\n",
       "      <th>B</th>\n",
       "      <th>C</th>\n",
       "      <th>D</th>\n",
       "      <th>F</th>\n",
       "    </tr>\n",
       "  </thead>\n",
       "  <tbody>\n",
       "    <tr>\n",
       "      <th>2017-02-01</th>\n",
       "      <td>NaN</td>\n",
       "      <td>NaN</td>\n",
       "      <td>NaN</td>\n",
       "      <td>NaN</td>\n",
       "      <td>NaN</td>\n",
       "    </tr>\n",
       "    <tr>\n",
       "      <th>2017-02-02</th>\n",
       "      <td>NaN</td>\n",
       "      <td>NaN</td>\n",
       "      <td>NaN</td>\n",
       "      <td>NaN</td>\n",
       "      <td>NaN</td>\n",
       "    </tr>\n",
       "    <tr>\n",
       "      <th>2017-02-03</th>\n",
       "      <td>-1.131523</td>\n",
       "      <td>-0.634270</td>\n",
       "      <td>0.600047</td>\n",
       "      <td>4.0</td>\n",
       "      <td>2.0</td>\n",
       "    </tr>\n",
       "    <tr>\n",
       "      <th>2017-02-04</th>\n",
       "      <td>-4.245014</td>\n",
       "      <td>-3.277701</td>\n",
       "      <td>-3.723390</td>\n",
       "      <td>2.0</td>\n",
       "      <td>1.0</td>\n",
       "    </tr>\n",
       "    <tr>\n",
       "      <th>2017-02-05</th>\n",
       "      <td>-5.635650</td>\n",
       "      <td>-4.559297</td>\n",
       "      <td>-4.186151</td>\n",
       "      <td>0.0</td>\n",
       "      <td>0.0</td>\n",
       "    </tr>\n",
       "    <tr>\n",
       "      <th>2017-02-06</th>\n",
       "      <td>NaN</td>\n",
       "      <td>NaN</td>\n",
       "      <td>NaN</td>\n",
       "      <td>NaN</td>\n",
       "      <td>NaN</td>\n",
       "    </tr>\n",
       "  </tbody>\n",
       "</table>\n",
       "</div>"
      ],
      "text/plain": [
       "                   A         B         C    D    F\n",
       "2017-02-01       NaN       NaN       NaN  NaN  NaN\n",
       "2017-02-02       NaN       NaN       NaN  NaN  NaN\n",
       "2017-02-03 -1.131523 -0.634270  0.600047  4.0  2.0\n",
       "2017-02-04 -4.245014 -3.277701 -3.723390  2.0  1.0\n",
       "2017-02-05 -5.635650 -4.559297 -4.186151  0.0  0.0\n",
       "2017-02-06       NaN       NaN       NaN  NaN  NaN"
      ]
     },
     "execution_count": 147,
     "metadata": {},
     "output_type": "execute_result"
    }
   ],
   "source": [
    "df.sub(s, axis='index')"
   ]
  },
  {
   "cell_type": "markdown",
   "metadata": {},
   "source": [
    "### Apply"
   ]
  },
  {
   "cell_type": "code",
   "execution_count": 149,
   "metadata": {
    "collapsed": false
   },
   "outputs": [
    {
     "data": {
      "text/html": [
       "<div>\n",
       "<table border=\"1\" class=\"dataframe\">\n",
       "  <thead>\n",
       "    <tr style=\"text-align: right;\">\n",
       "      <th></th>\n",
       "      <th>A</th>\n",
       "      <th>B</th>\n",
       "      <th>C</th>\n",
       "      <th>D</th>\n",
       "      <th>F</th>\n",
       "    </tr>\n",
       "  </thead>\n",
       "  <tbody>\n",
       "    <tr>\n",
       "      <th>2017-02-01</th>\n",
       "      <td>0.000000</td>\n",
       "      <td>0.266565</td>\n",
       "      <td>0.000000</td>\n",
       "      <td>5</td>\n",
       "      <td>1</td>\n",
       "    </tr>\n",
       "    <tr>\n",
       "      <th>2017-02-02</th>\n",
       "      <td>1.942267</td>\n",
       "      <td>-0.845701</td>\n",
       "      <td>-1.336378</td>\n",
       "      <td>5</td>\n",
       "      <td>2</td>\n",
       "    </tr>\n",
       "    <tr>\n",
       "      <th>2017-02-03</th>\n",
       "      <td>-0.131523</td>\n",
       "      <td>0.365730</td>\n",
       "      <td>1.600047</td>\n",
       "      <td>5</td>\n",
       "      <td>3</td>\n",
       "    </tr>\n",
       "    <tr>\n",
       "      <th>2017-02-04</th>\n",
       "      <td>-1.245014</td>\n",
       "      <td>-0.277701</td>\n",
       "      <td>-0.723390</td>\n",
       "      <td>5</td>\n",
       "      <td>4</td>\n",
       "    </tr>\n",
       "    <tr>\n",
       "      <th>2017-02-05</th>\n",
       "      <td>-0.635650</td>\n",
       "      <td>0.440703</td>\n",
       "      <td>0.813849</td>\n",
       "      <td>5</td>\n",
       "      <td>5</td>\n",
       "    </tr>\n",
       "    <tr>\n",
       "      <th>2017-02-06</th>\n",
       "      <td>-0.226796</td>\n",
       "      <td>-0.555097</td>\n",
       "      <td>-0.197779</td>\n",
       "      <td>5</td>\n",
       "      <td>6</td>\n",
       "    </tr>\n",
       "  </tbody>\n",
       "</table>\n",
       "</div>"
      ],
      "text/plain": [
       "                   A         B         C  D  F\n",
       "2017-02-01  0.000000  0.266565  0.000000  5  1\n",
       "2017-02-02  1.942267 -0.845701 -1.336378  5  2\n",
       "2017-02-03 -0.131523  0.365730  1.600047  5  3\n",
       "2017-02-04 -1.245014 -0.277701 -0.723390  5  4\n",
       "2017-02-05 -0.635650  0.440703  0.813849  5  5\n",
       "2017-02-06 -0.226796 -0.555097 -0.197779  5  6"
      ]
     },
     "execution_count": 149,
     "metadata": {},
     "output_type": "execute_result"
    }
   ],
   "source": [
    "df"
   ]
  },
  {
   "cell_type": "code",
   "execution_count": 150,
   "metadata": {
    "collapsed": false
   },
   "outputs": [
    {
     "data": {
      "text/html": [
       "<div>\n",
       "<table border=\"1\" class=\"dataframe\">\n",
       "  <thead>\n",
       "    <tr style=\"text-align: right;\">\n",
       "      <th></th>\n",
       "      <th>A</th>\n",
       "      <th>B</th>\n",
       "      <th>C</th>\n",
       "      <th>D</th>\n",
       "      <th>F</th>\n",
       "    </tr>\n",
       "  </thead>\n",
       "  <tbody>\n",
       "    <tr>\n",
       "      <th>2017-02-01</th>\n",
       "      <td>0.000000</td>\n",
       "      <td>0.266565</td>\n",
       "      <td>0.000000</td>\n",
       "      <td>5</td>\n",
       "      <td>1</td>\n",
       "    </tr>\n",
       "    <tr>\n",
       "      <th>2017-02-02</th>\n",
       "      <td>1.942267</td>\n",
       "      <td>-0.579136</td>\n",
       "      <td>-1.336378</td>\n",
       "      <td>10</td>\n",
       "      <td>3</td>\n",
       "    </tr>\n",
       "    <tr>\n",
       "      <th>2017-02-03</th>\n",
       "      <td>1.810745</td>\n",
       "      <td>-0.213405</td>\n",
       "      <td>0.263669</td>\n",
       "      <td>15</td>\n",
       "      <td>6</td>\n",
       "    </tr>\n",
       "    <tr>\n",
       "      <th>2017-02-04</th>\n",
       "      <td>0.565731</td>\n",
       "      <td>-0.491106</td>\n",
       "      <td>-0.459721</td>\n",
       "      <td>20</td>\n",
       "      <td>10</td>\n",
       "    </tr>\n",
       "    <tr>\n",
       "      <th>2017-02-05</th>\n",
       "      <td>-0.069919</td>\n",
       "      <td>-0.050403</td>\n",
       "      <td>0.354128</td>\n",
       "      <td>25</td>\n",
       "      <td>15</td>\n",
       "    </tr>\n",
       "    <tr>\n",
       "      <th>2017-02-06</th>\n",
       "      <td>-0.296715</td>\n",
       "      <td>-0.605501</td>\n",
       "      <td>0.156349</td>\n",
       "      <td>30</td>\n",
       "      <td>21</td>\n",
       "    </tr>\n",
       "  </tbody>\n",
       "</table>\n",
       "</div>"
      ],
      "text/plain": [
       "                   A         B         C   D   F\n",
       "2017-02-01  0.000000  0.266565  0.000000   5   1\n",
       "2017-02-02  1.942267 -0.579136 -1.336378  10   3\n",
       "2017-02-03  1.810745 -0.213405  0.263669  15   6\n",
       "2017-02-04  0.565731 -0.491106 -0.459721  20  10\n",
       "2017-02-05 -0.069919 -0.050403  0.354128  25  15\n",
       "2017-02-06 -0.296715 -0.605501  0.156349  30  21"
      ]
     },
     "execution_count": 150,
     "metadata": {},
     "output_type": "execute_result"
    }
   ],
   "source": [
    "df.apply(np.cumsum)"
   ]
  },
  {
   "cell_type": "code",
   "execution_count": 152,
   "metadata": {
    "collapsed": false
   },
   "outputs": [
    {
     "data": {
      "text/plain": [
       "A    3.187282\n",
       "B    1.286404\n",
       "C    2.936426\n",
       "D    0.000000\n",
       "F    5.000000\n",
       "dtype: float64"
      ]
     },
     "execution_count": 152,
     "metadata": {},
     "output_type": "execute_result"
    }
   ],
   "source": [
    "df.apply(lambda x: x.max() - x.min()) # Passing by columns."
   ]
  },
  {
   "cell_type": "markdown",
   "metadata": {},
   "source": [
    "### Histogramming"
   ]
  },
  {
   "cell_type": "code",
   "execution_count": 153,
   "metadata": {
    "collapsed": false
   },
   "outputs": [
    {
     "data": {
      "text/plain": [
       "0    2\n",
       "1    0\n",
       "2    0\n",
       "3    3\n",
       "4    6\n",
       "5    1\n",
       "6    3\n",
       "7    5\n",
       "8    0\n",
       "9    1\n",
       "dtype: int64"
      ]
     },
     "execution_count": 153,
     "metadata": {},
     "output_type": "execute_result"
    }
   ],
   "source": [
    "s = pd.Series(np.random.randint(0,7, size=10))\n",
    "s"
   ]
  },
  {
   "cell_type": "code",
   "execution_count": 158,
   "metadata": {
    "collapsed": false
   },
   "outputs": [
    {
     "data": {
      "text/plain": [
       "0    3\n",
       "1    2\n",
       "2    1\n",
       "3    2\n",
       "5    1\n",
       "6    1\n",
       "dtype: int64"
      ]
     },
     "execution_count": 158,
     "metadata": {},
     "output_type": "execute_result"
    }
   ],
   "source": [
    "s.value_counts().sort_index()"
   ]
  },
  {
   "cell_type": "code",
   "execution_count": 161,
   "metadata": {
    "collapsed": false
   },
   "outputs": [
    {
     "data": {
      "text/plain": [
       "0       a\n",
       "1       b\n",
       "2       c\n",
       "3    aaba\n",
       "4    baca\n",
       "5     NaN\n",
       "6    caba\n",
       "7     dog\n",
       "8     cat\n",
       "dtype: object"
      ]
     },
     "execution_count": 161,
     "metadata": {},
     "output_type": "execute_result"
    }
   ],
   "source": [
    "s = pd.Series(['A', 'B', 'C', 'Aaba', 'Baca', np.nan, 'CABA', 'dog', 'cat'])\n",
    "s.str.lower()"
   ]
  },
  {
   "cell_type": "markdown",
   "metadata": {},
   "source": [
    "# Merge"
   ]
  },
  {
   "cell_type": "markdown",
   "metadata": {},
   "source": [
    "### Concat"
   ]
  },
  {
   "cell_type": "code",
   "execution_count": 163,
   "metadata": {
    "collapsed": false
   },
   "outputs": [
    {
     "data": {
      "text/html": [
       "<div>\n",
       "<table border=\"1\" class=\"dataframe\">\n",
       "  <thead>\n",
       "    <tr style=\"text-align: right;\">\n",
       "      <th></th>\n",
       "      <th>0</th>\n",
       "      <th>1</th>\n",
       "      <th>2</th>\n",
       "      <th>3</th>\n",
       "    </tr>\n",
       "  </thead>\n",
       "  <tbody>\n",
       "    <tr>\n",
       "      <th>0</th>\n",
       "      <td>0.367125</td>\n",
       "      <td>0.704400</td>\n",
       "      <td>0.316116</td>\n",
       "      <td>-0.765339</td>\n",
       "    </tr>\n",
       "    <tr>\n",
       "      <th>1</th>\n",
       "      <td>-0.834644</td>\n",
       "      <td>-1.639343</td>\n",
       "      <td>-1.515061</td>\n",
       "      <td>2.081502</td>\n",
       "    </tr>\n",
       "    <tr>\n",
       "      <th>2</th>\n",
       "      <td>1.359955</td>\n",
       "      <td>0.244222</td>\n",
       "      <td>-0.575767</td>\n",
       "      <td>-1.107505</td>\n",
       "    </tr>\n",
       "    <tr>\n",
       "      <th>3</th>\n",
       "      <td>0.347539</td>\n",
       "      <td>-1.413877</td>\n",
       "      <td>-0.199213</td>\n",
       "      <td>0.695090</td>\n",
       "    </tr>\n",
       "    <tr>\n",
       "      <th>4</th>\n",
       "      <td>-0.512785</td>\n",
       "      <td>-1.118234</td>\n",
       "      <td>1.308215</td>\n",
       "      <td>0.423963</td>\n",
       "    </tr>\n",
       "    <tr>\n",
       "      <th>5</th>\n",
       "      <td>1.136351</td>\n",
       "      <td>-0.458028</td>\n",
       "      <td>-1.171542</td>\n",
       "      <td>1.728857</td>\n",
       "    </tr>\n",
       "    <tr>\n",
       "      <th>6</th>\n",
       "      <td>0.257020</td>\n",
       "      <td>0.721273</td>\n",
       "      <td>-0.351734</td>\n",
       "      <td>-0.598811</td>\n",
       "    </tr>\n",
       "    <tr>\n",
       "      <th>7</th>\n",
       "      <td>-0.191565</td>\n",
       "      <td>-0.508600</td>\n",
       "      <td>0.419228</td>\n",
       "      <td>-1.421784</td>\n",
       "    </tr>\n",
       "    <tr>\n",
       "      <th>8</th>\n",
       "      <td>-1.024493</td>\n",
       "      <td>1.136391</td>\n",
       "      <td>0.636862</td>\n",
       "      <td>0.219984</td>\n",
       "    </tr>\n",
       "    <tr>\n",
       "      <th>9</th>\n",
       "      <td>1.235688</td>\n",
       "      <td>0.925804</td>\n",
       "      <td>-0.766899</td>\n",
       "      <td>-1.136588</td>\n",
       "    </tr>\n",
       "  </tbody>\n",
       "</table>\n",
       "</div>"
      ],
      "text/plain": [
       "          0         1         2         3\n",
       "0  0.367125  0.704400  0.316116 -0.765339\n",
       "1 -0.834644 -1.639343 -1.515061  2.081502\n",
       "2  1.359955  0.244222 -0.575767 -1.107505\n",
       "3  0.347539 -1.413877 -0.199213  0.695090\n",
       "4 -0.512785 -1.118234  1.308215  0.423963\n",
       "5  1.136351 -0.458028 -1.171542  1.728857\n",
       "6  0.257020  0.721273 -0.351734 -0.598811\n",
       "7 -0.191565 -0.508600  0.419228 -1.421784\n",
       "8 -1.024493  1.136391  0.636862  0.219984\n",
       "9  1.235688  0.925804 -0.766899 -1.136588"
      ]
     },
     "execution_count": 163,
     "metadata": {},
     "output_type": "execute_result"
    }
   ],
   "source": [
    "df = pd.DataFrame(np.random.randn(10,4))\n",
    "df"
   ]
  },
  {
   "cell_type": "code",
   "execution_count": 166,
   "metadata": {
    "collapsed": false
   },
   "outputs": [
    {
     "data": {
      "text/plain": [
       "[          0         1         2         3\n",
       " 0  0.367125  0.704400  0.316116 -0.765339\n",
       " 1 -0.834644 -1.639343 -1.515061  2.081502\n",
       " 2  1.359955  0.244222 -0.575767 -1.107505,\n",
       "           0         1         2         3\n",
       " 3  0.347539 -1.413877 -0.199213  0.695090\n",
       " 4 -0.512785 -1.118234  1.308215  0.423963\n",
       " 5  1.136351 -0.458028 -1.171542  1.728857,\n",
       "           0         1         2         3\n",
       " 6  0.257020  0.721273 -0.351734 -0.598811\n",
       " 7 -0.191565 -0.508600  0.419228 -1.421784\n",
       " 8 -1.024493  1.136391  0.636862  0.219984\n",
       " 9  1.235688  0.925804 -0.766899 -1.136588]"
      ]
     },
     "execution_count": 166,
     "metadata": {},
     "output_type": "execute_result"
    }
   ],
   "source": [
    "pieces = [df[:3], df[3:6], df[6:]]\n",
    "pieces"
   ]
  },
  {
   "cell_type": "code",
   "execution_count": 167,
   "metadata": {
    "collapsed": false
   },
   "outputs": [
    {
     "data": {
      "text/html": [
       "<div>\n",
       "<table border=\"1\" class=\"dataframe\">\n",
       "  <thead>\n",
       "    <tr style=\"text-align: right;\">\n",
       "      <th></th>\n",
       "      <th>0</th>\n",
       "      <th>1</th>\n",
       "      <th>2</th>\n",
       "      <th>3</th>\n",
       "    </tr>\n",
       "  </thead>\n",
       "  <tbody>\n",
       "    <tr>\n",
       "      <th>0</th>\n",
       "      <td>0.367125</td>\n",
       "      <td>0.704400</td>\n",
       "      <td>0.316116</td>\n",
       "      <td>-0.765339</td>\n",
       "    </tr>\n",
       "    <tr>\n",
       "      <th>1</th>\n",
       "      <td>-0.834644</td>\n",
       "      <td>-1.639343</td>\n",
       "      <td>-1.515061</td>\n",
       "      <td>2.081502</td>\n",
       "    </tr>\n",
       "    <tr>\n",
       "      <th>2</th>\n",
       "      <td>1.359955</td>\n",
       "      <td>0.244222</td>\n",
       "      <td>-0.575767</td>\n",
       "      <td>-1.107505</td>\n",
       "    </tr>\n",
       "    <tr>\n",
       "      <th>3</th>\n",
       "      <td>0.347539</td>\n",
       "      <td>-1.413877</td>\n",
       "      <td>-0.199213</td>\n",
       "      <td>0.695090</td>\n",
       "    </tr>\n",
       "    <tr>\n",
       "      <th>4</th>\n",
       "      <td>-0.512785</td>\n",
       "      <td>-1.118234</td>\n",
       "      <td>1.308215</td>\n",
       "      <td>0.423963</td>\n",
       "    </tr>\n",
       "    <tr>\n",
       "      <th>5</th>\n",
       "      <td>1.136351</td>\n",
       "      <td>-0.458028</td>\n",
       "      <td>-1.171542</td>\n",
       "      <td>1.728857</td>\n",
       "    </tr>\n",
       "    <tr>\n",
       "      <th>6</th>\n",
       "      <td>0.257020</td>\n",
       "      <td>0.721273</td>\n",
       "      <td>-0.351734</td>\n",
       "      <td>-0.598811</td>\n",
       "    </tr>\n",
       "    <tr>\n",
       "      <th>7</th>\n",
       "      <td>-0.191565</td>\n",
       "      <td>-0.508600</td>\n",
       "      <td>0.419228</td>\n",
       "      <td>-1.421784</td>\n",
       "    </tr>\n",
       "    <tr>\n",
       "      <th>8</th>\n",
       "      <td>-1.024493</td>\n",
       "      <td>1.136391</td>\n",
       "      <td>0.636862</td>\n",
       "      <td>0.219984</td>\n",
       "    </tr>\n",
       "    <tr>\n",
       "      <th>9</th>\n",
       "      <td>1.235688</td>\n",
       "      <td>0.925804</td>\n",
       "      <td>-0.766899</td>\n",
       "      <td>-1.136588</td>\n",
       "    </tr>\n",
       "  </tbody>\n",
       "</table>\n",
       "</div>"
      ],
      "text/plain": [
       "          0         1         2         3\n",
       "0  0.367125  0.704400  0.316116 -0.765339\n",
       "1 -0.834644 -1.639343 -1.515061  2.081502\n",
       "2  1.359955  0.244222 -0.575767 -1.107505\n",
       "3  0.347539 -1.413877 -0.199213  0.695090\n",
       "4 -0.512785 -1.118234  1.308215  0.423963\n",
       "5  1.136351 -0.458028 -1.171542  1.728857\n",
       "6  0.257020  0.721273 -0.351734 -0.598811\n",
       "7 -0.191565 -0.508600  0.419228 -1.421784\n",
       "8 -1.024493  1.136391  0.636862  0.219984\n",
       "9  1.235688  0.925804 -0.766899 -1.136588"
      ]
     },
     "execution_count": 167,
     "metadata": {},
     "output_type": "execute_result"
    }
   ],
   "source": [
    "pd.concat(pieces)"
   ]
  },
  {
   "cell_type": "markdown",
   "metadata": {},
   "source": [
    "### Join"
   ]
  },
  {
   "cell_type": "code",
   "execution_count": 173,
   "metadata": {
    "collapsed": false
   },
   "outputs": [
    {
     "data": {
      "text/html": [
       "<div>\n",
       "<table border=\"1\" class=\"dataframe\">\n",
       "  <thead>\n",
       "    <tr style=\"text-align: right;\">\n",
       "      <th></th>\n",
       "      <th>key</th>\n",
       "      <th>lval</th>\n",
       "    </tr>\n",
       "  </thead>\n",
       "  <tbody>\n",
       "    <tr>\n",
       "      <th>0</th>\n",
       "      <td>foo</td>\n",
       "      <td>1</td>\n",
       "    </tr>\n",
       "    <tr>\n",
       "      <th>1</th>\n",
       "      <td>bar</td>\n",
       "      <td>2</td>\n",
       "    </tr>\n",
       "  </tbody>\n",
       "</table>\n",
       "</div>"
      ],
      "text/plain": [
       "   key  lval\n",
       "0  foo     1\n",
       "1  bar     2"
      ]
     },
     "execution_count": 173,
     "metadata": {},
     "output_type": "execute_result"
    }
   ],
   "source": [
    "left = pd.DataFrame({'key': ['foo', 'bar'], 'lval': [1, 2]})\n",
    "left"
   ]
  },
  {
   "cell_type": "code",
   "execution_count": 174,
   "metadata": {
    "collapsed": false
   },
   "outputs": [
    {
     "data": {
      "text/html": [
       "<div>\n",
       "<table border=\"1\" class=\"dataframe\">\n",
       "  <thead>\n",
       "    <tr style=\"text-align: right;\">\n",
       "      <th></th>\n",
       "      <th>key</th>\n",
       "      <th>rval</th>\n",
       "    </tr>\n",
       "  </thead>\n",
       "  <tbody>\n",
       "    <tr>\n",
       "      <th>0</th>\n",
       "      <td>foo</td>\n",
       "      <td>4</td>\n",
       "    </tr>\n",
       "    <tr>\n",
       "      <th>1</th>\n",
       "      <td>bar</td>\n",
       "      <td>5</td>\n",
       "    </tr>\n",
       "  </tbody>\n",
       "</table>\n",
       "</div>"
      ],
      "text/plain": [
       "   key  rval\n",
       "0  foo     4\n",
       "1  bar     5"
      ]
     },
     "execution_count": 174,
     "metadata": {},
     "output_type": "execute_result"
    }
   ],
   "source": [
    "right = pd.DataFrame({'key': ['foo', 'bar'], 'rval': [4, 5]})\n",
    "right"
   ]
  },
  {
   "cell_type": "code",
   "execution_count": 175,
   "metadata": {
    "collapsed": false
   },
   "outputs": [
    {
     "data": {
      "text/html": [
       "<div>\n",
       "<table border=\"1\" class=\"dataframe\">\n",
       "  <thead>\n",
       "    <tr style=\"text-align: right;\">\n",
       "      <th></th>\n",
       "      <th>key</th>\n",
       "      <th>lval</th>\n",
       "      <th>rval</th>\n",
       "    </tr>\n",
       "  </thead>\n",
       "  <tbody>\n",
       "    <tr>\n",
       "      <th>0</th>\n",
       "      <td>foo</td>\n",
       "      <td>1</td>\n",
       "      <td>4</td>\n",
       "    </tr>\n",
       "    <tr>\n",
       "      <th>1</th>\n",
       "      <td>bar</td>\n",
       "      <td>2</td>\n",
       "      <td>5</td>\n",
       "    </tr>\n",
       "  </tbody>\n",
       "</table>\n",
       "</div>"
      ],
      "text/plain": [
       "   key  lval  rval\n",
       "0  foo     1     4\n",
       "1  bar     2     5"
      ]
     },
     "execution_count": 175,
     "metadata": {},
     "output_type": "execute_result"
    }
   ],
   "source": [
    "pd.merge(left, right, on='key')"
   ]
  },
  {
   "cell_type": "markdown",
   "metadata": {},
   "source": [
    "### Append"
   ]
  },
  {
   "cell_type": "code",
   "execution_count": 176,
   "metadata": {
    "collapsed": false
   },
   "outputs": [
    {
     "data": {
      "text/html": [
       "<div>\n",
       "<table border=\"1\" class=\"dataframe\">\n",
       "  <thead>\n",
       "    <tr style=\"text-align: right;\">\n",
       "      <th></th>\n",
       "      <th>A</th>\n",
       "      <th>B</th>\n",
       "      <th>C</th>\n",
       "      <th>D</th>\n",
       "    </tr>\n",
       "  </thead>\n",
       "  <tbody>\n",
       "    <tr>\n",
       "      <th>0</th>\n",
       "      <td>-1.352744</td>\n",
       "      <td>0.669614</td>\n",
       "      <td>0.968712</td>\n",
       "      <td>1.737936</td>\n",
       "    </tr>\n",
       "    <tr>\n",
       "      <th>1</th>\n",
       "      <td>-0.457471</td>\n",
       "      <td>-1.299007</td>\n",
       "      <td>1.076705</td>\n",
       "      <td>-0.944512</td>\n",
       "    </tr>\n",
       "    <tr>\n",
       "      <th>2</th>\n",
       "      <td>-0.628660</td>\n",
       "      <td>1.361387</td>\n",
       "      <td>-1.025111</td>\n",
       "      <td>-0.280128</td>\n",
       "    </tr>\n",
       "    <tr>\n",
       "      <th>3</th>\n",
       "      <td>-0.185207</td>\n",
       "      <td>0.232903</td>\n",
       "      <td>0.757218</td>\n",
       "      <td>-0.773022</td>\n",
       "    </tr>\n",
       "    <tr>\n",
       "      <th>4</th>\n",
       "      <td>1.516732</td>\n",
       "      <td>0.796255</td>\n",
       "      <td>-2.484004</td>\n",
       "      <td>0.320377</td>\n",
       "    </tr>\n",
       "    <tr>\n",
       "      <th>5</th>\n",
       "      <td>-0.052412</td>\n",
       "      <td>0.052913</td>\n",
       "      <td>0.735213</td>\n",
       "      <td>-0.440536</td>\n",
       "    </tr>\n",
       "    <tr>\n",
       "      <th>6</th>\n",
       "      <td>0.464733</td>\n",
       "      <td>1.475756</td>\n",
       "      <td>-0.516469</td>\n",
       "      <td>-0.158309</td>\n",
       "    </tr>\n",
       "    <tr>\n",
       "      <th>7</th>\n",
       "      <td>2.223026</td>\n",
       "      <td>1.963656</td>\n",
       "      <td>0.793533</td>\n",
       "      <td>0.754606</td>\n",
       "    </tr>\n",
       "  </tbody>\n",
       "</table>\n",
       "</div>"
      ],
      "text/plain": [
       "          A         B         C         D\n",
       "0 -1.352744  0.669614  0.968712  1.737936\n",
       "1 -0.457471 -1.299007  1.076705 -0.944512\n",
       "2 -0.628660  1.361387 -1.025111 -0.280128\n",
       "3 -0.185207  0.232903  0.757218 -0.773022\n",
       "4  1.516732  0.796255 -2.484004  0.320377\n",
       "5 -0.052412  0.052913  0.735213 -0.440536\n",
       "6  0.464733  1.475756 -0.516469 -0.158309\n",
       "7  2.223026  1.963656  0.793533  0.754606"
      ]
     },
     "execution_count": 176,
     "metadata": {},
     "output_type": "execute_result"
    }
   ],
   "source": [
    "df = pd.DataFrame(np.random.randn(8, 4), columns=['A','B','C','D'])\n",
    "df"
   ]
  },
  {
   "cell_type": "code",
   "execution_count": 177,
   "metadata": {
    "collapsed": false
   },
   "outputs": [
    {
     "data": {
      "text/plain": [
       "A   -0.185207\n",
       "B    0.232903\n",
       "C    0.757218\n",
       "D   -0.773022\n",
       "Name: 3, dtype: float64"
      ]
     },
     "execution_count": 177,
     "metadata": {},
     "output_type": "execute_result"
    }
   ],
   "source": [
    "s = df.iloc[3]\n",
    "s"
   ]
  },
  {
   "cell_type": "code",
   "execution_count": 180,
   "metadata": {
    "collapsed": false
   },
   "outputs": [
    {
     "data": {
      "text/html": [
       "<div>\n",
       "<table border=\"1\" class=\"dataframe\">\n",
       "  <thead>\n",
       "    <tr style=\"text-align: right;\">\n",
       "      <th></th>\n",
       "      <th>A</th>\n",
       "      <th>B</th>\n",
       "      <th>C</th>\n",
       "      <th>D</th>\n",
       "    </tr>\n",
       "  </thead>\n",
       "  <tbody>\n",
       "    <tr>\n",
       "      <th>0</th>\n",
       "      <td>-1.352744</td>\n",
       "      <td>0.669614</td>\n",
       "      <td>0.968712</td>\n",
       "      <td>1.737936</td>\n",
       "    </tr>\n",
       "    <tr>\n",
       "      <th>1</th>\n",
       "      <td>-0.457471</td>\n",
       "      <td>-1.299007</td>\n",
       "      <td>1.076705</td>\n",
       "      <td>-0.944512</td>\n",
       "    </tr>\n",
       "    <tr>\n",
       "      <th>2</th>\n",
       "      <td>-0.628660</td>\n",
       "      <td>1.361387</td>\n",
       "      <td>-1.025111</td>\n",
       "      <td>-0.280128</td>\n",
       "    </tr>\n",
       "    <tr>\n",
       "      <th>3</th>\n",
       "      <td>-0.185207</td>\n",
       "      <td>0.232903</td>\n",
       "      <td>0.757218</td>\n",
       "      <td>-0.773022</td>\n",
       "    </tr>\n",
       "    <tr>\n",
       "      <th>4</th>\n",
       "      <td>1.516732</td>\n",
       "      <td>0.796255</td>\n",
       "      <td>-2.484004</td>\n",
       "      <td>0.320377</td>\n",
       "    </tr>\n",
       "    <tr>\n",
       "      <th>5</th>\n",
       "      <td>-0.052412</td>\n",
       "      <td>0.052913</td>\n",
       "      <td>0.735213</td>\n",
       "      <td>-0.440536</td>\n",
       "    </tr>\n",
       "    <tr>\n",
       "      <th>6</th>\n",
       "      <td>0.464733</td>\n",
       "      <td>1.475756</td>\n",
       "      <td>-0.516469</td>\n",
       "      <td>-0.158309</td>\n",
       "    </tr>\n",
       "    <tr>\n",
       "      <th>7</th>\n",
       "      <td>2.223026</td>\n",
       "      <td>1.963656</td>\n",
       "      <td>0.793533</td>\n",
       "      <td>0.754606</td>\n",
       "    </tr>\n",
       "    <tr>\n",
       "      <th>8</th>\n",
       "      <td>-0.185207</td>\n",
       "      <td>0.232903</td>\n",
       "      <td>0.757218</td>\n",
       "      <td>-0.773022</td>\n",
       "    </tr>\n",
       "  </tbody>\n",
       "</table>\n",
       "</div>"
      ],
      "text/plain": [
       "          A         B         C         D\n",
       "0 -1.352744  0.669614  0.968712  1.737936\n",
       "1 -0.457471 -1.299007  1.076705 -0.944512\n",
       "2 -0.628660  1.361387 -1.025111 -0.280128\n",
       "3 -0.185207  0.232903  0.757218 -0.773022\n",
       "4  1.516732  0.796255 -2.484004  0.320377\n",
       "5 -0.052412  0.052913  0.735213 -0.440536\n",
       "6  0.464733  1.475756 -0.516469 -0.158309\n",
       "7  2.223026  1.963656  0.793533  0.754606\n",
       "8 -0.185207  0.232903  0.757218 -0.773022"
      ]
     },
     "execution_count": 180,
     "metadata": {},
     "output_type": "execute_result"
    }
   ],
   "source": [
    "df = df.append(s, ignore_index=True)\n",
    "df"
   ]
  },
  {
   "cell_type": "code",
   "execution_count": 182,
   "metadata": {
    "collapsed": false
   },
   "outputs": [
    {
     "data": {
      "text/html": [
       "<div>\n",
       "<table border=\"1\" class=\"dataframe\">\n",
       "  <thead>\n",
       "    <tr style=\"text-align: right;\">\n",
       "      <th></th>\n",
       "      <th>A</th>\n",
       "      <th>B</th>\n",
       "      <th>C</th>\n",
       "      <th>D</th>\n",
       "    </tr>\n",
       "  </thead>\n",
       "  <tbody>\n",
       "    <tr>\n",
       "      <th>0</th>\n",
       "      <td>-1.352744</td>\n",
       "      <td>0.669614</td>\n",
       "      <td>0.968712</td>\n",
       "      <td>1.737936</td>\n",
       "    </tr>\n",
       "    <tr>\n",
       "      <th>1</th>\n",
       "      <td>-0.457471</td>\n",
       "      <td>-1.299007</td>\n",
       "      <td>1.076705</td>\n",
       "      <td>-0.944512</td>\n",
       "    </tr>\n",
       "    <tr>\n",
       "      <th>2</th>\n",
       "      <td>-0.628660</td>\n",
       "      <td>1.361387</td>\n",
       "      <td>-1.025111</td>\n",
       "      <td>-0.280128</td>\n",
       "    </tr>\n",
       "    <tr>\n",
       "      <th>3</th>\n",
       "      <td>-0.185207</td>\n",
       "      <td>0.232903</td>\n",
       "      <td>0.757218</td>\n",
       "      <td>-0.773022</td>\n",
       "    </tr>\n",
       "    <tr>\n",
       "      <th>4</th>\n",
       "      <td>1.516732</td>\n",
       "      <td>0.796255</td>\n",
       "      <td>-2.484004</td>\n",
       "      <td>0.320377</td>\n",
       "    </tr>\n",
       "    <tr>\n",
       "      <th>5</th>\n",
       "      <td>-0.052412</td>\n",
       "      <td>0.052913</td>\n",
       "      <td>0.735213</td>\n",
       "      <td>-0.440536</td>\n",
       "    </tr>\n",
       "    <tr>\n",
       "      <th>6</th>\n",
       "      <td>0.464733</td>\n",
       "      <td>1.475756</td>\n",
       "      <td>-0.516469</td>\n",
       "      <td>-0.158309</td>\n",
       "    </tr>\n",
       "    <tr>\n",
       "      <th>7</th>\n",
       "      <td>2.223026</td>\n",
       "      <td>1.963656</td>\n",
       "      <td>0.793533</td>\n",
       "      <td>0.754606</td>\n",
       "    </tr>\n",
       "    <tr>\n",
       "      <th>8</th>\n",
       "      <td>-0.185207</td>\n",
       "      <td>0.232903</td>\n",
       "      <td>0.757218</td>\n",
       "      <td>-0.773022</td>\n",
       "    </tr>\n",
       "    <tr>\n",
       "      <th>3</th>\n",
       "      <td>-0.185207</td>\n",
       "      <td>0.232903</td>\n",
       "      <td>0.757218</td>\n",
       "      <td>-0.773022</td>\n",
       "    </tr>\n",
       "  </tbody>\n",
       "</table>\n",
       "</div>"
      ],
      "text/plain": [
       "          A         B         C         D\n",
       "0 -1.352744  0.669614  0.968712  1.737936\n",
       "1 -0.457471 -1.299007  1.076705 -0.944512\n",
       "2 -0.628660  1.361387 -1.025111 -0.280128\n",
       "3 -0.185207  0.232903  0.757218 -0.773022\n",
       "4  1.516732  0.796255 -2.484004  0.320377\n",
       "5 -0.052412  0.052913  0.735213 -0.440536\n",
       "6  0.464733  1.475756 -0.516469 -0.158309\n",
       "7  2.223026  1.963656  0.793533  0.754606\n",
       "8 -0.185207  0.232903  0.757218 -0.773022\n",
       "3 -0.185207  0.232903  0.757218 -0.773022"
      ]
     },
     "execution_count": 182,
     "metadata": {},
     "output_type": "execute_result"
    }
   ],
   "source": [
    "df.append(s) # ignore_index=False"
   ]
  },
  {
   "cell_type": "markdown",
   "metadata": {},
   "source": [
    "# Grouping"
   ]
  },
  {
   "cell_type": "code",
   "execution_count": 184,
   "metadata": {
    "collapsed": false
   },
   "outputs": [
    {
     "data": {
      "text/html": [
       "<div>\n",
       "<table border=\"1\" class=\"dataframe\">\n",
       "  <thead>\n",
       "    <tr style=\"text-align: right;\">\n",
       "      <th></th>\n",
       "      <th>A</th>\n",
       "      <th>B</th>\n",
       "      <th>C</th>\n",
       "      <th>D</th>\n",
       "    </tr>\n",
       "  </thead>\n",
       "  <tbody>\n",
       "    <tr>\n",
       "      <th>0</th>\n",
       "      <td>foo</td>\n",
       "      <td>one</td>\n",
       "      <td>1.897241</td>\n",
       "      <td>0.421460</td>\n",
       "    </tr>\n",
       "    <tr>\n",
       "      <th>1</th>\n",
       "      <td>bar</td>\n",
       "      <td>one</td>\n",
       "      <td>-0.516418</td>\n",
       "      <td>-0.179917</td>\n",
       "    </tr>\n",
       "    <tr>\n",
       "      <th>2</th>\n",
       "      <td>foo</td>\n",
       "      <td>two</td>\n",
       "      <td>-0.121293</td>\n",
       "      <td>0.333979</td>\n",
       "    </tr>\n",
       "    <tr>\n",
       "      <th>3</th>\n",
       "      <td>bar</td>\n",
       "      <td>three</td>\n",
       "      <td>-0.583529</td>\n",
       "      <td>-0.320344</td>\n",
       "    </tr>\n",
       "    <tr>\n",
       "      <th>4</th>\n",
       "      <td>foo</td>\n",
       "      <td>two</td>\n",
       "      <td>-0.168007</td>\n",
       "      <td>0.085412</td>\n",
       "    </tr>\n",
       "    <tr>\n",
       "      <th>5</th>\n",
       "      <td>bar</td>\n",
       "      <td>two</td>\n",
       "      <td>0.780230</td>\n",
       "      <td>1.812363</td>\n",
       "    </tr>\n",
       "    <tr>\n",
       "      <th>6</th>\n",
       "      <td>foo</td>\n",
       "      <td>one</td>\n",
       "      <td>-0.563046</td>\n",
       "      <td>0.631205</td>\n",
       "    </tr>\n",
       "    <tr>\n",
       "      <th>7</th>\n",
       "      <td>foo</td>\n",
       "      <td>three</td>\n",
       "      <td>-1.322415</td>\n",
       "      <td>-0.488179</td>\n",
       "    </tr>\n",
       "  </tbody>\n",
       "</table>\n",
       "</div>"
      ],
      "text/plain": [
       "     A      B         C         D\n",
       "0  foo    one  1.897241  0.421460\n",
       "1  bar    one -0.516418 -0.179917\n",
       "2  foo    two -0.121293  0.333979\n",
       "3  bar  three -0.583529 -0.320344\n",
       "4  foo    two -0.168007  0.085412\n",
       "5  bar    two  0.780230  1.812363\n",
       "6  foo    one -0.563046  0.631205\n",
       "7  foo  three -1.322415 -0.488179"
      ]
     },
     "execution_count": 184,
     "metadata": {},
     "output_type": "execute_result"
    }
   ],
   "source": [
    "df = pd.DataFrame({'A' : ['foo', 'bar', 'foo', 'bar',\n",
    "   ....:                           'foo', 'bar', 'foo', 'foo'],\n",
    "   ....:                    'B' : ['one', 'one', 'two', 'three',\n",
    "   ....:                           'two', 'two', 'one', 'three'],\n",
    "   ....:                    'C' : np.random.randn(8),\n",
    "   ....:                    'D' : np.random.randn(8)})\n",
    "\n",
    "df"
   ]
  },
  {
   "cell_type": "code",
   "execution_count": 185,
   "metadata": {
    "collapsed": false
   },
   "outputs": [
    {
     "data": {
      "text/html": [
       "<div>\n",
       "<table border=\"1\" class=\"dataframe\">\n",
       "  <thead>\n",
       "    <tr style=\"text-align: right;\">\n",
       "      <th></th>\n",
       "      <th>C</th>\n",
       "      <th>D</th>\n",
       "    </tr>\n",
       "    <tr>\n",
       "      <th>A</th>\n",
       "      <th></th>\n",
       "      <th></th>\n",
       "    </tr>\n",
       "  </thead>\n",
       "  <tbody>\n",
       "    <tr>\n",
       "      <th>bar</th>\n",
       "      <td>-0.319717</td>\n",
       "      <td>1.312102</td>\n",
       "    </tr>\n",
       "    <tr>\n",
       "      <th>foo</th>\n",
       "      <td>-0.277520</td>\n",
       "      <td>0.983877</td>\n",
       "    </tr>\n",
       "  </tbody>\n",
       "</table>\n",
       "</div>"
      ],
      "text/plain": [
       "            C         D\n",
       "A                      \n",
       "bar -0.319717  1.312102\n",
       "foo -0.277520  0.983877"
      ]
     },
     "execution_count": 185,
     "metadata": {},
     "output_type": "execute_result"
    }
   ],
   "source": [
    "df.groupby('A').sum()"
   ]
  },
  {
   "cell_type": "markdown",
   "metadata": {},
   "source": [
    "# Reshaping"
   ]
  },
  {
   "cell_type": "markdown",
   "metadata": {},
   "source": [
    "### Stack"
   ]
  },
  {
   "cell_type": "code",
   "execution_count": 186,
   "metadata": {
    "collapsed": false
   },
   "outputs": [
    {
     "data": {
      "text/plain": [
       "[('bar', 'one'),\n",
       " ('bar', 'two'),\n",
       " ('baz', 'one'),\n",
       " ('baz', 'two'),\n",
       " ('foo', 'one'),\n",
       " ('foo', 'two'),\n",
       " ('qux', 'one'),\n",
       " ('qux', 'two')]"
      ]
     },
     "execution_count": 186,
     "metadata": {},
     "output_type": "execute_result"
    }
   ],
   "source": [
    "tuples = list(zip(*[['bar', 'bar', 'baz', 'baz',\n",
    "   ....:                      'foo', 'foo', 'qux', 'qux'],\n",
    "   ....:                     ['one', 'two', 'one', 'two',\n",
    "   ....:                      'one', 'two', 'one', 'two']]))\n",
    "tuples"
   ]
  },
  {
   "cell_type": "code",
   "execution_count": 187,
   "metadata": {
    "collapsed": false
   },
   "outputs": [
    {
     "data": {
      "text/plain": [
       "MultiIndex(levels=[['bar', 'baz', 'foo', 'qux'], ['one', 'two']],\n",
       "           labels=[[0, 0, 1, 1, 2, 2, 3, 3], [0, 1, 0, 1, 0, 1, 0, 1]],\n",
       "           names=['first', 'second'])"
      ]
     },
     "execution_count": 187,
     "metadata": {},
     "output_type": "execute_result"
    }
   ],
   "source": [
    "index = pd.MultiIndex.from_tuples(tuples, names=['first', 'second'])\n",
    "index"
   ]
  },
  {
   "cell_type": "code",
   "execution_count": 188,
   "metadata": {
    "collapsed": false
   },
   "outputs": [
    {
     "data": {
      "text/html": [
       "<div>\n",
       "<table border=\"1\" class=\"dataframe\">\n",
       "  <thead>\n",
       "    <tr style=\"text-align: right;\">\n",
       "      <th></th>\n",
       "      <th></th>\n",
       "      <th>A</th>\n",
       "      <th>B</th>\n",
       "    </tr>\n",
       "    <tr>\n",
       "      <th>first</th>\n",
       "      <th>second</th>\n",
       "      <th></th>\n",
       "      <th></th>\n",
       "    </tr>\n",
       "  </thead>\n",
       "  <tbody>\n",
       "    <tr>\n",
       "      <th rowspan=\"2\" valign=\"top\">bar</th>\n",
       "      <th>one</th>\n",
       "      <td>-1.301733</td>\n",
       "      <td>1.225247</td>\n",
       "    </tr>\n",
       "    <tr>\n",
       "      <th>two</th>\n",
       "      <td>0.254113</td>\n",
       "      <td>-0.064618</td>\n",
       "    </tr>\n",
       "    <tr>\n",
       "      <th rowspan=\"2\" valign=\"top\">baz</th>\n",
       "      <th>one</th>\n",
       "      <td>-1.005265</td>\n",
       "      <td>1.643823</td>\n",
       "    </tr>\n",
       "    <tr>\n",
       "      <th>two</th>\n",
       "      <td>0.988117</td>\n",
       "      <td>-1.552998</td>\n",
       "    </tr>\n",
       "  </tbody>\n",
       "</table>\n",
       "</div>"
      ],
      "text/plain": [
       "                     A         B\n",
       "first second                    \n",
       "bar   one    -1.301733  1.225247\n",
       "      two     0.254113 -0.064618\n",
       "baz   one    -1.005265  1.643823\n",
       "      two     0.988117 -1.552998"
      ]
     },
     "execution_count": 188,
     "metadata": {},
     "output_type": "execute_result"
    }
   ],
   "source": [
    "df = pd.DataFrame(np.random.randn(8, 2), index=index, columns=['A', 'B'])\n",
    "df2 = df[:4]\n",
    "df2"
   ]
  },
  {
   "cell_type": "code",
   "execution_count": 190,
   "metadata": {
    "collapsed": false
   },
   "outputs": [
    {
     "data": {
      "text/plain": [
       "first  second   \n",
       "bar    one     A   -1.301733\n",
       "               B    1.225247\n",
       "       two     A    0.254113\n",
       "               B   -0.064618\n",
       "baz    one     A   -1.005265\n",
       "               B    1.643823\n",
       "       two     A    0.988117\n",
       "               B   -1.552998\n",
       "dtype: float64"
      ]
     },
     "execution_count": 190,
     "metadata": {},
     "output_type": "execute_result"
    }
   ],
   "source": [
    "stacked = df2.stack()\n",
    "stacked"
   ]
  },
  {
   "cell_type": "code",
   "execution_count": 191,
   "metadata": {
    "collapsed": false
   },
   "outputs": [
    {
     "data": {
      "text/html": [
       "<div>\n",
       "<table border=\"1\" class=\"dataframe\">\n",
       "  <thead>\n",
       "    <tr style=\"text-align: right;\">\n",
       "      <th></th>\n",
       "      <th></th>\n",
       "      <th>A</th>\n",
       "      <th>B</th>\n",
       "    </tr>\n",
       "    <tr>\n",
       "      <th>first</th>\n",
       "      <th>second</th>\n",
       "      <th></th>\n",
       "      <th></th>\n",
       "    </tr>\n",
       "  </thead>\n",
       "  <tbody>\n",
       "    <tr>\n",
       "      <th rowspan=\"2\" valign=\"top\">bar</th>\n",
       "      <th>one</th>\n",
       "      <td>-1.301733</td>\n",
       "      <td>1.225247</td>\n",
       "    </tr>\n",
       "    <tr>\n",
       "      <th>two</th>\n",
       "      <td>0.254113</td>\n",
       "      <td>-0.064618</td>\n",
       "    </tr>\n",
       "    <tr>\n",
       "      <th rowspan=\"2\" valign=\"top\">baz</th>\n",
       "      <th>one</th>\n",
       "      <td>-1.005265</td>\n",
       "      <td>1.643823</td>\n",
       "    </tr>\n",
       "    <tr>\n",
       "      <th>two</th>\n",
       "      <td>0.988117</td>\n",
       "      <td>-1.552998</td>\n",
       "    </tr>\n",
       "  </tbody>\n",
       "</table>\n",
       "</div>"
      ],
      "text/plain": [
       "                     A         B\n",
       "first second                    \n",
       "bar   one    -1.301733  1.225247\n",
       "      two     0.254113 -0.064618\n",
       "baz   one    -1.005265  1.643823\n",
       "      two     0.988117 -1.552998"
      ]
     },
     "execution_count": 191,
     "metadata": {},
     "output_type": "execute_result"
    }
   ],
   "source": [
    "stacked.unstack()"
   ]
  },
  {
   "cell_type": "code",
   "execution_count": 192,
   "metadata": {
    "collapsed": false
   },
   "outputs": [
    {
     "data": {
      "text/html": [
       "<div>\n",
       "<table border=\"1\" class=\"dataframe\">\n",
       "  <thead>\n",
       "    <tr style=\"text-align: right;\">\n",
       "      <th></th>\n",
       "      <th>second</th>\n",
       "      <th>one</th>\n",
       "      <th>two</th>\n",
       "    </tr>\n",
       "    <tr>\n",
       "      <th>first</th>\n",
       "      <th></th>\n",
       "      <th></th>\n",
       "      <th></th>\n",
       "    </tr>\n",
       "  </thead>\n",
       "  <tbody>\n",
       "    <tr>\n",
       "      <th rowspan=\"2\" valign=\"top\">bar</th>\n",
       "      <th>A</th>\n",
       "      <td>-1.301733</td>\n",
       "      <td>0.254113</td>\n",
       "    </tr>\n",
       "    <tr>\n",
       "      <th>B</th>\n",
       "      <td>1.225247</td>\n",
       "      <td>-0.064618</td>\n",
       "    </tr>\n",
       "    <tr>\n",
       "      <th rowspan=\"2\" valign=\"top\">baz</th>\n",
       "      <th>A</th>\n",
       "      <td>-1.005265</td>\n",
       "      <td>0.988117</td>\n",
       "    </tr>\n",
       "    <tr>\n",
       "      <th>B</th>\n",
       "      <td>1.643823</td>\n",
       "      <td>-1.552998</td>\n",
       "    </tr>\n",
       "  </tbody>\n",
       "</table>\n",
       "</div>"
      ],
      "text/plain": [
       "second        one       two\n",
       "first                      \n",
       "bar   A -1.301733  0.254113\n",
       "      B  1.225247 -0.064618\n",
       "baz   A -1.005265  0.988117\n",
       "      B  1.643823 -1.552998"
      ]
     },
     "execution_count": 192,
     "metadata": {},
     "output_type": "execute_result"
    }
   ],
   "source": [
    "stacked.unstack(1)"
   ]
  },
  {
   "cell_type": "code",
   "execution_count": 193,
   "metadata": {
    "collapsed": false
   },
   "outputs": [
    {
     "data": {
      "text/html": [
       "<div>\n",
       "<table border=\"1\" class=\"dataframe\">\n",
       "  <thead>\n",
       "    <tr style=\"text-align: right;\">\n",
       "      <th></th>\n",
       "      <th>first</th>\n",
       "      <th>bar</th>\n",
       "      <th>baz</th>\n",
       "    </tr>\n",
       "    <tr>\n",
       "      <th>second</th>\n",
       "      <th></th>\n",
       "      <th></th>\n",
       "      <th></th>\n",
       "    </tr>\n",
       "  </thead>\n",
       "  <tbody>\n",
       "    <tr>\n",
       "      <th rowspan=\"2\" valign=\"top\">one</th>\n",
       "      <th>A</th>\n",
       "      <td>-1.301733</td>\n",
       "      <td>-1.005265</td>\n",
       "    </tr>\n",
       "    <tr>\n",
       "      <th>B</th>\n",
       "      <td>1.225247</td>\n",
       "      <td>1.643823</td>\n",
       "    </tr>\n",
       "    <tr>\n",
       "      <th rowspan=\"2\" valign=\"top\">two</th>\n",
       "      <th>A</th>\n",
       "      <td>0.254113</td>\n",
       "      <td>0.988117</td>\n",
       "    </tr>\n",
       "    <tr>\n",
       "      <th>B</th>\n",
       "      <td>-0.064618</td>\n",
       "      <td>-1.552998</td>\n",
       "    </tr>\n",
       "  </tbody>\n",
       "</table>\n",
       "</div>"
      ],
      "text/plain": [
       "first          bar       baz\n",
       "second                      \n",
       "one    A -1.301733 -1.005265\n",
       "       B  1.225247  1.643823\n",
       "two    A  0.254113  0.988117\n",
       "       B -0.064618 -1.552998"
      ]
     },
     "execution_count": 193,
     "metadata": {},
     "output_type": "execute_result"
    }
   ],
   "source": [
    "stacked.unstack(0)"
   ]
  },
  {
   "cell_type": "markdown",
   "metadata": {},
   "source": [
    "### Pivot Tables"
   ]
  },
  {
   "cell_type": "markdown",
   "metadata": {},
   "source": [
    "### Time Series"
   ]
  },
  {
   "cell_type": "markdown",
   "metadata": {},
   "source": [
    "### Categoricals"
   ]
  },
  {
   "cell_type": "code",
   "execution_count": 194,
   "metadata": {
    "collapsed": false
   },
   "outputs": [
    {
     "data": {
      "text/plain": [
       "0    a\n",
       "1    b\n",
       "2    b\n",
       "3    a\n",
       "4    a\n",
       "5    e\n",
       "Name: grade, dtype: category\n",
       "Categories (3, object): [a, b, e]"
      ]
     },
     "execution_count": 194,
     "metadata": {},
     "output_type": "execute_result"
    }
   ],
   "source": [
    "df = pd.DataFrame({\"id\":[1,2,3,4,5,6], \"raw_grade\":['a', 'b', 'b', 'a', 'a', 'e']})\n",
    "df[\"grade\"] = df[\"raw_grade\"].astype(\"category\")\n",
    "df[\"grade\"]"
   ]
  },
  {
   "cell_type": "code",
   "execution_count": 197,
   "metadata": {
    "collapsed": false
   },
   "outputs": [
    {
     "data": {
      "text/plain": [
       "0    very good\n",
       "1         good\n",
       "2         good\n",
       "3    very good\n",
       "4    very good\n",
       "5     very bad\n",
       "Name: grade, dtype: category\n",
       "Categories (3, object): [very good, good, very bad]"
      ]
     },
     "execution_count": 197,
     "metadata": {},
     "output_type": "execute_result"
    }
   ],
   "source": [
    "df[\"grade\"].cat.categories = [\"very good\", \"good\", \"very bad\"]\n",
    "df[\"grade\"]"
   ]
  },
  {
   "cell_type": "markdown",
   "metadata": {},
   "source": [
    "# Plotting"
   ]
  },
  {
   "cell_type": "code",
   "execution_count": 216,
   "metadata": {
    "collapsed": false
   },
   "outputs": [
    {
     "data": {
      "image/png": "[encoded data removed]",
      "text/plain": [
       "<matplotlib.figure.Figure at 0x116e31f60>"
      ]
     },
     "metadata": {},
     "output_type": "display_data"
    }
   ],
   "source": [
    "ts = pd.Series(np.random.randn(1000), index=pd.date_range('1/1/2000', periods=1000))\n",
    "ts = ts.cumsum()\n",
    "ts.plot()\n",
    "plt.show()"
   ]
  },
  {
   "cell_type": "code",
   "execution_count": 217,
   "metadata": {
    "collapsed": false
   },
   "outputs": [
    {
     "data": {
      "text/plain": [
       "<matplotlib.figure.Figure at 0x116c4f2e8>"
      ]
     },
     "metadata": {},
     "output_type": "display_data"
    },
    {
     "data": {
      "image/png": "[encoded data removed]",
      "text/plain": [
       "<matplotlib.figure.Figure at 0x115feec18>"
      ]
     },
     "metadata": {},
     "output_type": "display_data"
    }
   ],
   "source": [
    "df = pd.DataFrame(np.random.randn(1000, 4), index=ts.index, columns=['A', 'B', 'C', 'D'])\n",
    "df = df.cumsum()\n",
    "plt.figure(); df.plot(); plt.legend(loc='best')\n",
    "plt.show()"
   ]
  },
  {
   "cell_type": "markdown",
   "metadata": {},
   "source": [
    "# Getting Data In/Out"
   ]
  },
  {
   "cell_type": "markdown",
   "metadata": {},
   "source": [
    "### CSV"
   ]
  },
  {
   "cell_type": "code",
   "execution_count": 218,
   "metadata": {
    "collapsed": true
   },
   "outputs": [],
   "source": [
    "df.to_csv('df.csv')"
   ]
  },
  {
   "cell_type": "code",
   "execution_count": 219,
   "metadata": {
    "collapsed": false
   },
   "outputs": [
    {
     "data": {
      "text/html": [
       "<div>\n",
       "<table border=\"1\" class=\"dataframe\">\n",
       "  <thead>\n",
       "    <tr style=\"text-align: right;\">\n",
       "      <th></th>\n",
       "      <th>Unnamed: 0</th>\n",
       "      <th>A</th>\n",
       "      <th>B</th>\n",
       "      <th>C</th>\n",
       "      <th>D</th>\n",
       "    </tr>\n",
       "  </thead>\n",
       "  <tbody>\n",
       "    <tr>\n",
       "      <th>0</th>\n",
       "      <td>2000-01-01</td>\n",
       "      <td>0.204218</td>\n",
       "      <td>-0.313904</td>\n",
       "      <td>-1.931319</td>\n",
       "      <td>-1.849885</td>\n",
       "    </tr>\n",
       "    <tr>\n",
       "      <th>1</th>\n",
       "      <td>2000-01-02</td>\n",
       "      <td>1.164656</td>\n",
       "      <td>-1.188812</td>\n",
       "      <td>-2.460209</td>\n",
       "      <td>-2.638139</td>\n",
       "    </tr>\n",
       "    <tr>\n",
       "      <th>2</th>\n",
       "      <td>2000-01-03</td>\n",
       "      <td>0.864819</td>\n",
       "      <td>-0.894679</td>\n",
       "      <td>-3.921989</td>\n",
       "      <td>-4.420981</td>\n",
       "    </tr>\n",
       "    <tr>\n",
       "      <th>3</th>\n",
       "      <td>2000-01-04</td>\n",
       "      <td>0.987460</td>\n",
       "      <td>0.440535</td>\n",
       "      <td>-4.758589</td>\n",
       "      <td>-5.593245</td>\n",
       "    </tr>\n",
       "    <tr>\n",
       "      <th>4</th>\n",
       "      <td>2000-01-05</td>\n",
       "      <td>-1.769578</td>\n",
       "      <td>0.105911</td>\n",
       "      <td>-1.113445</td>\n",
       "      <td>-4.807857</td>\n",
       "    </tr>\n",
       "    <tr>\n",
       "      <th>5</th>\n",
       "      <td>2000-01-06</td>\n",
       "      <td>-1.913493</td>\n",
       "      <td>-0.346249</td>\n",
       "      <td>-0.192373</td>\n",
       "      <td>-3.655577</td>\n",
       "    </tr>\n",
       "    <tr>\n",
       "      <th>6</th>\n",
       "      <td>2000-01-07</td>\n",
       "      <td>-1.945294</td>\n",
       "      <td>0.171222</td>\n",
       "      <td>-0.463689</td>\n",
       "      <td>-4.572533</td>\n",
       "    </tr>\n",
       "    <tr>\n",
       "      <th>7</th>\n",
       "      <td>2000-01-08</td>\n",
       "      <td>-1.750437</td>\n",
       "      <td>0.903865</td>\n",
       "      <td>-1.424172</td>\n",
       "      <td>-4.301892</td>\n",
       "    </tr>\n",
       "    <tr>\n",
       "      <th>8</th>\n",
       "      <td>2000-01-09</td>\n",
       "      <td>-0.548427</td>\n",
       "      <td>-0.236904</td>\n",
       "      <td>-0.898370</td>\n",
       "      <td>-7.012911</td>\n",
       "    </tr>\n",
       "    <tr>\n",
       "      <th>9</th>\n",
       "      <td>2000-01-10</td>\n",
       "      <td>0.104408</td>\n",
       "      <td>-1.753151</td>\n",
       "      <td>-1.978395</td>\n",
       "      <td>-6.617014</td>\n",
       "    </tr>\n",
       "    <tr>\n",
       "      <th>10</th>\n",
       "      <td>2000-01-11</td>\n",
       "      <td>-0.212020</td>\n",
       "      <td>-1.438141</td>\n",
       "      <td>-1.263474</td>\n",
       "      <td>-5.447540</td>\n",
       "    </tr>\n",
       "    <tr>\n",
       "      <th>11</th>\n",
       "      <td>2000-01-12</td>\n",
       "      <td>2.191438</td>\n",
       "      <td>-0.497260</td>\n",
       "      <td>-1.186037</td>\n",
       "      <td>-5.862426</td>\n",
       "    </tr>\n",
       "    <tr>\n",
       "      <th>12</th>\n",
       "      <td>2000-01-13</td>\n",
       "      <td>1.241746</td>\n",
       "      <td>-1.000429</td>\n",
       "      <td>-0.980650</td>\n",
       "      <td>-4.136032</td>\n",
       "    </tr>\n",
       "    <tr>\n",
       "      <th>13</th>\n",
       "      <td>2000-01-14</td>\n",
       "      <td>2.779021</td>\n",
       "      <td>-0.663557</td>\n",
       "      <td>-1.941637</td>\n",
       "      <td>-2.610996</td>\n",
       "    </tr>\n",
       "    <tr>\n",
       "      <th>14</th>\n",
       "      <td>2000-01-15</td>\n",
       "      <td>2.113608</td>\n",
       "      <td>1.752131</td>\n",
       "      <td>-1.965216</td>\n",
       "      <td>-3.364098</td>\n",
       "    </tr>\n",
       "    <tr>\n",
       "      <th>15</th>\n",
       "      <td>2000-01-16</td>\n",
       "      <td>2.384448</td>\n",
       "      <td>1.970761</td>\n",
       "      <td>-0.708812</td>\n",
       "      <td>-2.775160</td>\n",
       "    </tr>\n",
       "    <tr>\n",
       "      <th>16</th>\n",
       "      <td>2000-01-17</td>\n",
       "      <td>1.521311</td>\n",
       "      <td>1.105906</td>\n",
       "      <td>-0.314447</td>\n",
       "      <td>-0.454178</td>\n",
       "    </tr>\n",
       "    <tr>\n",
       "      <th>17</th>\n",
       "      <td>2000-01-18</td>\n",
       "      <td>3.257449</td>\n",
       "      <td>0.121546</td>\n",
       "      <td>0.549523</td>\n",
       "      <td>-1.752241</td>\n",
       "    </tr>\n",
       "    <tr>\n",
       "      <th>18</th>\n",
       "      <td>2000-01-19</td>\n",
       "      <td>4.584892</td>\n",
       "      <td>0.573020</td>\n",
       "      <td>0.290038</td>\n",
       "      <td>-3.589983</td>\n",
       "    </tr>\n",
       "    <tr>\n",
       "      <th>19</th>\n",
       "      <td>2000-01-20</td>\n",
       "      <td>4.669189</td>\n",
       "      <td>0.426353</td>\n",
       "      <td>2.172387</td>\n",
       "      <td>-3.100634</td>\n",
       "    </tr>\n",
       "    <tr>\n",
       "      <th>20</th>\n",
       "      <td>2000-01-21</td>\n",
       "      <td>5.137238</td>\n",
       "      <td>-1.106990</td>\n",
       "      <td>3.431097</td>\n",
       "      <td>-2.991443</td>\n",
       "    </tr>\n",
       "    <tr>\n",
       "      <th>21</th>\n",
       "      <td>2000-01-22</td>\n",
       "      <td>6.282074</td>\n",
       "      <td>-0.579947</td>\n",
       "      <td>2.764504</td>\n",
       "      <td>-1.670024</td>\n",
       "    </tr>\n",
       "    <tr>\n",
       "      <th>22</th>\n",
       "      <td>2000-01-23</td>\n",
       "      <td>5.695684</td>\n",
       "      <td>0.794211</td>\n",
       "      <td>2.386904</td>\n",
       "      <td>-2.257347</td>\n",
       "    </tr>\n",
       "    <tr>\n",
       "      <th>23</th>\n",
       "      <td>2000-01-24</td>\n",
       "      <td>5.286641</td>\n",
       "      <td>0.842870</td>\n",
       "      <td>2.929559</td>\n",
       "      <td>-2.600340</td>\n",
       "    </tr>\n",
       "    <tr>\n",
       "      <th>24</th>\n",
       "      <td>2000-01-25</td>\n",
       "      <td>4.372452</td>\n",
       "      <td>2.651766</td>\n",
       "      <td>2.517293</td>\n",
       "      <td>-1.847749</td>\n",
       "    </tr>\n",
       "    <tr>\n",
       "      <th>25</th>\n",
       "      <td>2000-01-26</td>\n",
       "      <td>6.001825</td>\n",
       "      <td>3.863199</td>\n",
       "      <td>2.303647</td>\n",
       "      <td>-2.539849</td>\n",
       "    </tr>\n",
       "    <tr>\n",
       "      <th>26</th>\n",
       "      <td>2000-01-27</td>\n",
       "      <td>5.320979</td>\n",
       "      <td>3.546210</td>\n",
       "      <td>0.253910</td>\n",
       "      <td>-3.225039</td>\n",
       "    </tr>\n",
       "    <tr>\n",
       "      <th>27</th>\n",
       "      <td>2000-01-28</td>\n",
       "      <td>4.132189</td>\n",
       "      <td>3.483708</td>\n",
       "      <td>-0.735083</td>\n",
       "      <td>-2.851465</td>\n",
       "    </tr>\n",
       "    <tr>\n",
       "      <th>28</th>\n",
       "      <td>2000-01-29</td>\n",
       "      <td>4.090224</td>\n",
       "      <td>3.750831</td>\n",
       "      <td>-1.188234</td>\n",
       "      <td>-2.895115</td>\n",
       "    </tr>\n",
       "    <tr>\n",
       "      <th>29</th>\n",
       "      <td>2000-01-30</td>\n",
       "      <td>5.386234</td>\n",
       "      <td>2.796355</td>\n",
       "      <td>-1.024709</td>\n",
       "      <td>-3.170037</td>\n",
       "    </tr>\n",
       "    <tr>\n",
       "      <th>...</th>\n",
       "      <td>...</td>\n",
       "      <td>...</td>\n",
       "      <td>...</td>\n",
       "      <td>...</td>\n",
       "      <td>...</td>\n",
       "    </tr>\n",
       "    <tr>\n",
       "      <th>970</th>\n",
       "      <td>2002-08-28</td>\n",
       "      <td>35.787060</td>\n",
       "      <td>6.242419</td>\n",
       "      <td>-1.328048</td>\n",
       "      <td>27.495089</td>\n",
       "    </tr>\n",
       "    <tr>\n",
       "      <th>971</th>\n",
       "      <td>2002-08-29</td>\n",
       "      <td>33.949997</td>\n",
       "      <td>6.367835</td>\n",
       "      <td>-1.284339</td>\n",
       "      <td>25.546234</td>\n",
       "    </tr>\n",
       "    <tr>\n",
       "      <th>972</th>\n",
       "      <td>2002-08-30</td>\n",
       "      <td>33.637992</td>\n",
       "      <td>5.835909</td>\n",
       "      <td>-1.587214</td>\n",
       "      <td>25.524471</td>\n",
       "    </tr>\n",
       "    <tr>\n",
       "      <th>973</th>\n",
       "      <td>2002-08-31</td>\n",
       "      <td>35.693433</td>\n",
       "      <td>5.906027</td>\n",
       "      <td>-1.916513</td>\n",
       "      <td>25.936898</td>\n",
       "    </tr>\n",
       "    <tr>\n",
       "      <th>974</th>\n",
       "      <td>2002-09-01</td>\n",
       "      <td>36.272976</td>\n",
       "      <td>6.997057</td>\n",
       "      <td>-1.577504</td>\n",
       "      <td>24.057998</td>\n",
       "    </tr>\n",
       "    <tr>\n",
       "      <th>975</th>\n",
       "      <td>2002-09-02</td>\n",
       "      <td>36.238741</td>\n",
       "      <td>6.557115</td>\n",
       "      <td>-1.417611</td>\n",
       "      <td>24.283791</td>\n",
       "    </tr>\n",
       "    <tr>\n",
       "      <th>976</th>\n",
       "      <td>2002-09-03</td>\n",
       "      <td>38.071178</td>\n",
       "      <td>6.778666</td>\n",
       "      <td>-1.491155</td>\n",
       "      <td>24.122455</td>\n",
       "    </tr>\n",
       "    <tr>\n",
       "      <th>977</th>\n",
       "      <td>2002-09-04</td>\n",
       "      <td>37.935697</td>\n",
       "      <td>7.336277</td>\n",
       "      <td>-0.410520</td>\n",
       "      <td>23.808411</td>\n",
       "    </tr>\n",
       "    <tr>\n",
       "      <th>978</th>\n",
       "      <td>2002-09-05</td>\n",
       "      <td>38.816422</td>\n",
       "      <td>8.474574</td>\n",
       "      <td>-0.447377</td>\n",
       "      <td>23.438597</td>\n",
       "    </tr>\n",
       "    <tr>\n",
       "      <th>979</th>\n",
       "      <td>2002-09-06</td>\n",
       "      <td>38.961914</td>\n",
       "      <td>9.615022</td>\n",
       "      <td>0.478151</td>\n",
       "      <td>23.991245</td>\n",
       "    </tr>\n",
       "    <tr>\n",
       "      <th>980</th>\n",
       "      <td>2002-09-07</td>\n",
       "      <td>38.204025</td>\n",
       "      <td>8.727509</td>\n",
       "      <td>0.541044</td>\n",
       "      <td>24.763187</td>\n",
       "    </tr>\n",
       "    <tr>\n",
       "      <th>981</th>\n",
       "      <td>2002-09-08</td>\n",
       "      <td>38.987214</td>\n",
       "      <td>8.707291</td>\n",
       "      <td>1.821460</td>\n",
       "      <td>25.333020</td>\n",
       "    </tr>\n",
       "    <tr>\n",
       "      <th>982</th>\n",
       "      <td>2002-09-09</td>\n",
       "      <td>39.724873</td>\n",
       "      <td>7.951348</td>\n",
       "      <td>0.598614</td>\n",
       "      <td>24.726157</td>\n",
       "    </tr>\n",
       "    <tr>\n",
       "      <th>983</th>\n",
       "      <td>2002-09-10</td>\n",
       "      <td>40.162983</td>\n",
       "      <td>6.290156</td>\n",
       "      <td>-1.248083</td>\n",
       "      <td>24.366046</td>\n",
       "    </tr>\n",
       "    <tr>\n",
       "      <th>984</th>\n",
       "      <td>2002-09-11</td>\n",
       "      <td>40.727397</td>\n",
       "      <td>4.308886</td>\n",
       "      <td>-0.990381</td>\n",
       "      <td>24.268405</td>\n",
       "    </tr>\n",
       "    <tr>\n",
       "      <th>985</th>\n",
       "      <td>2002-09-12</td>\n",
       "      <td>40.941089</td>\n",
       "      <td>4.687362</td>\n",
       "      <td>-1.266573</td>\n",
       "      <td>23.989183</td>\n",
       "    </tr>\n",
       "    <tr>\n",
       "      <th>986</th>\n",
       "      <td>2002-09-13</td>\n",
       "      <td>41.067958</td>\n",
       "      <td>5.344675</td>\n",
       "      <td>-3.039416</td>\n",
       "      <td>24.875651</td>\n",
       "    </tr>\n",
       "    <tr>\n",
       "      <th>987</th>\n",
       "      <td>2002-09-14</td>\n",
       "      <td>40.748752</td>\n",
       "      <td>5.898586</td>\n",
       "      <td>-3.637792</td>\n",
       "      <td>24.497148</td>\n",
       "    </tr>\n",
       "    <tr>\n",
       "      <th>988</th>\n",
       "      <td>2002-09-15</td>\n",
       "      <td>42.120862</td>\n",
       "      <td>4.876718</td>\n",
       "      <td>-4.593924</td>\n",
       "      <td>24.406050</td>\n",
       "    </tr>\n",
       "    <tr>\n",
       "      <th>989</th>\n",
       "      <td>2002-09-16</td>\n",
       "      <td>39.610582</td>\n",
       "      <td>4.914933</td>\n",
       "      <td>-5.357219</td>\n",
       "      <td>21.803393</td>\n",
       "    </tr>\n",
       "    <tr>\n",
       "      <th>990</th>\n",
       "      <td>2002-09-17</td>\n",
       "      <td>39.792138</td>\n",
       "      <td>5.853511</td>\n",
       "      <td>-3.916914</td>\n",
       "      <td>22.668154</td>\n",
       "    </tr>\n",
       "    <tr>\n",
       "      <th>991</th>\n",
       "      <td>2002-09-18</td>\n",
       "      <td>40.864678</td>\n",
       "      <td>5.570689</td>\n",
       "      <td>-4.347168</td>\n",
       "      <td>25.425640</td>\n",
       "    </tr>\n",
       "    <tr>\n",
       "      <th>992</th>\n",
       "      <td>2002-09-19</td>\n",
       "      <td>40.545903</td>\n",
       "      <td>5.919185</td>\n",
       "      <td>-4.985849</td>\n",
       "      <td>25.464040</td>\n",
       "    </tr>\n",
       "    <tr>\n",
       "      <th>993</th>\n",
       "      <td>2002-09-20</td>\n",
       "      <td>40.559409</td>\n",
       "      <td>5.434090</td>\n",
       "      <td>-4.119356</td>\n",
       "      <td>25.920502</td>\n",
       "    </tr>\n",
       "    <tr>\n",
       "      <th>994</th>\n",
       "      <td>2002-09-21</td>\n",
       "      <td>40.586100</td>\n",
       "      <td>4.600278</td>\n",
       "      <td>-3.103560</td>\n",
       "      <td>24.831433</td>\n",
       "    </tr>\n",
       "    <tr>\n",
       "      <th>995</th>\n",
       "      <td>2002-09-22</td>\n",
       "      <td>39.821700</td>\n",
       "      <td>5.654312</td>\n",
       "      <td>-1.409474</td>\n",
       "      <td>26.097964</td>\n",
       "    </tr>\n",
       "    <tr>\n",
       "      <th>996</th>\n",
       "      <td>2002-09-23</td>\n",
       "      <td>38.539243</td>\n",
       "      <td>5.971828</td>\n",
       "      <td>-0.434517</td>\n",
       "      <td>26.538162</td>\n",
       "    </tr>\n",
       "    <tr>\n",
       "      <th>997</th>\n",
       "      <td>2002-09-24</td>\n",
       "      <td>38.781119</td>\n",
       "      <td>6.633665</td>\n",
       "      <td>-1.729080</td>\n",
       "      <td>24.818732</td>\n",
       "    </tr>\n",
       "    <tr>\n",
       "      <th>998</th>\n",
       "      <td>2002-09-25</td>\n",
       "      <td>38.943848</td>\n",
       "      <td>5.139329</td>\n",
       "      <td>-2.008882</td>\n",
       "      <td>23.752682</td>\n",
       "    </tr>\n",
       "    <tr>\n",
       "      <th>999</th>\n",
       "      <td>2002-09-26</td>\n",
       "      <td>38.841963</td>\n",
       "      <td>4.517091</td>\n",
       "      <td>-2.641140</td>\n",
       "      <td>23.897060</td>\n",
       "    </tr>\n",
       "  </tbody>\n",
       "</table>\n",
       "<p>1000 rows × 5 columns</p>\n",
       "</div>"
      ],
      "text/plain": [
       "     Unnamed: 0          A         B         C          D\n",
       "0    2000-01-01   0.204218 -0.313904 -1.931319  -1.849885\n",
       "1    2000-01-02   1.164656 -1.188812 -2.460209  -2.638139\n",
       "2    2000-01-03   0.864819 -0.894679 -3.921989  -4.420981\n",
       "3    2000-01-04   0.987460  0.440535 -4.758589  -5.593245\n",
       "4    2000-01-05  -1.769578  0.105911 -1.113445  -4.807857\n",
       "5    2000-01-06  -1.913493 -0.346249 -0.192373  -3.655577\n",
       "6    2000-01-07  -1.945294  0.171222 -0.463689  -4.572533\n",
       "7    2000-01-08  -1.750437  0.903865 -1.424172  -4.301892\n",
       "8    2000-01-09  -0.548427 -0.236904 -0.898370  -7.012911\n",
       "9    2000-01-10   0.104408 -1.753151 -1.978395  -6.617014\n",
       "10   2000-01-11  -0.212020 -1.438141 -1.263474  -5.447540\n",
       "11   2000-01-12   2.191438 -0.497260 -1.186037  -5.862426\n",
       "12   2000-01-13   1.241746 -1.000429 -0.980650  -4.136032\n",
       "13   2000-01-14   2.779021 -0.663557 -1.941637  -2.610996\n",
       "14   2000-01-15   2.113608  1.752131 -1.965216  -3.364098\n",
       "15   2000-01-16   2.384448  1.970761 -0.708812  -2.775160\n",
       "16   2000-01-17   1.521311  1.105906 -0.314447  -0.454178\n",
       "17   2000-01-18   3.257449  0.121546  0.549523  -1.752241\n",
       "18   2000-01-19   4.584892  0.573020  0.290038  -3.589983\n",
       "19   2000-01-20   4.669189  0.426353  2.172387  -3.100634\n",
       "20   2000-01-21   5.137238 -1.106990  3.431097  -2.991443\n",
       "21   2000-01-22   6.282074 -0.579947  2.764504  -1.670024\n",
       "22   2000-01-23   5.695684  0.794211  2.386904  -2.257347\n",
       "23   2000-01-24   5.286641  0.842870  2.929559  -2.600340\n",
       "24   2000-01-25   4.372452  2.651766  2.517293  -1.847749\n",
       "25   2000-01-26   6.001825  3.863199  2.303647  -2.539849\n",
       "26   2000-01-27   5.320979  3.546210  0.253910  -3.225039\n",
       "27   2000-01-28   4.132189  3.483708 -0.735083  -2.851465\n",
       "28   2000-01-29   4.090224  3.750831 -1.188234  -2.895115\n",
       "29   2000-01-30   5.386234  2.796355 -1.024709  -3.170037\n",
       "..          ...        ...       ...       ...        ...\n",
       "970  2002-08-28  35.787060  6.242419 -1.328048  27.495089\n",
       "971  2002-08-29  33.949997  6.367835 -1.284339  25.546234\n",
       "972  2002-08-30  33.637992  5.835909 -1.587214  25.524471\n",
       "973  2002-08-31  35.693433  5.906027 -1.916513  25.936898\n",
       "974  2002-09-01  36.272976  6.997057 -1.577504  24.057998\n",
       "975  2002-09-02  36.238741  6.557115 -1.417611  24.283791\n",
       "976  2002-09-03  38.071178  6.778666 -1.491155  24.122455\n",
       "977  2002-09-04  37.935697  7.336277 -0.410520  23.808411\n",
       "978  2002-09-05  38.816422  8.474574 -0.447377  23.438597\n",
       "979  2002-09-06  38.961914  9.615022  0.478151  23.991245\n",
       "980  2002-09-07  38.204025  8.727509  0.541044  24.763187\n",
       "981  2002-09-08  38.987214  8.707291  1.821460  25.333020\n",
       "982  2002-09-09  39.724873  7.951348  0.598614  24.726157\n",
       "983  2002-09-10  40.162983  6.290156 -1.248083  24.366046\n",
       "984  2002-09-11  40.727397  4.308886 -0.990381  24.268405\n",
       "985  2002-09-12  40.941089  4.687362 -1.266573  23.989183\n",
       "986  2002-09-13  41.067958  5.344675 -3.039416  24.875651\n",
       "987  2002-09-14  40.748752  5.898586 -3.637792  24.497148\n",
       "988  2002-09-15  42.120862  4.876718 -4.593924  24.406050\n",
       "989  2002-09-16  39.610582  4.914933 -5.357219  21.803393\n",
       "990  2002-09-17  39.792138  5.853511 -3.916914  22.668154\n",
       "991  2002-09-18  40.864678  5.570689 -4.347168  25.425640\n",
       "992  2002-09-19  40.545903  5.919185 -4.985849  25.464040\n",
       "993  2002-09-20  40.559409  5.434090 -4.119356  25.920502\n",
       "994  2002-09-21  40.586100  4.600278 -3.103560  24.831433\n",
       "995  2002-09-22  39.821700  5.654312 -1.409474  26.097964\n",
       "996  2002-09-23  38.539243  5.971828 -0.434517  26.538162\n",
       "997  2002-09-24  38.781119  6.633665 -1.729080  24.818732\n",
       "998  2002-09-25  38.943848  5.139329 -2.008882  23.752682\n",
       "999  2002-09-26  38.841963  4.517091 -2.641140  23.897060\n",
       "\n",
       "[1000 rows x 5 columns]"
      ]
     },
     "execution_count": 219,
     "metadata": {},
     "output_type": "execute_result"
    }
   ],
   "source": [
    "pd.read_csv('df.csv')"
   ]
  },
  {
   "cell_type": "markdown",
   "metadata": {},
   "source": [
    "### HDF5"
   ]
  },
  {
   "cell_type": "markdown",
   "metadata": {},
   "source": [
    "### Excel"
   ]
  },
  {
   "cell_type": "code",
   "execution_count": 223,
   "metadata": {
    "collapsed": true
   },
   "outputs": [],
   "source": [
    "df.to_excel('df.xlsx', sheet_name='Sheet1')"
   ]
  },
  {
   "cell_type": "code",
   "execution_count": 224,
   "metadata": {
    "collapsed": false
   },
   "outputs": [
    {
     "data": {
      "text/html": [
       "<div>\n",
       "<table border=\"1\" class=\"dataframe\">\n",
       "  <thead>\n",
       "    <tr style=\"text-align: right;\">\n",
       "      <th></th>\n",
       "      <th>A</th>\n",
       "      <th>B</th>\n",
       "      <th>C</th>\n",
       "      <th>D</th>\n",
       "    </tr>\n",
       "  </thead>\n",
       "  <tbody>\n",
       "    <tr>\n",
       "      <th>2000-01-01</th>\n",
       "      <td>0.204218</td>\n",
       "      <td>-0.313904</td>\n",
       "      <td>-1.931319</td>\n",
       "      <td>-1.849885</td>\n",
       "    </tr>\n",
       "    <tr>\n",
       "      <th>2000-01-02</th>\n",
       "      <td>1.164656</td>\n",
       "      <td>-1.188812</td>\n",
       "      <td>-2.460209</td>\n",
       "      <td>-2.638139</td>\n",
       "    </tr>\n",
       "    <tr>\n",
       "      <th>2000-01-03</th>\n",
       "      <td>0.864819</td>\n",
       "      <td>-0.894679</td>\n",
       "      <td>-3.921989</td>\n",
       "      <td>-4.420981</td>\n",
       "    </tr>\n",
       "    <tr>\n",
       "      <th>2000-01-04</th>\n",
       "      <td>0.987460</td>\n",
       "      <td>0.440535</td>\n",
       "      <td>-4.758589</td>\n",
       "      <td>-5.593245</td>\n",
       "    </tr>\n",
       "    <tr>\n",
       "      <th>2000-01-05</th>\n",
       "      <td>-1.769578</td>\n",
       "      <td>0.105911</td>\n",
       "      <td>-1.113445</td>\n",
       "      <td>-4.807857</td>\n",
       "    </tr>\n",
       "    <tr>\n",
       "      <th>2000-01-06</th>\n",
       "      <td>-1.913493</td>\n",
       "      <td>-0.346249</td>\n",
       "      <td>-0.192373</td>\n",
       "      <td>-3.655577</td>\n",
       "    </tr>\n",
       "    <tr>\n",
       "      <th>2000-01-07</th>\n",
       "      <td>-1.945294</td>\n",
       "      <td>0.171222</td>\n",
       "      <td>-0.463689</td>\n",
       "      <td>-4.572533</td>\n",
       "    </tr>\n",
       "    <tr>\n",
       "      <th>2000-01-08</th>\n",
       "      <td>-1.750437</td>\n",
       "      <td>0.903865</td>\n",
       "      <td>-1.424172</td>\n",
       "      <td>-4.301892</td>\n",
       "    </tr>\n",
       "    <tr>\n",
       "      <th>2000-01-09</th>\n",
       "      <td>-0.548427</td>\n",
       "      <td>-0.236904</td>\n",
       "      <td>-0.898370</td>\n",
       "      <td>-7.012911</td>\n",
       "    </tr>\n",
       "    <tr>\n",
       "      <th>2000-01-10</th>\n",
       "      <td>0.104408</td>\n",
       "      <td>-1.753151</td>\n",
       "      <td>-1.978395</td>\n",
       "      <td>-6.617014</td>\n",
       "    </tr>\n",
       "    <tr>\n",
       "      <th>2000-01-11</th>\n",
       "      <td>-0.212020</td>\n",
       "      <td>-1.438141</td>\n",
       "      <td>-1.263474</td>\n",
       "      <td>-5.447540</td>\n",
       "    </tr>\n",
       "    <tr>\n",
       "      <th>2000-01-12</th>\n",
       "      <td>2.191438</td>\n",
       "      <td>-0.497260</td>\n",
       "      <td>-1.186037</td>\n",
       "      <td>-5.862426</td>\n",
       "    </tr>\n",
       "    <tr>\n",
       "      <th>2000-01-13</th>\n",
       "      <td>1.241746</td>\n",
       "      <td>-1.000429</td>\n",
       "      <td>-0.980650</td>\n",
       "      <td>-4.136032</td>\n",
       "    </tr>\n",
       "    <tr>\n",
       "      <th>2000-01-14</th>\n",
       "      <td>2.779021</td>\n",
       "      <td>-0.663557</td>\n",
       "      <td>-1.941637</td>\n",
       "      <td>-2.610996</td>\n",
       "    </tr>\n",
       "    <tr>\n",
       "      <th>2000-01-15</th>\n",
       "      <td>2.113608</td>\n",
       "      <td>1.752131</td>\n",
       "      <td>-1.965216</td>\n",
       "      <td>-3.364098</td>\n",
       "    </tr>\n",
       "    <tr>\n",
       "      <th>2000-01-16</th>\n",
       "      <td>2.384448</td>\n",
       "      <td>1.970761</td>\n",
       "      <td>-0.708812</td>\n",
       "      <td>-2.775160</td>\n",
       "    </tr>\n",
       "    <tr>\n",
       "      <th>2000-01-17</th>\n",
       "      <td>1.521311</td>\n",
       "      <td>1.105906</td>\n",
       "      <td>-0.314447</td>\n",
       "      <td>-0.454178</td>\n",
       "    </tr>\n",
       "    <tr>\n",
       "      <th>2000-01-18</th>\n",
       "      <td>3.257449</td>\n",
       "      <td>0.121546</td>\n",
       "      <td>0.549523</td>\n",
       "      <td>-1.752241</td>\n",
       "    </tr>\n",
       "    <tr>\n",
       "      <th>2000-01-19</th>\n",
       "      <td>4.584892</td>\n",
       "      <td>0.573020</td>\n",
       "      <td>0.290038</td>\n",
       "      <td>-3.589983</td>\n",
       "    </tr>\n",
       "    <tr>\n",
       "      <th>2000-01-20</th>\n",
       "      <td>4.669189</td>\n",
       "      <td>0.426353</td>\n",
       "      <td>2.172387</td>\n",
       "      <td>-3.100634</td>\n",
       "    </tr>\n",
       "    <tr>\n",
       "      <th>2000-01-21</th>\n",
       "      <td>5.137238</td>\n",
       "      <td>-1.106990</td>\n",
       "      <td>3.431097</td>\n",
       "      <td>-2.991443</td>\n",
       "    </tr>\n",
       "    <tr>\n",
       "      <th>2000-01-22</th>\n",
       "      <td>6.282074</td>\n",
       "      <td>-0.579947</td>\n",
       "      <td>2.764504</td>\n",
       "      <td>-1.670024</td>\n",
       "    </tr>\n",
       "    <tr>\n",
       "      <th>2000-01-23</th>\n",
       "      <td>5.695684</td>\n",
       "      <td>0.794211</td>\n",
       "      <td>2.386904</td>\n",
       "      <td>-2.257347</td>\n",
       "    </tr>\n",
       "    <tr>\n",
       "      <th>2000-01-24</th>\n",
       "      <td>5.286641</td>\n",
       "      <td>0.842870</td>\n",
       "      <td>2.929559</td>\n",
       "      <td>-2.600340</td>\n",
       "    </tr>\n",
       "    <tr>\n",
       "      <th>2000-01-25</th>\n",
       "      <td>4.372452</td>\n",
       "      <td>2.651766</td>\n",
       "      <td>2.517293</td>\n",
       "      <td>-1.847749</td>\n",
       "    </tr>\n",
       "    <tr>\n",
       "      <th>2000-01-26</th>\n",
       "      <td>6.001825</td>\n",
       "      <td>3.863199</td>\n",
       "      <td>2.303647</td>\n",
       "      <td>-2.539849</td>\n",
       "    </tr>\n",
       "    <tr>\n",
       "      <th>2000-01-27</th>\n",
       "      <td>5.320979</td>\n",
       "      <td>3.546210</td>\n",
       "      <td>0.253910</td>\n",
       "      <td>-3.225039</td>\n",
       "    </tr>\n",
       "    <tr>\n",
       "      <th>2000-01-28</th>\n",
       "      <td>4.132189</td>\n",
       "      <td>3.483708</td>\n",
       "      <td>-0.735083</td>\n",
       "      <td>-2.851465</td>\n",
       "    </tr>\n",
       "    <tr>\n",
       "      <th>2000-01-29</th>\n",
       "      <td>4.090224</td>\n",
       "      <td>3.750831</td>\n",
       "      <td>-1.188234</td>\n",
       "      <td>-2.895115</td>\n",
       "    </tr>\n",
       "    <tr>\n",
       "      <th>2000-01-30</th>\n",
       "      <td>5.386234</td>\n",
       "      <td>2.796355</td>\n",
       "      <td>-1.024709</td>\n",
       "      <td>-3.170037</td>\n",
       "    </tr>\n",
       "    <tr>\n",
       "      <th>...</th>\n",
       "      <td>...</td>\n",
       "      <td>...</td>\n",
       "      <td>...</td>\n",
       "      <td>...</td>\n",
       "    </tr>\n",
       "    <tr>\n",
       "      <th>2002-08-28</th>\n",
       "      <td>35.787060</td>\n",
       "      <td>6.242419</td>\n",
       "      <td>-1.328048</td>\n",
       "      <td>27.495089</td>\n",
       "    </tr>\n",
       "    <tr>\n",
       "      <th>2002-08-29</th>\n",
       "      <td>33.949997</td>\n",
       "      <td>6.367835</td>\n",
       "      <td>-1.284339</td>\n",
       "      <td>25.546234</td>\n",
       "    </tr>\n",
       "    <tr>\n",
       "      <th>2002-08-30</th>\n",
       "      <td>33.637992</td>\n",
       "      <td>5.835909</td>\n",
       "      <td>-1.587214</td>\n",
       "      <td>25.524471</td>\n",
       "    </tr>\n",
       "    <tr>\n",
       "      <th>2002-08-31</th>\n",
       "      <td>35.693433</td>\n",
       "      <td>5.906027</td>\n",
       "      <td>-1.916513</td>\n",
       "      <td>25.936898</td>\n",
       "    </tr>\n",
       "    <tr>\n",
       "      <th>2002-09-01</th>\n",
       "      <td>36.272976</td>\n",
       "      <td>6.997057</td>\n",
       "      <td>-1.577504</td>\n",
       "      <td>24.057998</td>\n",
       "    </tr>\n",
       "    <tr>\n",
       "      <th>2002-09-02</th>\n",
       "      <td>36.238741</td>\n",
       "      <td>6.557115</td>\n",
       "      <td>-1.417611</td>\n",
       "      <td>24.283791</td>\n",
       "    </tr>\n",
       "    <tr>\n",
       "      <th>2002-09-03</th>\n",
       "      <td>38.071178</td>\n",
       "      <td>6.778666</td>\n",
       "      <td>-1.491155</td>\n",
       "      <td>24.122455</td>\n",
       "    </tr>\n",
       "    <tr>\n",
       "      <th>2002-09-04</th>\n",
       "      <td>37.935697</td>\n",
       "      <td>7.336277</td>\n",
       "      <td>-0.410520</td>\n",
       "      <td>23.808411</td>\n",
       "    </tr>\n",
       "    <tr>\n",
       "      <th>2002-09-05</th>\n",
       "      <td>38.816422</td>\n",
       "      <td>8.474574</td>\n",
       "      <td>-0.447377</td>\n",
       "      <td>23.438597</td>\n",
       "    </tr>\n",
       "    <tr>\n",
       "      <th>2002-09-06</th>\n",
       "      <td>38.961914</td>\n",
       "      <td>9.615022</td>\n",
       "      <td>0.478151</td>\n",
       "      <td>23.991245</td>\n",
       "    </tr>\n",
       "    <tr>\n",
       "      <th>2002-09-07</th>\n",
       "      <td>38.204025</td>\n",
       "      <td>8.727509</td>\n",
       "      <td>0.541044</td>\n",
       "      <td>24.763187</td>\n",
       "    </tr>\n",
       "    <tr>\n",
       "      <th>2002-09-08</th>\n",
       "      <td>38.987214</td>\n",
       "      <td>8.707291</td>\n",
       "      <td>1.821460</td>\n",
       "      <td>25.333020</td>\n",
       "    </tr>\n",
       "    <tr>\n",
       "      <th>2002-09-09</th>\n",
       "      <td>39.724873</td>\n",
       "      <td>7.951348</td>\n",
       "      <td>0.598614</td>\n",
       "      <td>24.726157</td>\n",
       "    </tr>\n",
       "    <tr>\n",
       "      <th>2002-09-10</th>\n",
       "      <td>40.162983</td>\n",
       "      <td>6.290156</td>\n",
       "      <td>-1.248083</td>\n",
       "      <td>24.366046</td>\n",
       "    </tr>\n",
       "    <tr>\n",
       "      <th>2002-09-11</th>\n",
       "      <td>40.727397</td>\n",
       "      <td>4.308886</td>\n",
       "      <td>-0.990381</td>\n",
       "      <td>24.268405</td>\n",
       "    </tr>\n",
       "    <tr>\n",
       "      <th>2002-09-12</th>\n",
       "      <td>40.941089</td>\n",
       "      <td>4.687362</td>\n",
       "      <td>-1.266573</td>\n",
       "      <td>23.989183</td>\n",
       "    </tr>\n",
       "    <tr>\n",
       "      <th>2002-09-13</th>\n",
       "      <td>41.067958</td>\n",
       "      <td>5.344675</td>\n",
       "      <td>-3.039416</td>\n",
       "      <td>24.875651</td>\n",
       "    </tr>\n",
       "    <tr>\n",
       "      <th>2002-09-14</th>\n",
       "      <td>40.748752</td>\n",
       "      <td>5.898586</td>\n",
       "      <td>-3.637792</td>\n",
       "      <td>24.497148</td>\n",
       "    </tr>\n",
       "    <tr>\n",
       "      <th>2002-09-15</th>\n",
       "      <td>42.120862</td>\n",
       "      <td>4.876718</td>\n",
       "      <td>-4.593924</td>\n",
       "      <td>24.406050</td>\n",
       "    </tr>\n",
       "    <tr>\n",
       "      <th>2002-09-16</th>\n",
       "      <td>39.610582</td>\n",
       "      <td>4.914933</td>\n",
       "      <td>-5.357219</td>\n",
       "      <td>21.803393</td>\n",
       "    </tr>\n",
       "    <tr>\n",
       "      <th>2002-09-17</th>\n",
       "      <td>39.792138</td>\n",
       "      <td>5.853511</td>\n",
       "      <td>-3.916914</td>\n",
       "      <td>22.668154</td>\n",
       "    </tr>\n",
       "    <tr>\n",
       "      <th>2002-09-18</th>\n",
       "      <td>40.864678</td>\n",
       "      <td>5.570689</td>\n",
       "      <td>-4.347168</td>\n",
       "      <td>25.425640</td>\n",
       "    </tr>\n",
       "    <tr>\n",
       "      <th>2002-09-19</th>\n",
       "      <td>40.545903</td>\n",
       "      <td>5.919185</td>\n",
       "      <td>-4.985849</td>\n",
       "      <td>25.464040</td>\n",
       "    </tr>\n",
       "    <tr>\n",
       "      <th>2002-09-20</th>\n",
       "      <td>40.559409</td>\n",
       "      <td>5.434090</td>\n",
       "      <td>-4.119356</td>\n",
       "      <td>25.920502</td>\n",
       "    </tr>\n",
       "    <tr>\n",
       "      <th>2002-09-21</th>\n",
       "      <td>40.586100</td>\n",
       "      <td>4.600278</td>\n",
       "      <td>-3.103560</td>\n",
       "      <td>24.831433</td>\n",
       "    </tr>\n",
       "    <tr>\n",
       "      <th>2002-09-22</th>\n",
       "      <td>39.821700</td>\n",
       "      <td>5.654312</td>\n",
       "      <td>-1.409474</td>\n",
       "      <td>26.097964</td>\n",
       "    </tr>\n",
       "    <tr>\n",
       "      <th>2002-09-23</th>\n",
       "      <td>38.539243</td>\n",
       "      <td>5.971828</td>\n",
       "      <td>-0.434517</td>\n",
       "      <td>26.538162</td>\n",
       "    </tr>\n",
       "    <tr>\n",
       "      <th>2002-09-24</th>\n",
       "      <td>38.781119</td>\n",
       "      <td>6.633665</td>\n",
       "      <td>-1.729080</td>\n",
       "      <td>24.818732</td>\n",
       "    </tr>\n",
       "    <tr>\n",
       "      <th>2002-09-25</th>\n",
       "      <td>38.943848</td>\n",
       "      <td>5.139329</td>\n",
       "      <td>-2.008882</td>\n",
       "      <td>23.752682</td>\n",
       "    </tr>\n",
       "    <tr>\n",
       "      <th>2002-09-26</th>\n",
       "      <td>38.841963</td>\n",
       "      <td>4.517091</td>\n",
       "      <td>-2.641140</td>\n",
       "      <td>23.897060</td>\n",
       "    </tr>\n",
       "  </tbody>\n",
       "</table>\n",
       "<p>1000 rows × 4 columns</p>\n",
       "</div>"
      ],
      "text/plain": [
       "                    A         B         C          D\n",
       "2000-01-01   0.204218 -0.313904 -1.931319  -1.849885\n",
       "2000-01-02   1.164656 -1.188812 -2.460209  -2.638139\n",
       "2000-01-03   0.864819 -0.894679 -3.921989  -4.420981\n",
       "2000-01-04   0.987460  0.440535 -4.758589  -5.593245\n",
       "2000-01-05  -1.769578  0.105911 -1.113445  -4.807857\n",
       "2000-01-06  -1.913493 -0.346249 -0.192373  -3.655577\n",
       "2000-01-07  -1.945294  0.171222 -0.463689  -4.572533\n",
       "2000-01-08  -1.750437  0.903865 -1.424172  -4.301892\n",
       "2000-01-09  -0.548427 -0.236904 -0.898370  -7.012911\n",
       "2000-01-10   0.104408 -1.753151 -1.978395  -6.617014\n",
       "2000-01-11  -0.212020 -1.438141 -1.263474  -5.447540\n",
       "2000-01-12   2.191438 -0.497260 -1.186037  -5.862426\n",
       "2000-01-13   1.241746 -1.000429 -0.980650  -4.136032\n",
       "2000-01-14   2.779021 -0.663557 -1.941637  -2.610996\n",
       "2000-01-15   2.113608  1.752131 -1.965216  -3.364098\n",
       "2000-01-16   2.384448  1.970761 -0.708812  -2.775160\n",
       "2000-01-17   1.521311  1.105906 -0.314447  -0.454178\n",
       "2000-01-18   3.257449  0.121546  0.549523  -1.752241\n",
       "2000-01-19   4.584892  0.573020  0.290038  -3.589983\n",
       "2000-01-20   4.669189  0.426353  2.172387  -3.100634\n",
       "2000-01-21   5.137238 -1.106990  3.431097  -2.991443\n",
       "2000-01-22   6.282074 -0.579947  2.764504  -1.670024\n",
       "2000-01-23   5.695684  0.794211  2.386904  -2.257347\n",
       "2000-01-24   5.286641  0.842870  2.929559  -2.600340\n",
       "2000-01-25   4.372452  2.651766  2.517293  -1.847749\n",
       "2000-01-26   6.001825  3.863199  2.303647  -2.539849\n",
       "2000-01-27   5.320979  3.546210  0.253910  -3.225039\n",
       "2000-01-28   4.132189  3.483708 -0.735083  -2.851465\n",
       "2000-01-29   4.090224  3.750831 -1.188234  -2.895115\n",
       "2000-01-30   5.386234  2.796355 -1.024709  -3.170037\n",
       "...               ...       ...       ...        ...\n",
       "2002-08-28  35.787060  6.242419 -1.328048  27.495089\n",
       "2002-08-29  33.949997  6.367835 -1.284339  25.546234\n",
       "2002-08-30  33.637992  5.835909 -1.587214  25.524471\n",
       "2002-08-31  35.693433  5.906027 -1.916513  25.936898\n",
       "2002-09-01  36.272976  6.997057 -1.577504  24.057998\n",
       "2002-09-02  36.238741  6.557115 -1.417611  24.283791\n",
       "2002-09-03  38.071178  6.778666 -1.491155  24.122455\n",
       "2002-09-04  37.935697  7.336277 -0.410520  23.808411\n",
       "2002-09-05  38.816422  8.474574 -0.447377  23.438597\n",
       "2002-09-06  38.961914  9.615022  0.478151  23.991245\n",
       "2002-09-07  38.204025  8.727509  0.541044  24.763187\n",
       "2002-09-08  38.987214  8.707291  1.821460  25.333020\n",
       "2002-09-09  39.724873  7.951348  0.598614  24.726157\n",
       "2002-09-10  40.162983  6.290156 -1.248083  24.366046\n",
       "2002-09-11  40.727397  4.308886 -0.990381  24.268405\n",
       "2002-09-12  40.941089  4.687362 -1.266573  23.989183\n",
       "2002-09-13  41.067958  5.344675 -3.039416  24.875651\n",
       "2002-09-14  40.748752  5.898586 -3.637792  24.497148\n",
       "2002-09-15  42.120862  4.876718 -4.593924  24.406050\n",
       "2002-09-16  39.610582  4.914933 -5.357219  21.803393\n",
       "2002-09-17  39.792138  5.853511 -3.916914  22.668154\n",
       "2002-09-18  40.864678  5.570689 -4.347168  25.425640\n",
       "2002-09-19  40.545903  5.919185 -4.985849  25.464040\n",
       "2002-09-20  40.559409  5.434090 -4.119356  25.920502\n",
       "2002-09-21  40.586100  4.600278 -3.103560  24.831433\n",
       "2002-09-22  39.821700  5.654312 -1.409474  26.097964\n",
       "2002-09-23  38.539243  5.971828 -0.434517  26.538162\n",
       "2002-09-24  38.781119  6.633665 -1.729080  24.818732\n",
       "2002-09-25  38.943848  5.139329 -2.008882  23.752682\n",
       "2002-09-26  38.841963  4.517091 -2.641140  23.897060\n",
       "\n",
       "[1000 rows x 4 columns]"
      ]
     },
     "execution_count": 224,
     "metadata": {},
     "output_type": "execute_result"
    }
   ],
   "source": [
    "pd.read_excel('df.xlsx', 'Sheet1', index_col=None, na_values=['NA'])"
   ]
  },
  {
   "cell_type": "code",
   "execution_count": null,
   "metadata": {
    "collapsed": true
   },
   "outputs": [],
   "source": []
  }
 ],
 "metadata": {
  "anaconda-cloud": {},
  "kernelspec": {
   "display_name": "Python [conda root]",
   "language": "python",
   "name": "conda-root-py"
  },
  "language_info": {
   "codemirror_mode": {
    "name": "ipython",
    "version": 3
   },
   "file_extension": ".py",
   "mimetype": "text/x-python",
   "name": "python",
   "nbconvert_exporter": "python",
   "pygments_lexer": "ipython3",
   "version": "3.5.2"
  }
 },
 "nbformat": 4,
 "nbformat_minor": 1
}
