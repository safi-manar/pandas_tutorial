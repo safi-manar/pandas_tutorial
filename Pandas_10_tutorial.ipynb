{
 "cells": [
  {
   "cell_type": "markdown",
   "metadata": {},
   "source": [
    "Code runthrough for Pandas tutorial, located at: http://pandas.pydata.org/pandas-docs/stable/10min.html#min"
   ]
  },
  {
   "cell_type": "code",
   "execution_count": 2,
   "metadata": {
    "collapsed": true
   },
   "outputs": [],
   "source": [
    "# Imports\n",
    "\n",
    "import pandas as pd\n",
    "import numpy as np\n",
    "import matplotlib.pyplot as plt"
   ]
  },
  {
   "cell_type": "markdown",
   "metadata": {},
   "source": [
    "# Object Creation"
   ]
  },
  {
   "cell_type": "code",
   "execution_count": 5,
   "metadata": {
    "collapsed": false
   },
   "outputs": [
    {
     "data": {
      "text/plain": [
       "0    1.0\n",
       "1    3.0\n",
       "2    5.0\n",
       "3    NaN\n",
       "4    6.0\n",
       "5    8.0\n",
       "dtype: float64"
      ]
     },
     "execution_count": 5,
     "metadata": {},
     "output_type": "execute_result"
    }
   ],
   "source": [
    "s = pd.Series([1,3,5,np.nan,6,8])\n",
    "s"
   ]
  },
  {
   "cell_type": "code",
   "execution_count": 9,
   "metadata": {
    "collapsed": false
   },
   "outputs": [
    {
     "data": {
      "text/plain": [
       "DatetimeIndex(['2017-02-01', '2017-02-02', '2017-02-03', '2017-02-04',\n",
       "               '2017-02-05', '2017-02-06'],\n",
       "              dtype='datetime64[ns]', freq='D')"
      ]
     },
     "execution_count": 9,
     "metadata": {},
     "output_type": "execute_result"
    }
   ],
   "source": [
    "dates = pd.date_range('20170201', periods=6)\n",
    "dates"
   ]
  },
  {
   "cell_type": "code",
   "execution_count": 15,
   "metadata": {
    "collapsed": false
   },
   "outputs": [
    {
     "name": "stdout",
     "output_type": "stream",
     "text": [
      "(6, 4)\n",
      "[[-0.68748146  1.5624717  -1.18655232 -0.351009  ]\n",
      " [ 2.2283084   0.59969524 -1.10108088 -0.0092997 ]\n",
      " [ 0.43225646  1.14100044 -1.04140552 -1.17444282]\n",
      " [ 0.48063333  1.85161253 -0.89420039  0.7938157 ]\n",
      " [ 0.14387154  0.35515524 -0.43534071  0.79838422]\n",
      " [-0.82151108  2.63205374  0.04865438 -0.43489395]]\n"
     ]
    },
    {
     "data": {
      "text/html": [
       "<div>\n",
       "<table border=\"1\" class=\"dataframe\">\n",
       "  <thead>\n",
       "    <tr style=\"text-align: right;\">\n",
       "      <th></th>\n",
       "      <th>A</th>\n",
       "      <th>B</th>\n",
       "      <th>C</th>\n",
       "      <th>D</th>\n",
       "    </tr>\n",
       "  </thead>\n",
       "  <tbody>\n",
       "    <tr>\n",
       "      <th>2017-02-01</th>\n",
       "      <td>-0.687481</td>\n",
       "      <td>1.562472</td>\n",
       "      <td>-1.186552</td>\n",
       "      <td>-0.351009</td>\n",
       "    </tr>\n",
       "    <tr>\n",
       "      <th>2017-02-02</th>\n",
       "      <td>2.228308</td>\n",
       "      <td>0.599695</td>\n",
       "      <td>-1.101081</td>\n",
       "      <td>-0.009300</td>\n",
       "    </tr>\n",
       "    <tr>\n",
       "      <th>2017-02-03</th>\n",
       "      <td>0.432256</td>\n",
       "      <td>1.141000</td>\n",
       "      <td>-1.041406</td>\n",
       "      <td>-1.174443</td>\n",
       "    </tr>\n",
       "    <tr>\n",
       "      <th>2017-02-04</th>\n",
       "      <td>0.480633</td>\n",
       "      <td>1.851613</td>\n",
       "      <td>-0.894200</td>\n",
       "      <td>0.793816</td>\n",
       "    </tr>\n",
       "    <tr>\n",
       "      <th>2017-02-05</th>\n",
       "      <td>0.143872</td>\n",
       "      <td>0.355155</td>\n",
       "      <td>-0.435341</td>\n",
       "      <td>0.798384</td>\n",
       "    </tr>\n",
       "    <tr>\n",
       "      <th>2017-02-06</th>\n",
       "      <td>-0.821511</td>\n",
       "      <td>2.632054</td>\n",
       "      <td>0.048654</td>\n",
       "      <td>-0.434894</td>\n",
       "    </tr>\n",
       "  </tbody>\n",
       "</table>\n",
       "</div>"
      ],
      "text/plain": [
       "                   A         B         C         D\n",
       "2017-02-01 -0.687481  1.562472 -1.186552 -0.351009\n",
       "2017-02-02  2.228308  0.599695 -1.101081 -0.009300\n",
       "2017-02-03  0.432256  1.141000 -1.041406 -1.174443\n",
       "2017-02-04  0.480633  1.851613 -0.894200  0.793816\n",
       "2017-02-05  0.143872  0.355155 -0.435341  0.798384\n",
       "2017-02-06 -0.821511  2.632054  0.048654 -0.434894"
      ]
     },
     "execution_count": 15,
     "metadata": {},
     "output_type": "execute_result"
    }
   ],
   "source": [
    "x = np.random.randn(6,4)\n",
    "print(x.shape)\n",
    "print(x)\n",
    "df = pd.DataFrame(x, index=dates, columns=list('ABCD') )\n",
    "df"
   ]
  },
  {
   "cell_type": "code",
   "execution_count": 21,
   "metadata": {
    "collapsed": false
   },
   "outputs": [
    {
     "data": {
      "text/html": [
       "<div>\n",
       "<table border=\"1\" class=\"dataframe\">\n",
       "  <thead>\n",
       "    <tr style=\"text-align: right;\">\n",
       "      <th></th>\n",
       "      <th>A</th>\n",
       "      <th>B</th>\n",
       "      <th>C</th>\n",
       "      <th>D</th>\n",
       "      <th>E</th>\n",
       "      <th>F</th>\n",
       "    </tr>\n",
       "  </thead>\n",
       "  <tbody>\n",
       "    <tr>\n",
       "      <th>0</th>\n",
       "      <td>1.0</td>\n",
       "      <td>2017-02-01</td>\n",
       "      <td>1.0</td>\n",
       "      <td>3</td>\n",
       "      <td>test</td>\n",
       "      <td>foo</td>\n",
       "    </tr>\n",
       "    <tr>\n",
       "      <th>1</th>\n",
       "      <td>1.0</td>\n",
       "      <td>2017-02-01</td>\n",
       "      <td>1.0</td>\n",
       "      <td>3</td>\n",
       "      <td>train</td>\n",
       "      <td>foo</td>\n",
       "    </tr>\n",
       "    <tr>\n",
       "      <th>2</th>\n",
       "      <td>1.0</td>\n",
       "      <td>2017-02-01</td>\n",
       "      <td>1.0</td>\n",
       "      <td>3</td>\n",
       "      <td>test</td>\n",
       "      <td>foo</td>\n",
       "    </tr>\n",
       "    <tr>\n",
       "      <th>3</th>\n",
       "      <td>1.0</td>\n",
       "      <td>2017-02-01</td>\n",
       "      <td>1.0</td>\n",
       "      <td>3</td>\n",
       "      <td>train</td>\n",
       "      <td>foo</td>\n",
       "    </tr>\n",
       "  </tbody>\n",
       "</table>\n",
       "</div>"
      ],
      "text/plain": [
       "     A          B    C  D      E    F\n",
       "0  1.0 2017-02-01  1.0  3   test  foo\n",
       "1  1.0 2017-02-01  1.0  3  train  foo\n",
       "2  1.0 2017-02-01  1.0  3   test  foo\n",
       "3  1.0 2017-02-01  1.0  3  train  foo"
      ]
     },
     "execution_count": 21,
     "metadata": {},
     "output_type": "execute_result"
    }
   ],
   "source": [
    "# Objects that can be converted to \"series-like\"\n",
    "df2 = pd.DataFrame({'A' : 1.,\n",
    "       'B' : pd.Timestamp('20170201'),\n",
    "       'C' : pd.Series(1,index=list(range(4)),dtype='float32'),\n",
    "       'D' : np.array([3] * 4, dtype='int32'),\n",
    "       'E' : pd.Categorical([\"test\", \"train\", \"test\", \"train\"]),\n",
    "       'F' : 'foo' })\n",
    "\n",
    "df2"
   ]
  },
  {
   "cell_type": "code",
   "execution_count": 22,
   "metadata": {
    "collapsed": false
   },
   "outputs": [
    {
     "data": {
      "text/plain": [
       "A           float64\n",
       "B    datetime64[ns]\n",
       "C           float32\n",
       "D             int32\n",
       "E          category\n",
       "F            object\n",
       "dtype: object"
      ]
     },
     "execution_count": 22,
     "metadata": {},
     "output_type": "execute_result"
    }
   ],
   "source": [
    "# Print out the types in df2.\n",
    "df2.dtypes"
   ]
  },
  {
   "cell_type": "markdown",
   "metadata": {},
   "source": [
    "# Viewing Data"
   ]
  },
  {
   "cell_type": "code",
   "execution_count": 23,
   "metadata": {
    "collapsed": false
   },
   "outputs": [
    {
     "data": {
      "text/html": [
       "<div>\n",
       "<table border=\"1\" class=\"dataframe\">\n",
       "  <thead>\n",
       "    <tr style=\"text-align: right;\">\n",
       "      <th></th>\n",
       "      <th>A</th>\n",
       "      <th>B</th>\n",
       "      <th>C</th>\n",
       "      <th>D</th>\n",
       "    </tr>\n",
       "  </thead>\n",
       "  <tbody>\n",
       "    <tr>\n",
       "      <th>2017-02-01</th>\n",
       "      <td>-0.687481</td>\n",
       "      <td>1.562472</td>\n",
       "      <td>-1.186552</td>\n",
       "      <td>-0.351009</td>\n",
       "    </tr>\n",
       "    <tr>\n",
       "      <th>2017-02-02</th>\n",
       "      <td>2.228308</td>\n",
       "      <td>0.599695</td>\n",
       "      <td>-1.101081</td>\n",
       "      <td>-0.009300</td>\n",
       "    </tr>\n",
       "    <tr>\n",
       "      <th>2017-02-03</th>\n",
       "      <td>0.432256</td>\n",
       "      <td>1.141000</td>\n",
       "      <td>-1.041406</td>\n",
       "      <td>-1.174443</td>\n",
       "    </tr>\n",
       "    <tr>\n",
       "      <th>2017-02-04</th>\n",
       "      <td>0.480633</td>\n",
       "      <td>1.851613</td>\n",
       "      <td>-0.894200</td>\n",
       "      <td>0.793816</td>\n",
       "    </tr>\n",
       "    <tr>\n",
       "      <th>2017-02-05</th>\n",
       "      <td>0.143872</td>\n",
       "      <td>0.355155</td>\n",
       "      <td>-0.435341</td>\n",
       "      <td>0.798384</td>\n",
       "    </tr>\n",
       "  </tbody>\n",
       "</table>\n",
       "</div>"
      ],
      "text/plain": [
       "                   A         B         C         D\n",
       "2017-02-01 -0.687481  1.562472 -1.186552 -0.351009\n",
       "2017-02-02  2.228308  0.599695 -1.101081 -0.009300\n",
       "2017-02-03  0.432256  1.141000 -1.041406 -1.174443\n",
       "2017-02-04  0.480633  1.851613 -0.894200  0.793816\n",
       "2017-02-05  0.143872  0.355155 -0.435341  0.798384"
      ]
     },
     "execution_count": 23,
     "metadata": {},
     "output_type": "execute_result"
    }
   ],
   "source": [
    "df.head()"
   ]
  },
  {
   "cell_type": "code",
   "execution_count": 24,
   "metadata": {
    "collapsed": false
   },
   "outputs": [
    {
     "data": {
      "text/html": [
       "<div>\n",
       "<table border=\"1\" class=\"dataframe\">\n",
       "  <thead>\n",
       "    <tr style=\"text-align: right;\">\n",
       "      <th></th>\n",
       "      <th>A</th>\n",
       "      <th>B</th>\n",
       "      <th>C</th>\n",
       "      <th>D</th>\n",
       "    </tr>\n",
       "  </thead>\n",
       "  <tbody>\n",
       "    <tr>\n",
       "      <th>2017-02-02</th>\n",
       "      <td>2.228308</td>\n",
       "      <td>0.599695</td>\n",
       "      <td>-1.101081</td>\n",
       "      <td>-0.009300</td>\n",
       "    </tr>\n",
       "    <tr>\n",
       "      <th>2017-02-03</th>\n",
       "      <td>0.432256</td>\n",
       "      <td>1.141000</td>\n",
       "      <td>-1.041406</td>\n",
       "      <td>-1.174443</td>\n",
       "    </tr>\n",
       "    <tr>\n",
       "      <th>2017-02-04</th>\n",
       "      <td>0.480633</td>\n",
       "      <td>1.851613</td>\n",
       "      <td>-0.894200</td>\n",
       "      <td>0.793816</td>\n",
       "    </tr>\n",
       "    <tr>\n",
       "      <th>2017-02-05</th>\n",
       "      <td>0.143872</td>\n",
       "      <td>0.355155</td>\n",
       "      <td>-0.435341</td>\n",
       "      <td>0.798384</td>\n",
       "    </tr>\n",
       "    <tr>\n",
       "      <th>2017-02-06</th>\n",
       "      <td>-0.821511</td>\n",
       "      <td>2.632054</td>\n",
       "      <td>0.048654</td>\n",
       "      <td>-0.434894</td>\n",
       "    </tr>\n",
       "  </tbody>\n",
       "</table>\n",
       "</div>"
      ],
      "text/plain": [
       "                   A         B         C         D\n",
       "2017-02-02  2.228308  0.599695 -1.101081 -0.009300\n",
       "2017-02-03  0.432256  1.141000 -1.041406 -1.174443\n",
       "2017-02-04  0.480633  1.851613 -0.894200  0.793816\n",
       "2017-02-05  0.143872  0.355155 -0.435341  0.798384\n",
       "2017-02-06 -0.821511  2.632054  0.048654 -0.434894"
      ]
     },
     "execution_count": 24,
     "metadata": {},
     "output_type": "execute_result"
    }
   ],
   "source": [
    "df.tail()"
   ]
  },
  {
   "cell_type": "code",
   "execution_count": 25,
   "metadata": {
    "collapsed": false
   },
   "outputs": [
    {
     "data": {
      "text/html": [
       "<div>\n",
       "<table border=\"1\" class=\"dataframe\">\n",
       "  <thead>\n",
       "    <tr style=\"text-align: right;\">\n",
       "      <th></th>\n",
       "      <th>A</th>\n",
       "      <th>B</th>\n",
       "      <th>C</th>\n",
       "      <th>D</th>\n",
       "    </tr>\n",
       "  </thead>\n",
       "  <tbody>\n",
       "    <tr>\n",
       "      <th>2017-02-06</th>\n",
       "      <td>-0.821511</td>\n",
       "      <td>2.632054</td>\n",
       "      <td>0.048654</td>\n",
       "      <td>-0.434894</td>\n",
       "    </tr>\n",
       "  </tbody>\n",
       "</table>\n",
       "</div>"
      ],
      "text/plain": [
       "                   A         B         C         D\n",
       "2017-02-06 -0.821511  2.632054  0.048654 -0.434894"
      ]
     },
     "execution_count": 25,
     "metadata": {},
     "output_type": "execute_result"
    }
   ],
   "source": [
    "df.tail(1)"
   ]
  },
  {
   "cell_type": "code",
   "execution_count": 26,
   "metadata": {
    "collapsed": false
   },
   "outputs": [
    {
     "data": {
      "text/html": [
       "<div>\n",
       "<table border=\"1\" class=\"dataframe\">\n",
       "  <thead>\n",
       "    <tr style=\"text-align: right;\">\n",
       "      <th></th>\n",
       "      <th>A</th>\n",
       "      <th>B</th>\n",
       "      <th>C</th>\n",
       "      <th>D</th>\n",
       "    </tr>\n",
       "  </thead>\n",
       "  <tbody>\n",
       "    <tr>\n",
       "      <th>2017-02-01</th>\n",
       "      <td>-0.687481</td>\n",
       "      <td>1.562472</td>\n",
       "      <td>-1.186552</td>\n",
       "      <td>-0.351009</td>\n",
       "    </tr>\n",
       "  </tbody>\n",
       "</table>\n",
       "</div>"
      ],
      "text/plain": [
       "                   A         B         C         D\n",
       "2017-02-01 -0.687481  1.562472 -1.186552 -0.351009"
      ]
     },
     "execution_count": 26,
     "metadata": {},
     "output_type": "execute_result"
    }
   ],
   "source": [
    "df.head(1)"
   ]
  },
  {
   "cell_type": "code",
   "execution_count": 27,
   "metadata": {
    "collapsed": false
   },
   "outputs": [
    {
     "data": {
      "text/plain": [
       "DatetimeIndex(['2017-02-01', '2017-02-02', '2017-02-03', '2017-02-04',\n",
       "               '2017-02-05', '2017-02-06'],\n",
       "              dtype='datetime64[ns]', freq='D')"
      ]
     },
     "execution_count": 27,
     "metadata": {},
     "output_type": "execute_result"
    }
   ],
   "source": [
    "df.index"
   ]
  },
  {
   "cell_type": "code",
   "execution_count": 28,
   "metadata": {
    "collapsed": false
   },
   "outputs": [
    {
     "data": {
      "text/plain": [
       "Index(['A', 'B', 'C', 'D'], dtype='object')"
      ]
     },
     "execution_count": 28,
     "metadata": {},
     "output_type": "execute_result"
    }
   ],
   "source": [
    "df.columns"
   ]
  },
  {
   "cell_type": "code",
   "execution_count": 29,
   "metadata": {
    "collapsed": false
   },
   "outputs": [
    {
     "data": {
      "text/plain": [
       "array([[-0.68748146,  1.5624717 , -1.18655232, -0.351009  ],\n",
       "       [ 2.2283084 ,  0.59969524, -1.10108088, -0.0092997 ],\n",
       "       [ 0.43225646,  1.14100044, -1.04140552, -1.17444282],\n",
       "       [ 0.48063333,  1.85161253, -0.89420039,  0.7938157 ],\n",
       "       [ 0.14387154,  0.35515524, -0.43534071,  0.79838422],\n",
       "       [-0.82151108,  2.63205374,  0.04865438, -0.43489395]])"
      ]
     },
     "execution_count": 29,
     "metadata": {},
     "output_type": "execute_result"
    }
   ],
   "source": [
    "df.values"
   ]
  },
  {
   "cell_type": "code",
   "execution_count": 30,
   "metadata": {
    "collapsed": false
   },
   "outputs": [
    {
     "data": {
      "text/html": [
       "<div>\n",
       "<table border=\"1\" class=\"dataframe\">\n",
       "  <thead>\n",
       "    <tr style=\"text-align: right;\">\n",
       "      <th></th>\n",
       "      <th>A</th>\n",
       "      <th>B</th>\n",
       "      <th>C</th>\n",
       "      <th>D</th>\n",
       "    </tr>\n",
       "  </thead>\n",
       "  <tbody>\n",
       "    <tr>\n",
       "      <th>count</th>\n",
       "      <td>6.000000</td>\n",
       "      <td>6.000000</td>\n",
       "      <td>6.000000</td>\n",
       "      <td>6.000000</td>\n",
       "    </tr>\n",
       "    <tr>\n",
       "      <th>mean</th>\n",
       "      <td>0.296013</td>\n",
       "      <td>1.356998</td>\n",
       "      <td>-0.768321</td>\n",
       "      <td>-0.062908</td>\n",
       "    </tr>\n",
       "    <tr>\n",
       "      <th>std</th>\n",
       "      <td>1.097787</td>\n",
       "      <td>0.841009</td>\n",
       "      <td>0.480498</td>\n",
       "      <td>0.766232</td>\n",
       "    </tr>\n",
       "    <tr>\n",
       "      <th>min</th>\n",
       "      <td>-0.821511</td>\n",
       "      <td>0.355155</td>\n",
       "      <td>-1.186552</td>\n",
       "      <td>-1.174443</td>\n",
       "    </tr>\n",
       "    <tr>\n",
       "      <th>25%</th>\n",
       "      <td>-0.479643</td>\n",
       "      <td>0.735022</td>\n",
       "      <td>-1.086162</td>\n",
       "      <td>-0.413923</td>\n",
       "    </tr>\n",
       "    <tr>\n",
       "      <th>50%</th>\n",
       "      <td>0.288064</td>\n",
       "      <td>1.351736</td>\n",
       "      <td>-0.967803</td>\n",
       "      <td>-0.180154</td>\n",
       "    </tr>\n",
       "    <tr>\n",
       "      <th>75%</th>\n",
       "      <td>0.468539</td>\n",
       "      <td>1.779327</td>\n",
       "      <td>-0.550056</td>\n",
       "      <td>0.593037</td>\n",
       "    </tr>\n",
       "    <tr>\n",
       "      <th>max</th>\n",
       "      <td>2.228308</td>\n",
       "      <td>2.632054</td>\n",
       "      <td>0.048654</td>\n",
       "      <td>0.798384</td>\n",
       "    </tr>\n",
       "  </tbody>\n",
       "</table>\n",
       "</div>"
      ],
      "text/plain": [
       "              A         B         C         D\n",
       "count  6.000000  6.000000  6.000000  6.000000\n",
       "mean   0.296013  1.356998 -0.768321 -0.062908\n",
       "std    1.097787  0.841009  0.480498  0.766232\n",
       "min   -0.821511  0.355155 -1.186552 -1.174443\n",
       "25%   -0.479643  0.735022 -1.086162 -0.413923\n",
       "50%    0.288064  1.351736 -0.967803 -0.180154\n",
       "75%    0.468539  1.779327 -0.550056  0.593037\n",
       "max    2.228308  2.632054  0.048654  0.798384"
      ]
     },
     "execution_count": 30,
     "metadata": {},
     "output_type": "execute_result"
    }
   ],
   "source": [
    "# Get quick statistics. -- Useful!\n",
    "df.describe()"
   ]
  },
  {
   "cell_type": "code",
   "execution_count": 31,
   "metadata": {
    "collapsed": false
   },
   "outputs": [
    {
     "data": {
      "text/html": [
       "<div>\n",
       "<table border=\"1\" class=\"dataframe\">\n",
       "  <thead>\n",
       "    <tr style=\"text-align: right;\">\n",
       "      <th></th>\n",
       "      <th>2017-02-01 00:00:00</th>\n",
       "      <th>2017-02-02 00:00:00</th>\n",
       "      <th>2017-02-03 00:00:00</th>\n",
       "      <th>2017-02-04 00:00:00</th>\n",
       "      <th>2017-02-05 00:00:00</th>\n",
       "      <th>2017-02-06 00:00:00</th>\n",
       "    </tr>\n",
       "  </thead>\n",
       "  <tbody>\n",
       "    <tr>\n",
       "      <th>A</th>\n",
       "      <td>-0.687481</td>\n",
       "      <td>2.228308</td>\n",
       "      <td>0.432256</td>\n",
       "      <td>0.480633</td>\n",
       "      <td>0.143872</td>\n",
       "      <td>-0.821511</td>\n",
       "    </tr>\n",
       "    <tr>\n",
       "      <th>B</th>\n",
       "      <td>1.562472</td>\n",
       "      <td>0.599695</td>\n",
       "      <td>1.141000</td>\n",
       "      <td>1.851613</td>\n",
       "      <td>0.355155</td>\n",
       "      <td>2.632054</td>\n",
       "    </tr>\n",
       "    <tr>\n",
       "      <th>C</th>\n",
       "      <td>-1.186552</td>\n",
       "      <td>-1.101081</td>\n",
       "      <td>-1.041406</td>\n",
       "      <td>-0.894200</td>\n",
       "      <td>-0.435341</td>\n",
       "      <td>0.048654</td>\n",
       "    </tr>\n",
       "    <tr>\n",
       "      <th>D</th>\n",
       "      <td>-0.351009</td>\n",
       "      <td>-0.009300</td>\n",
       "      <td>-1.174443</td>\n",
       "      <td>0.793816</td>\n",
       "      <td>0.798384</td>\n",
       "      <td>-0.434894</td>\n",
       "    </tr>\n",
       "  </tbody>\n",
       "</table>\n",
       "</div>"
      ],
      "text/plain": [
       "   2017-02-01  2017-02-02  2017-02-03  2017-02-04  2017-02-05  2017-02-06\n",
       "A   -0.687481    2.228308    0.432256    0.480633    0.143872   -0.821511\n",
       "B    1.562472    0.599695    1.141000    1.851613    0.355155    2.632054\n",
       "C   -1.186552   -1.101081   -1.041406   -0.894200   -0.435341    0.048654\n",
       "D   -0.351009   -0.009300   -1.174443    0.793816    0.798384   -0.434894"
      ]
     },
     "execution_count": 31,
     "metadata": {},
     "output_type": "execute_result"
    }
   ],
   "source": [
    "df.T # Transpose."
   ]
  },
  {
   "cell_type": "code",
   "execution_count": 36,
   "metadata": {
    "collapsed": false
   },
   "outputs": [
    {
     "data": {
      "text/html": [
       "<div>\n",
       "<table border=\"1\" class=\"dataframe\">\n",
       "  <thead>\n",
       "    <tr style=\"text-align: right;\">\n",
       "      <th></th>\n",
       "      <th>D</th>\n",
       "      <th>C</th>\n",
       "      <th>B</th>\n",
       "      <th>A</th>\n",
       "    </tr>\n",
       "  </thead>\n",
       "  <tbody>\n",
       "    <tr>\n",
       "      <th>2017-02-01</th>\n",
       "      <td>-0.351009</td>\n",
       "      <td>-1.186552</td>\n",
       "      <td>1.562472</td>\n",
       "      <td>-0.687481</td>\n",
       "    </tr>\n",
       "    <tr>\n",
       "      <th>2017-02-02</th>\n",
       "      <td>-0.009300</td>\n",
       "      <td>-1.101081</td>\n",
       "      <td>0.599695</td>\n",
       "      <td>2.228308</td>\n",
       "    </tr>\n",
       "    <tr>\n",
       "      <th>2017-02-03</th>\n",
       "      <td>-1.174443</td>\n",
       "      <td>-1.041406</td>\n",
       "      <td>1.141000</td>\n",
       "      <td>0.432256</td>\n",
       "    </tr>\n",
       "    <tr>\n",
       "      <th>2017-02-04</th>\n",
       "      <td>0.793816</td>\n",
       "      <td>-0.894200</td>\n",
       "      <td>1.851613</td>\n",
       "      <td>0.480633</td>\n",
       "    </tr>\n",
       "    <tr>\n",
       "      <th>2017-02-05</th>\n",
       "      <td>0.798384</td>\n",
       "      <td>-0.435341</td>\n",
       "      <td>0.355155</td>\n",
       "      <td>0.143872</td>\n",
       "    </tr>\n",
       "    <tr>\n",
       "      <th>2017-02-06</th>\n",
       "      <td>-0.434894</td>\n",
       "      <td>0.048654</td>\n",
       "      <td>2.632054</td>\n",
       "      <td>-0.821511</td>\n",
       "    </tr>\n",
       "  </tbody>\n",
       "</table>\n",
       "</div>"
      ],
      "text/plain": [
       "                   D         C         B         A\n",
       "2017-02-01 -0.351009 -1.186552  1.562472 -0.687481\n",
       "2017-02-02 -0.009300 -1.101081  0.599695  2.228308\n",
       "2017-02-03 -1.174443 -1.041406  1.141000  0.432256\n",
       "2017-02-04  0.793816 -0.894200  1.851613  0.480633\n",
       "2017-02-05  0.798384 -0.435341  0.355155  0.143872\n",
       "2017-02-06 -0.434894  0.048654  2.632054 -0.821511"
      ]
     },
     "execution_count": 36,
     "metadata": {},
     "output_type": "execute_result"
    }
   ],
   "source": [
    "df.sort_index(axis=1, ascending=False) # Sort by the 1th axis (starts at 0) -- the dates."
   ]
  },
  {
   "cell_type": "code",
   "execution_count": 37,
   "metadata": {
    "collapsed": false
   },
   "outputs": [
    {
     "data": {
      "text/html": [
       "<div>\n",
       "<table border=\"1\" class=\"dataframe\">\n",
       "  <thead>\n",
       "    <tr style=\"text-align: right;\">\n",
       "      <th></th>\n",
       "      <th>A</th>\n",
       "      <th>B</th>\n",
       "      <th>C</th>\n",
       "      <th>D</th>\n",
       "    </tr>\n",
       "  </thead>\n",
       "  <tbody>\n",
       "    <tr>\n",
       "      <th>2017-02-01</th>\n",
       "      <td>-0.687481</td>\n",
       "      <td>1.562472</td>\n",
       "      <td>-1.186552</td>\n",
       "      <td>-0.351009</td>\n",
       "    </tr>\n",
       "    <tr>\n",
       "      <th>2017-02-02</th>\n",
       "      <td>2.228308</td>\n",
       "      <td>0.599695</td>\n",
       "      <td>-1.101081</td>\n",
       "      <td>-0.009300</td>\n",
       "    </tr>\n",
       "    <tr>\n",
       "      <th>2017-02-03</th>\n",
       "      <td>0.432256</td>\n",
       "      <td>1.141000</td>\n",
       "      <td>-1.041406</td>\n",
       "      <td>-1.174443</td>\n",
       "    </tr>\n",
       "    <tr>\n",
       "      <th>2017-02-04</th>\n",
       "      <td>0.480633</td>\n",
       "      <td>1.851613</td>\n",
       "      <td>-0.894200</td>\n",
       "      <td>0.793816</td>\n",
       "    </tr>\n",
       "    <tr>\n",
       "      <th>2017-02-05</th>\n",
       "      <td>0.143872</td>\n",
       "      <td>0.355155</td>\n",
       "      <td>-0.435341</td>\n",
       "      <td>0.798384</td>\n",
       "    </tr>\n",
       "    <tr>\n",
       "      <th>2017-02-06</th>\n",
       "      <td>-0.821511</td>\n",
       "      <td>2.632054</td>\n",
       "      <td>0.048654</td>\n",
       "      <td>-0.434894</td>\n",
       "    </tr>\n",
       "  </tbody>\n",
       "</table>\n",
       "</div>"
      ],
      "text/plain": [
       "                   A         B         C         D\n",
       "2017-02-01 -0.687481  1.562472 -1.186552 -0.351009\n",
       "2017-02-02  2.228308  0.599695 -1.101081 -0.009300\n",
       "2017-02-03  0.432256  1.141000 -1.041406 -1.174443\n",
       "2017-02-04  0.480633  1.851613 -0.894200  0.793816\n",
       "2017-02-05  0.143872  0.355155 -0.435341  0.798384\n",
       "2017-02-06 -0.821511  2.632054  0.048654 -0.434894"
      ]
     },
     "execution_count": 37,
     "metadata": {},
     "output_type": "execute_result"
    }
   ],
   "source": [
    "df.sort_values(by='C') # Sort by C."
   ]
  },
  {
   "cell_type": "markdown",
   "metadata": {},
   "source": [
    "# Selection"
   ]
  },
  {
   "cell_type": "markdown",
   "metadata": {},
   "source": [
    "### Getting"
   ]
  },
  {
   "cell_type": "code",
   "execution_count": 40,
   "metadata": {
    "collapsed": false
   },
   "outputs": [
    {
     "data": {
      "text/html": [
       "<div>\n",
       "<table border=\"1\" class=\"dataframe\">\n",
       "  <thead>\n",
       "    <tr style=\"text-align: right;\">\n",
       "      <th></th>\n",
       "      <th>A</th>\n",
       "      <th>B</th>\n",
       "      <th>C</th>\n",
       "      <th>D</th>\n",
       "    </tr>\n",
       "  </thead>\n",
       "  <tbody>\n",
       "    <tr>\n",
       "      <th>2017-02-01</th>\n",
       "      <td>-0.687481</td>\n",
       "      <td>1.562472</td>\n",
       "      <td>-1.186552</td>\n",
       "      <td>-0.351009</td>\n",
       "    </tr>\n",
       "    <tr>\n",
       "      <th>2017-02-02</th>\n",
       "      <td>2.228308</td>\n",
       "      <td>0.599695</td>\n",
       "      <td>-1.101081</td>\n",
       "      <td>-0.009300</td>\n",
       "    </tr>\n",
       "    <tr>\n",
       "      <th>2017-02-03</th>\n",
       "      <td>0.432256</td>\n",
       "      <td>1.141000</td>\n",
       "      <td>-1.041406</td>\n",
       "      <td>-1.174443</td>\n",
       "    </tr>\n",
       "  </tbody>\n",
       "</table>\n",
       "</div>"
      ],
      "text/plain": [
       "                   A         B         C         D\n",
       "2017-02-01 -0.687481  1.562472 -1.186552 -0.351009\n",
       "2017-02-02  2.228308  0.599695 -1.101081 -0.009300\n",
       "2017-02-03  0.432256  1.141000 -1.041406 -1.174443"
      ]
     },
     "execution_count": 40,
     "metadata": {},
     "output_type": "execute_result"
    }
   ],
   "source": [
    "df['A'] # To select column \"A\"\n",
    "df[0:3] # Rows 0 to 3."
   ]
  },
  {
   "cell_type": "code",
   "execution_count": 41,
   "metadata": {
    "collapsed": false
   },
   "outputs": [
    {
     "data": {
      "text/html": [
       "<div>\n",
       "<table border=\"1\" class=\"dataframe\">\n",
       "  <thead>\n",
       "    <tr style=\"text-align: right;\">\n",
       "      <th></th>\n",
       "      <th>A</th>\n",
       "      <th>B</th>\n",
       "      <th>C</th>\n",
       "      <th>D</th>\n",
       "    </tr>\n",
       "  </thead>\n",
       "  <tbody>\n",
       "    <tr>\n",
       "      <th>2017-02-01</th>\n",
       "      <td>-0.687481</td>\n",
       "      <td>1.562472</td>\n",
       "      <td>-1.186552</td>\n",
       "      <td>-0.351009</td>\n",
       "    </tr>\n",
       "    <tr>\n",
       "      <th>2017-02-02</th>\n",
       "      <td>2.228308</td>\n",
       "      <td>0.599695</td>\n",
       "      <td>-1.101081</td>\n",
       "      <td>-0.009300</td>\n",
       "    </tr>\n",
       "  </tbody>\n",
       "</table>\n",
       "</div>"
      ],
      "text/plain": [
       "                   A         B         C         D\n",
       "2017-02-01 -0.687481  1.562472 -1.186552 -0.351009\n",
       "2017-02-02  2.228308  0.599695 -1.101081 -0.009300"
      ]
     },
     "execution_count": 41,
     "metadata": {},
     "output_type": "execute_result"
    }
   ],
   "source": [
    "df['20170201':'20170202'] # Select the rows from Feb1-Feb2."
   ]
  },
  {
   "cell_type": "markdown",
   "metadata": {},
   "source": [
    "### Selection by Label"
   ]
  },
  {
   "cell_type": "code",
   "execution_count": null,
   "metadata": {
    "collapsed": true
   },
   "outputs": [],
   "source": []
  }
 ],
 "metadata": {
  "anaconda-cloud": {},
  "kernelspec": {
   "display_name": "Python [conda root]",
   "language": "python",
   "name": "conda-root-py"
  },
  "language_info": {
   "codemirror_mode": {
    "name": "ipython",
    "version": 3
   },
   "file_extension": ".py",
   "mimetype": "text/x-python",
   "name": "python",
   "nbconvert_exporter": "python",
   "pygments_lexer": "ipython3",
   "version": "3.5.2"
  }
 },
 "nbformat": 4,
 "nbformat_minor": 1
}
